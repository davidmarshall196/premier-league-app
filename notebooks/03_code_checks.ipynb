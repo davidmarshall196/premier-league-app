{
 "cells": [
  {
   "cell_type": "markdown",
   "id": "45c92254-ec10-4c5a-a1dd-5fe653d9a09c",
   "metadata": {},
   "source": [
    "# Code Quality Checks"
   ]
  },
  {
   "cell_type": "code",
   "execution_count": null,
   "id": "48631d77-6dce-456b-a58d-e663a8eb1fd9",
   "metadata": {},
   "outputs": [],
   "source": [
    "try:\n",
    "    from premier_league import constants\n",
    "    from premier_league import code_quality_functions\n",
    "except ImportError:\n",
    "    import constants\n",
    "    import code_quality_functions"
   ]
  },
  {
   "cell_type": "markdown",
   "id": "852039e9-89fb-4908-8514-30e349a869cc",
   "metadata": {},
   "source": [
    "## Unit Tests"
   ]
  },
  {
   "cell_type": "code",
   "execution_count": null,
   "id": "370a3694-60e4-4c2f-859f-8c5d10014840",
   "metadata": {},
   "outputs": [],
   "source": [
    "# Run unit tests\n",
    "if constants.LOCAL_MODE:\n",
    "    test_path = (\n",
    "        '/Users/david@inawisdom.com/Documents/Training/premier_league/tests/run_tests.py')\n",
    "    r = code_quality_functions.run_unit_tests(\n",
    "        'test_preprocessing.py',\n",
    "        'premier_league',\n",
    "        'premier_league'\n",
    "    )"
   ]
  },
  {
   "cell_type": "markdown",
   "id": "eed5fe90-f73b-4742-8de9-108f1cfe5561",
   "metadata": {},
   "source": [
    "## Black and Flake8"
   ]
  },
  {
   "cell_type": "code",
   "execution_count": null,
   "id": "d40a6805-60c4-4612-8e9d-d5354369596a",
   "metadata": {},
   "outputs": [],
   "source": [
    "if constants.LOCAL_MODE:\n",
    "    code_quality_functions.run_code_quality_checks(\n",
    "        'premier_league'\n",
    "    )"
   ]
  }
 ],
 "metadata": {
  "kernelspec": {
   "display_name": "tsb-analysis",
   "language": "python",
   "name": "tsb-analysis"
  },
  "language_info": {
   "codemirror_mode": {
    "name": "ipython",
    "version": 3
   },
   "file_extension": ".py",
   "mimetype": "text/x-python",
   "name": "python",
   "nbconvert_exporter": "python",
   "pygments_lexer": "ipython3",
   "version": "3.8.10"
  }
 },
 "nbformat": 4,
 "nbformat_minor": 5
}
