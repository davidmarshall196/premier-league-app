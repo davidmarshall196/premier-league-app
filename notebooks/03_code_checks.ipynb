{
 "cells": [
  {
   "cell_type": "markdown",
   "id": "45c92254-ec10-4c5a-a1dd-5fe653d9a09c",
   "metadata": {},
   "source": [
    "# Code Quality Checks"
   ]
  },
  {
   "cell_type": "code",
   "execution_count": 1,
   "id": "48631d77-6dce-456b-a58d-e663a8eb1fd9",
   "metadata": {},
   "outputs": [],
   "source": [
    "import sys\n",
    "sys.path.append('../')\n",
    "try:\n",
    "    from premier_league import constants\n",
    "    from premier_league import code_quality_functions\n",
    "except ModuleNotFoundError:\n",
    "    import constants\n",
    "    import code_quality_functions"
   ]
  },
  {
   "cell_type": "code",
   "execution_count": 2,
   "id": "37a098e9-8ebd-44aa-96fa-28fc797f01aa",
   "metadata": {},
   "outputs": [
    {
     "data": {
      "text/plain": [
       "'/Users/david@inawisdom.com/Documents/Training/premier_league/notebooks'"
      ]
     },
     "execution_count": 2,
     "metadata": {},
     "output_type": "execute_result"
    }
   ],
   "source": [
    "import os\n",
    "os.getcwd()"
   ]
  },
  {
   "cell_type": "markdown",
   "id": "852039e9-89fb-4908-8514-30e349a869cc",
   "metadata": {},
   "source": [
    "## Unit Tests"
   ]
  },
  {
   "cell_type": "code",
   "execution_count": 4,
   "id": "370a3694-60e4-4c2f-859f-8c5d10014840",
   "metadata": {},
   "outputs": [
    {
     "name": "stdout",
     "output_type": "stream",
     "text": [
      "\u001b[1m============================= test session starts ==============================\u001b[0m\n",
      "platform darwin -- Python 3.10.1, pytest-7.4.3, pluggy-1.3.0 -- /Users/david@inawisdom.com/Documents/Training/premier_league/env_premier_league/bin/python\n",
      "rootdir: /Users/david@inawisdom.com/Documents/Training/premier_league\n",
      "plugins: cov-4.1.0, mock-3.12.0, anyio-3.7.1\n",
      "\u001b[1mcollecting ... \u001b[0mcollected 26 items\n",
      "\n",
      "../tests/test_code_quality_functions.py::test_run_unit_tests \u001b[32mPASSED\u001b[0m\u001b[33m      [  3%]\u001b[0m\n",
      "../tests/test_code_quality_functions.py::test_run_unit_tests_failure \u001b[32mPASSED\u001b[0m\u001b[33m [  7%]\u001b[0m\n",
      "../tests/test_code_quality_functions.py::test_run_code_quality_checks[0---None] \u001b[32mPASSED\u001b[0m\u001b[33m [ 11%]\u001b[0m\n",
      "../tests/test_code_quality_functions.py::test_run_code_quality_checks[1-flake8 error--flake8 error] \u001b[32mPASSED\u001b[0m\u001b[33m [ 15%]\u001b[0m\n",
      "../tests/test_code_quality_functions.py::test_run_code_quality_checks[1--black error-black error] \u001b[32mPASSED\u001b[0m\u001b[33m [ 19%]\u001b[0m\n",
      "../tests/test_code_quality_functions.py::test_subprocess_error \u001b[32mPASSED\u001b[0m\u001b[33m    [ 23%]\u001b[0m\n",
      "../tests/test_data_drift_functions.py::test_init \u001b[32mPASSED\u001b[0m\u001b[33m                  [ 26%]\u001b[0m\n",
      "../tests/test_data_drift_functions.py::test_create_report \u001b[32mPASSED\u001b[0m\u001b[33m         [ 30%]\u001b[0m\n",
      "../tests/test_data_drift_functions.py::test_check_data_drift_no_drift \u001b[32mPASSED\u001b[0m\u001b[33m [ 34%]\u001b[0m\n",
      "../tests/test_expectations_helpers.py::test_column_type \u001b[32mPASSED\u001b[0m\u001b[33m           [ 38%]\u001b[0m\n",
      "../tests/test_expectations_helpers.py::test_missing_fraction \u001b[32mPASSED\u001b[0m\u001b[33m      [ 42%]\u001b[0m\n",
      "../tests/test_expectations_helpers.py::test_min_value \u001b[32mPASSED\u001b[0m\u001b[33m             [ 46%]\u001b[0m\n",
      "../tests/test_expectations_helpers.py::test_max_value \u001b[32mPASSED\u001b[0m\u001b[33m             [ 50%]\u001b[0m\n",
      "../tests/test_expectations_helpers.py::test_add_max_min_expectations \u001b[32mPASSED\u001b[0m\u001b[33m [ 53%]\u001b[0m\n",
      "../tests/test_expectations_helpers.py::test_add_cat_expectations \u001b[32mPASSED\u001b[0m\u001b[33m  [ 57%]\u001b[0m\n",
      "../tests/test_expectations_helpers.py::test_generate_expectations \u001b[32mPASSED\u001b[0m\u001b[33m [ 61%]\u001b[0m\n",
      "../tests/test_expectations_helpers.py::test_view_full_suite \u001b[32mPASSED\u001b[0m\u001b[33m       [ 65%]\u001b[0m\n",
      "../tests/test_expectations_helpers.py::test_view_suite_summary \u001b[32mPASSED\u001b[0m\u001b[33m    [ 69%]\u001b[0m\n",
      "../tests/test_preprocessing_helpers.py::test_get_goals_scored \u001b[32mPASSED\u001b[0m\u001b[33m     [ 73%]\u001b[0m\n",
      "../tests/test_preprocessing_helpers.py::test_get_goals_conceded \u001b[32mPASSED\u001b[0m\u001b[33m   [ 76%]\u001b[0m\n",
      "../tests/test_preprocessing_helpers.py::test_get_gss \u001b[32mPASSED\u001b[0m\u001b[33m              [ 80%]\u001b[0m\n",
      "../tests/test_preprocessing_helpers.py::test_get_points \u001b[32mPASSED\u001b[0m\u001b[33m           [ 84%]\u001b[0m\n",
      "../tests/test_preprocessing_helpers.py::test_get_cuml_points \u001b[32mPASSED\u001b[0m\u001b[33m      [ 88%]\u001b[0m\n",
      "../tests/test_preprocessing_helpers.py::test_get_matchres \u001b[32mPASSED\u001b[0m\u001b[33m         [ 92%]\u001b[0m\n",
      "../tests/test_preprocessing_helpers.py::test_get_agg_points \u001b[32mPASSED\u001b[0m\u001b[33m       [ 96%]\u001b[0m\n",
      "../tests/test_preprocessing_helpers.py::test_get_form \u001b[32mPASSED\u001b[0m\u001b[33m             [100%]\u001b[0m\n",
      "\n",
      "---------- coverage: platform darwin, python 3.10.1-final-0 ----------\n",
      "Name                                                                                                    Stmts   Miss  Cover   Missing\n",
      "-------------------------------------------------------------------------------------------------------------------------------------\n",
      "/Users/david@inawisdom.com/Documents/Training/premier_league/premier_league/__init__.py                     0      0   100%\n",
      "/Users/david@inawisdom.com/Documents/Training/premier_league/premier_league/app.py                         78     78     0%   1-215\n",
      "/Users/david@inawisdom.com/Documents/Training/premier_league/premier_league/code_quality_functions.py      45      9    80%   1-6, 38-39, 54, 71, 86\n",
      "/Users/david@inawisdom.com/Documents/Training/premier_league/premier_league/config.py                      18     18     0%   1-31\n",
      "/Users/david@inawisdom.com/Documents/Training/premier_league/premier_league/constants.py                   32     32     0%   1-67\n",
      "/Users/david@inawisdom.com/Documents/Training/premier_league/premier_league/data_drift_functions.py        57     17    70%   14-17, 64, 94-113, 141, 147-153\n",
      "/Users/david@inawisdom.com/Documents/Training/premier_league/premier_league/data_extraction.py            155    155     0%   1-355\n",
      "/Users/david@inawisdom.com/Documents/Training/premier_league/premier_league/email_functions.py             52     41    21%   9-11, 37-40, 69-77, 100-110, 138-165, 189-205\n",
      "/Users/david@inawisdom.com/Documents/Training/premier_league/premier_league/evaluation.py                  25     25     0%   2-59\n",
      "/Users/david@inawisdom.com/Documents/Training/premier_league/premier_league/expectations_helpers.py       170     79    54%   14-16, 175-179, 276-322, 338-356, 392-426, 445-480\n",
      "/Users/david@inawisdom.com/Documents/Training/premier_league/premier_league/inference_pipeline.py          36     36     0%   1-86\n",
      "/Users/david@inawisdom.com/Documents/Training/premier_league/premier_league/logger_config.py               45      7    84%   9-10, 59-61, 69-70, 77\n",
      "/Users/david@inawisdom.com/Documents/Training/premier_league/premier_league/mlflow_functions.py            45     45     0%   1-119\n",
      "/Users/david@inawisdom.com/Documents/Training/premier_league/premier_league/postgres.py                    61     61     0%   1-171\n",
      "/Users/david@inawisdom.com/Documents/Training/premier_league/premier_league/prediction.py                  48     48     0%   2-151\n",
      "/Users/david@inawisdom.com/Documents/Training/premier_league/premier_league/preprocessing.py               46     46     0%   1-139\n",
      "/Users/david@inawisdom.com/Documents/Training/premier_league/premier_league/preprocessing_helpers.py      340    194    43%   109, 232, 259-263, 281-302, 319-324, 340-347, 364-368, 386-390, 406-410, 426-430, 456-460, 477-480, 497-513, 526-529, 542-545, 558-561, 574-577, 593-602, 615-617, 631-633, 649-712, 728-743, 757-763, 779-786, 802-806, 822-828, 843-849, 868-882, 898-903, 917-918, 933-952, 968-992\n",
      "/Users/david@inawisdom.com/Documents/Training/premier_league/premier_league/training.py                    97     97     0%   2-253\n",
      "/Users/david@inawisdom.com/Documents/Training/premier_league/premier_league/visualisations.py             254    254     0%   1-792\n",
      "-------------------------------------------------------------------------------------------------------------------------------------\n",
      "TOTAL                                                                                                    1604   1242    23%\n",
      "\n",
      "\n",
      "\u001b[33m======================= \u001b[32m26 passed\u001b[0m, \u001b[33m\u001b[1m3 warnings\u001b[0m\u001b[33m in 34.01s\u001b[0m\u001b[33m ========================\u001b[0m\n"
     ]
    },
    {
     "name": "stderr",
     "output_type": "stream",
     "text": [
      "/Users/david@inawisdom.com/Documents/Training/premier_league/env_premier_league/lib/python3.10/site-packages/coverage/inorout.py:523: CoverageWarning: Module premier_league was previously imported, but not measured (module-not-measured)\n",
      "  self.warn(msg, slug=\"module-not-measured\")\n",
      "/Users/david@inawisdom.com/Documents/Training/premier_league/env_premier_league/lib/python3.10/site-packages/coverage/report_core.py:109: CoverageWarning: Couldn't parse Python file '/Users/david@inawisdom.com/Documents/Training/premier_league/premier_league/s3_helpers.py' (couldnt-parse)\n",
      "  coverage._warn(msg, slug=\"couldnt-parse\")\n"
     ]
    }
   ],
   "source": [
    "# Run unit tests\n",
    "\n",
    "if constants.LOCAL_MODE:\n",
    "    path_prefix = '/Users/david@inawisdom.com/Documents/Training/premier_league'\n",
    "    test_path = (f'{path_prefix}/tests/run_tests.py')\n",
    "    r = code_quality_functions.run_unit_tests(\n",
    "        '../tests',\n",
    "        'premier_league',\n",
    "        'premier_league'\n",
    "    )"
   ]
  },
  {
   "cell_type": "markdown",
   "id": "eed5fe90-f73b-4742-8de9-108f1cfe5561",
   "metadata": {},
   "source": [
    "## Black and Flake8"
   ]
  },
  {
   "cell_type": "code",
   "execution_count": 11,
   "id": "d40a6805-60c4-4612-8e9d-d5354369596a",
   "metadata": {},
   "outputs": [
    {
     "name": "stdout",
     "output_type": "stream",
     "text": [
      "Black Output:\n",
      "Skipping .ipynb files as Jupyter dependencies are not installed.\n",
      "You can fix this by running ``pip install \"black[jupyter]\"``\n",
      "reformatted /Users/david@inawisdom.com/Documents/Training/premier_league/premier_league/.ipynb_checkpoints/visualisations-checkpoint.py\n",
      "reformatted /Users/david@inawisdom.com/Documents/Training/premier_league/premier_league/visualisations.py\n",
      "\n",
      "All done! ✨ 🍰 ✨\n",
      "2 files reformatted, 38 files left unchanged.\n",
      "\n",
      "\n",
      "Flake8 Output:\n",
      "Done. Flake8 has no improvements!\n"
     ]
    }
   ],
   "source": [
    "if constants.LOCAL_MODE:\n",
    "    code_quality_functions.run_code_quality_checks(\n",
    "        '../premier_league',\n",
    "        exclude_folder='../premier_league/.ipynb_checkpoints/'\n",
    "    )"
   ]
  }
 ],
 "metadata": {
  "kernelspec": {
   "display_name": "env_premier_league",
   "language": "python",
   "name": "env_premier_league"
  },
  "language_info": {
   "codemirror_mode": {
    "name": "ipython",
    "version": 3
   },
   "file_extension": ".py",
   "mimetype": "text/x-python",
   "name": "python",
   "nbconvert_exporter": "python",
   "pygments_lexer": "ipython3",
   "version": "3.10.1"
  }
 },
 "nbformat": 4,
 "nbformat_minor": 5
}
