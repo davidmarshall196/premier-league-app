{
 "cells": [
  {
   "cell_type": "markdown",
   "id": "45c92254-ec10-4c5a-a1dd-5fe653d9a09c",
   "metadata": {},
   "source": [
    "# Code Quality Checks"
   ]
  },
  {
   "cell_type": "code",
   "execution_count": 1,
   "id": "48631d77-6dce-456b-a58d-e663a8eb1fd9",
   "metadata": {},
   "outputs": [],
   "source": [
    "import sys\n",
    "sys.path.append('../')\n",
    "try:\n",
    "    from premier_league import constants\n",
    "    from premier_league import code_quality_functions\n",
    "except ModuleNotFoundError:\n",
    "    import constants\n",
    "    import code_quality_functions"
   ]
  },
  {
   "cell_type": "code",
   "execution_count": 2,
   "id": "37a098e9-8ebd-44aa-96fa-28fc797f01aa",
   "metadata": {},
   "outputs": [
    {
     "data": {
      "text/plain": [
       "'/Users/david@inawisdom.com/Documents/Training/premier_league/notebooks'"
      ]
     },
     "execution_count": 2,
     "metadata": {},
     "output_type": "execute_result"
    }
   ],
   "source": [
    "import os\n",
    "os.getcwd()"
   ]
  },
  {
   "cell_type": "markdown",
   "id": "852039e9-89fb-4908-8514-30e349a869cc",
   "metadata": {},
   "source": [
    "## Unit Tests"
   ]
  },
  {
   "cell_type": "code",
   "execution_count": 4,
   "id": "25b4eca2-33a0-4fb6-907d-7177fbc17a79",
   "metadata": {},
   "outputs": [
    {
     "name": "stdout",
     "output_type": "stream",
     "text": [
      "============================= test session starts ==============================\n",
      "platform darwin -- Python 3.10.1, pytest-7.4.3, pluggy-1.3.0 -- /Users/david@inawisdom.com/Documents/Training/premier_league/env_premier_league/bin/python\n",
      "metadata: {'Python': '3.10.1', 'Platform': 'macOS-14.1-arm64-arm-64bit', 'Packages': {'pytest': '7.4.3', 'pluggy': '1.3.0'}, 'Plugins': {'html': '2.0.1', 'rerunfailures': '12.0', 'xdist': '3.4.0', 'cov': '4.1.0', 'seleniumbase': '4.21.4', 'metadata': '3.0.0', 'mock': '3.12.0', 'anyio': '3.7.1', 'ordering': '0.6'}}\n",
      "rootdir: /Users/david@inawisdom.com/Documents/Training/premier_league\n",
      "plugins: html-2.0.1, rerunfailures-12.0, xdist-3.4.0, cov-4.1.0, seleniumbase-4.21.4, metadata-3.0.0, mock-3.12.0, anyio-3.7.1, ordering-0.6\n",
      "collecting ... collected 59 items\n",
      "\n",
      "../tests/test_code_quality_functions.py::test_run_unit_tests PASSED      [  1%]\n",
      "../tests/test_code_quality_functions.py::test_run_unit_tests_failure PASSED [  3%]\n",
      "../tests/test_code_quality_functions.py::test_run_code_quality_checks[0---None] PASSED [  5%]\n",
      "../tests/test_code_quality_functions.py::test_run_code_quality_checks[1-flake8 error--flake8 error] PASSED [  6%]\n",
      "../tests/test_code_quality_functions.py::test_run_code_quality_checks[1--black error-black error] PASSED [  8%]\n",
      "../tests/test_code_quality_functions.py::test_subprocess_error PASSED    [ 10%]\n",
      "../tests/test_data_drift_functions.py::test_init PASSED                  [ 11%]\n",
      "../tests/test_data_drift_functions.py::test_create_report PASSED         [ 13%]\n",
      "../tests/test_data_drift_functions.py::test_check_data_drift_no_drift PASSED [ 15%]\n",
      "../tests/test_data_extraction.py::test_generate_seasons_list PASSED      [ 16%]\n",
      "../tests/test_data_extraction.py::test_replace_team_names PASSED         [ 18%]\n",
      "../tests/test_data_extraction.py::test_get_fixture_times_no_fixtures PASSED [ 20%]\n",
      "../tests/test_email_functions.py::test_data_drift_alert PASSED           [ 22%]\n",
      "../tests/test_email_functions.py::test_data_validation_alert PASSED      [ 23%]\n",
      "../tests/test_email_functions.py::test_invalid_alert_type PASSED         [ 25%]\n",
      "../tests/test_email_functions.py::test_get_s3_client_with_profile FAILED [ 27%]\n",
      "../tests/test_email_functions.py::test_get_s3_client_with_env_vars PASSED [ 28%]\n",
      "../tests/test_email_functions.py::test_generate_presigned_s3_url PASSED  [ 30%]\n",
      "../tests/test_email_functions.py::test_generate_presigned_s3_url_exception PASSED [ 32%]\n",
      "../tests/test_evaluation.py::test_evaluate_model_result PASSED           [ 33%]\n",
      "../tests/test_evaluation.py::test_evaluate_model_home_away PASSED        [ 35%]\n",
      "../tests/test_evaluation.py::test_evaluate_model_invalid_type PASSED     [ 37%]\n",
      "../tests/test_expectations_helpers.py::test_column_type PASSED           [ 38%]\n",
      "../tests/test_expectations_helpers.py::test_missing_fraction PASSED      [ 40%]\n",
      "../tests/test_expectations_helpers.py::test_min_value PASSED             [ 42%]\n",
      "../tests/test_expectations_helpers.py::test_max_value PASSED             [ 44%]\n",
      "../tests/test_expectations_helpers.py::test_add_max_min_expectations PASSED [ 45%]\n",
      "../tests/test_expectations_helpers.py::test_add_cat_expectations PASSED  [ 47%]\n",
      "../tests/test_expectations_helpers.py::test_generate_expectations PASSED [ 49%]\n",
      "../tests/test_expectations_helpers.py::test_view_full_suite PASSED       [ 50%]\n",
      "../tests/test_expectations_helpers.py::test_view_suite_summary PASSED    [ 52%]\n",
      "../tests/test_mlflow_functions.py::test_open_mlflow_tracking PASSED      [ 54%]\n",
      "../tests/test_mlflow_functions.py::test_get_all_experiments PASSED       [ 55%]\n",
      "../tests/test_postgres.py::test_get_instance_status PASSED               [ 57%]\n",
      "../tests/test_postgres.py::test_get_instance_status_no_instance PASSED   [ 59%]\n",
      "../tests/test_postgres.py::test_get_instance_status_client_error PASSED  [ 61%]\n",
      "../tests/test_postgres.py::test_start_rds_instance PASSED                [ 62%]\n",
      "../tests/test_postgres.py::test_start_rds_instance_client_error PASSED   [ 64%]\n",
      "../tests/test_prediction.py::test_predict_regression_model PASSED        [ 66%]\n",
      "../tests/test_prediction.py::test_predict_classification_model PASSED    [ 67%]\n",
      "../tests/test_prediction.py::test_add_res_prediction_home_win PASSED     [ 69%]\n",
      "../tests/test_prediction.py::test_add_res_prediction_away_win PASSED     [ 71%]\n",
      "../tests/test_prediction.py::test_add_res_prediction_draw PASSED         [ 72%]\n",
      "../tests/test_preprocessing.py::test_custom_transformer_init PASSED      [ 74%]\n",
      "../tests/test_preprocessing.py::test_custom_transformer_fit PASSED       [ 76%]\n",
      "../tests/test_preprocessing.py::test_custom_transformer_transform PASSED [ 77%]\n",
      "../tests/test_preprocessing.py::test_custom_transformer_get_feature_names PASSED [ 79%]\n",
      "../tests/test_preprocessing.py::test_split_data PASSED                   [ 81%]\n",
      "../tests/test_preprocessing_helpers.py::test_get_goals_scored PASSED     [ 83%]\n",
      "../tests/test_preprocessing_helpers.py::test_get_goals_conceded PASSED   [ 84%]\n",
      "../tests/test_preprocessing_helpers.py::test_get_gss PASSED              [ 86%]\n",
      "../tests/test_preprocessing_helpers.py::test_get_points PASSED           [ 88%]\n",
      "../tests/test_preprocessing_helpers.py::test_get_cuml_points PASSED      [ 89%]\n",
      "../tests/test_preprocessing_helpers.py::test_get_matchres PASSED         [ 91%]\n",
      "../tests/test_preprocessing_helpers.py::test_get_agg_points PASSED       [ 93%]\n",
      "../tests/test_preprocessing_helpers.py::test_get_form PASSED             [ 94%]\n",
      "../tests/test_s3_helpers.py::test_grab_data_s3[some/file/path.csv-some-bucket-col1,col2\\n1,2\\n3,4\\n-expected_output0] PASSED [ 96%]\n",
      "../tests/test_training.py::test_add_result_prediction PASSED             [ 98%]\n",
      "../tests/test_training.py::test_train_model_invalid_type PASSED          [100%]"
     ]
    },
    {
     "name": "stderr",
     "output_type": "stream",
     "text": [
      "Module premier_league was previously imported, but not measured (module-not-measured)\n"
     ]
    },
    {
     "name": "stdout",
     "output_type": "stream",
     "text": [
      "\n",
      "\n",
      "=================================== FAILURES ===================================\n",
      "_______________________ test_get_s3_client_with_profile ________________________\n",
      "\n",
      "self = <MagicMock name='Session' id='11205688432'>, args = ()\n",
      "kwargs = {'profile_name': 'premier-league-app'}\n",
      "expected = call(profile_name='premier-league-app')\n",
      "actual = call(aws_access_key_id=None, aws_secret_access_key=None, region_name='eu-west-2')\n",
      "_error_message = <function NonCallableMock.assert_called_with.<locals>._error_message at 0x29baf6a70>\n",
      "cause = None\n",
      "\n",
      "    def assert_called_with(self, /, *args, **kwargs):\n",
      "        \"\"\"assert that the last call was made with the specified arguments.\n",
      "    \n",
      "        Raises an AssertionError if the args and keyword args passed in are\n",
      "        different to the last call to the mock.\"\"\"\n",
      "        if self.call_args is None:\n",
      "            expected = self._format_mock_call_signature(args, kwargs)\n",
      "            actual = 'not called.'\n",
      "            error_message = ('expected call not found.\\nExpected: %s\\nActual: %s'\n",
      "                    % (expected, actual))\n",
      "            raise AssertionError(error_message)\n",
      "    \n",
      "        def _error_message():\n",
      "            msg = self._format_mock_failure_message(args, kwargs)\n",
      "            return msg\n",
      "        expected = self._call_matcher(_Call((args, kwargs), two=True))\n",
      "        actual = self._call_matcher(self.call_args)\n",
      "        if actual != expected:\n",
      "            cause = expected if isinstance(expected, Exception) else None\n",
      ">           raise AssertionError(_error_message()) from cause\n",
      "E           AssertionError: expected call not found.\n",
      "E           Expected: Session(profile_name='premier-league-app')\n",
      "E           Actual: Session(aws_access_key_id=None, aws_secret_access_key=None, region_name='eu-west-2')\n",
      "\n",
      "../../../../.pyenv/versions/3.10.1/lib/python3.10/unittest/mock.py:919: AssertionError\n",
      "\n",
      "During handling of the above exception, another exception occurred:\n",
      "\n",
      "mocker = <pytest_mock.plugin.MockerFixture object at 0x29be55960>\n",
      "\n",
      "    def test_get_s3_client_with_profile(mocker):\n",
      "        \"\"\" Test getting S3 client with a specified profile name \"\"\"\n",
      "        mocked_session = mocker.patch('boto3.Session')\n",
      "        mocked_client = mocker.Mock()\n",
      "        mocked_session.return_value.client.return_value = mocked_client\n",
      "    \n",
      "        client = email_functions.get_s3_client(\n",
      "            profile_name=\"premier-league-app\")\n",
      ">       mocked_session.assert_called_with(profile_name=\"premier-league-app\")\n",
      "E       AssertionError: expected call not found.\n",
      "E       Expected: Session(profile_name='premier-league-app')\n",
      "E       Actual: Session(aws_access_key_id=None, aws_secret_access_key=None, region_name='eu-west-2')\n",
      "E       \n",
      "E       pytest introspection follows:\n",
      "E       \n",
      "E       Kwargs:\n",
      "E       assert {'aws_access_...: 'eu-west-2'} == {'profile_nam...r-league-app'}\n",
      "E         Left contains 3 more items:\n",
      "E         {'aws_access_key_id': None,\n",
      "E          'aws_secret_access_key': None,\n",
      "E          'region_name': 'eu-west-2'}\n",
      "E         Right contains 1 more item:\n",
      "E         {'profile_name': 'premier-league-app'}\n",
      "E         Full diff:...\n",
      "E         \n",
      "E         ...Full output truncated (6 lines hidden), use '-vv' to show\n",
      "\n",
      "../tests/test_email_functions.py:69: AssertionError\n",
      "\n",
      "---------- coverage: platform darwin, python 3.10.1-final-0 ----------\n",
      "Name                                                                                                    Stmts   Miss  Cover   Missing\n",
      "-------------------------------------------------------------------------------------------------------------------------------------\n",
      "/Users/david@inawisdom.com/Documents/Training/premier_league/premier_league/__init__.py                     0      0   100%\n",
      "/Users/david@inawisdom.com/Documents/Training/premier_league/premier_league/app.py                         78     78     0%   1-215\n",
      "/Users/david@inawisdom.com/Documents/Training/premier_league/premier_league/code_quality_functions.py      45      9    80%   1-6, 38-39, 54, 71, 86\n",
      "/Users/david@inawisdom.com/Documents/Training/premier_league/premier_league/config.py                      18      4    78%   7-9, 13\n",
      "/Users/david@inawisdom.com/Documents/Training/premier_league/premier_league/constants.py                   35     35     0%   1-74\n",
      "/Users/david@inawisdom.com/Documents/Training/premier_league/premier_league/data_drift_functions.py        57     17    70%   14-17, 62, 94-113, 141, 147-153\n",
      "/Users/david@inawisdom.com/Documents/Training/premier_league/premier_league/data_extraction.py            156    116    26%   5-8, 59-95, 110-123, 149-172, 231, 235-248, 274-301, 325-352\n",
      "/Users/david@inawisdom.com/Documents/Training/premier_league/premier_league/email_functions.py             52     27    48%   9-11, 70, 138-165, 189-205\n",
      "/Users/david@inawisdom.com/Documents/Training/premier_league/premier_league/evaluation.py                  25      2    92%   8-9\n",
      "/Users/david@inawisdom.com/Documents/Training/premier_league/premier_league/expectations_helpers.py       170     79    54%   14-16, 175-179, 276-322, 338-356, 392-426, 445-480\n",
      "/Users/david@inawisdom.com/Documents/Training/premier_league/premier_league/logger_config.py               41      7    83%   9-10, 53-55, 63-64, 69\n",
      "/Users/david@inawisdom.com/Documents/Training/premier_league/premier_league/mlflow_functions.py            45     25    44%   11-13, 66-76, 90-104, 118-119\n",
      "/Users/david@inawisdom.com/Documents/Training/premier_league/premier_league/postgres.py                    65     29    55%   10-12, 33, 89-120, 171-182\n",
      "/Users/david@inawisdom.com/Documents/Training/premier_league/premier_league/prediction.py                  47     24    49%   10-11, 34-58, 122-131, 145-150\n",
      "/Users/david@inawisdom.com/Documents/Training/premier_league/premier_league/preprocessing.py               46     11    76%   7-9, 73, 97-100, 116-119\n",
      "/Users/david@inawisdom.com/Documents/Training/premier_league/premier_league/preprocessing_helpers.py      340    194    43%   109, 232, 259-263, 281-302, 319-324, 340-347, 364-368, 386-390, 406-410, 426-430, 456-460, 477-480, 497-513, 526-529, 542-545, 558-561, 574-577, 593-602, 615-617, 631-633, 649-712, 728-743, 757-763, 779-786, 802-806, 822-828, 843-849, 868-882, 898-903, 917-918, 933-952, 968-992\n",
      "/Users/david@inawisdom.com/Documents/Training/premier_league/premier_league/s3_helpers.py                 174    141    19%   18-20, 35-40, 65, 80-99, 125-172, 198-242, 266-285, 314-354, 384-413, 439-469, 485-494\n",
      "/Users/david@inawisdom.com/Documents/Training/premier_league/premier_league/sagemaker_pipeline.py          76     76     0%   1-269\n",
      "/Users/david@inawisdom.com/Documents/Training/premier_league/premier_league/training.py                    97     74    24%   17-19, 43-134, 162-191, 226-232, 250-253\n",
      "/Users/david@inawisdom.com/Documents/Training/premier_league/premier_league/visualisations.py             246    246     0%   1-805\n",
      "-------------------------------------------------------------------------------------------------------------------------------------\n",
      "TOTAL                                                                                                    1813   1194    34%\n",
      "\n",
      "=========================== short test summary info ============================\n",
      "FAILED ../tests/test_email_functions.py::test_get_s3_client_with_profile - AssertionError: expected call not found.\n",
      "================== 1 failed, 58 passed, 3 warnings in 19.45s ===================\n",
      "An error occurred while running tests: Tests failed. Please check.\n"
     ]
    }
   ],
   "source": [
    "path_prefix = '/Users/david@inawisdom.com/Documents/Training/premier_league'\n",
    "test_path = (f'{path_prefix}/tests/run_tests.py')\n",
    "r = code_quality_functions.run_unit_tests(\n",
    "    '../tests/',\n",
    "    'premier_league',\n",
    "    'premier_league'\n",
    ")"
   ]
  },
  {
   "cell_type": "markdown",
   "id": "eed5fe90-f73b-4742-8de9-108f1cfe5561",
   "metadata": {},
   "source": [
    "## Black and Flake8"
   ]
  },
  {
   "cell_type": "code",
   "execution_count": 6,
   "id": "d40a6805-60c4-4612-8e9d-d5354369596a",
   "metadata": {},
   "outputs": [
    {
     "name": "stdout",
     "output_type": "stream",
     "text": [
      "Black Output:\n",
      "Skipping .ipynb files as Jupyter dependencies are not installed.\n",
      "You can fix this by running ``pip install \"black[jupyter]\"``\n",
      "reformatted /Users/david@inawisdom.com/Documents/Training/premier_league/premier_league/.ipynb_checkpoints/sagemaker_pipeline-checkpoint.py\n",
      "reformatted /Users/david@inawisdom.com/Documents/Training/premier_league/premier_league/sagemaker_pipeline.py\n",
      "\n",
      "All done! ✨ 🍰 ✨\n",
      "2 files reformatted, 38 files left unchanged.\n",
      "\n",
      "\n",
      "Flake8 Output:\n",
      "Done. Flake8 has no improvements!\n"
     ]
    },
    {
     "data": {
      "text/plain": [
       "'Skipping .ipynb files as Jupyter dependencies are not installed.\\nYou can fix this by running ``pip install \"black[jupyter]\"``\\nreformatted /Users/david@inawisdom.com/Documents/Training/premier_league/premier_league/.ipynb_checkpoints/sagemaker_pipeline-checkpoint.py\\nreformatted /Users/david@inawisdom.com/Documents/Training/premier_league/premier_league/sagemaker_pipeline.py\\n\\nAll done! ✨ 🍰 ✨\\n2 files reformatted, 38 files left unchanged.\\n'"
      ]
     },
     "execution_count": 6,
     "metadata": {},
     "output_type": "execute_result"
    }
   ],
   "source": [
    "code_quality_functions.run_code_quality_checks(\n",
    "        '../premier_league',\n",
    "        exclude_folder='../premier_league/.ipynb_checkpoints/'\n",
    ")"
   ]
  },
  {
   "cell_type": "code",
   "execution_count": null,
   "id": "b1e829ad-b3a2-4761-b82b-7aa2d3f2a99d",
   "metadata": {},
   "outputs": [],
   "source": []
  }
 ],
 "metadata": {
  "kernelspec": {
   "display_name": "env_premier_league",
   "language": "python",
   "name": "env_premier_league"
  },
  "language_info": {
   "codemirror_mode": {
    "name": "ipython",
    "version": 3
   },
   "file_extension": ".py",
   "mimetype": "text/x-python",
   "name": "python",
   "nbconvert_exporter": "python",
   "pygments_lexer": "ipython3",
   "version": "3.10.1"
  }
 },
 "nbformat": 4,
 "nbformat_minor": 5
}
