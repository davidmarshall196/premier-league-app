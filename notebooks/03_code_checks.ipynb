{
 "cells": [
  {
   "cell_type": "markdown",
   "id": "45c92254-ec10-4c5a-a1dd-5fe653d9a09c",
   "metadata": {},
   "source": [
    "# Code Quality Checks"
   ]
  },
  {
   "cell_type": "code",
   "execution_count": 1,
   "id": "48631d77-6dce-456b-a58d-e663a8eb1fd9",
   "metadata": {},
   "outputs": [],
   "source": [
    "import sys\n",
    "sys.path.append('../')\n",
    "try:\n",
    "    from premier_league import constants\n",
    "    from premier_league import code_quality_functions\n",
    "except ModuleNotFoundError:\n",
    "    import constants\n",
    "    import code_quality_functions\n",
    "import os"
   ]
  },
  {
   "cell_type": "markdown",
   "id": "852039e9-89fb-4908-8514-30e349a869cc",
   "metadata": {},
   "source": [
    "## Unit Tests"
   ]
  },
  {
   "cell_type": "code",
   "execution_count": 2,
   "id": "25b4eca2-33a0-4fb6-907d-7177fbc17a79",
   "metadata": {},
   "outputs": [
    {
     "name": "stdout",
     "output_type": "stream",
     "text": [
      "============================= test session starts ==============================\n",
      "platform darwin -- Python 3.10.1, pytest-7.4.3, pluggy-1.3.0 -- /Users/david@inawisdom.com/Documents/Training/premier_league/env_premier_league/bin/python\n",
      "metadata: {'Python': '3.10.1', 'Platform': 'macOS-14.1-arm64-arm-64bit', 'Packages': {'pytest': '7.4.3', 'pluggy': '1.3.0'}, 'Plugins': {'html': '2.0.1', 'rerunfailures': '12.0', 'xdist': '3.4.0', 'cov': '4.1.0', 'seleniumbase': '4.21.4', 'metadata': '3.0.0', 'mock': '3.12.0', 'anyio': '3.7.1', 'ordering': '0.6'}}\n",
      "rootdir: /Users/david@inawisdom.com/Documents/Training/premier_league\n",
      "plugins: html-2.0.1, rerunfailures-12.0, xdist-3.4.0, cov-4.1.0, seleniumbase-4.21.4, metadata-3.0.0, mock-3.12.0, anyio-3.7.1, ordering-0.6\n",
      "collecting ... collected 58 items\n",
      "\n",
      "../tests/test_code_quality_functions.py::test_run_unit_tests PASSED      [  1%]\n",
      "../tests/test_code_quality_functions.py::test_run_unit_tests_failure PASSED [  3%]\n",
      "../tests/test_code_quality_functions.py::test_run_code_quality_checks[0---None] PASSED [  5%]\n",
      "../tests/test_code_quality_functions.py::test_run_code_quality_checks[1-flake8 error--flake8 error] PASSED [  6%]\n",
      "../tests/test_code_quality_functions.py::test_run_code_quality_checks[1--black error-black error] PASSED [  8%]\n",
      "../tests/test_code_quality_functions.py::test_subprocess_error PASSED    [ 10%]\n",
      "../tests/test_data_drift_functions.py::test_init PASSED                  [ 12%]\n",
      "../tests/test_data_drift_functions.py::test_create_report PASSED         [ 13%]\n",
      "../tests/test_data_drift_functions.py::test_check_data_drift_no_drift PASSED [ 15%]\n",
      "../tests/test_data_extraction.py::test_generate_seasons_list PASSED      [ 17%]\n",
      "../tests/test_data_extraction.py::test_replace_team_names PASSED         [ 18%]\n",
      "../tests/test_data_extraction.py::test_get_fixture_times_no_fixtures PASSED [ 20%]\n",
      "../tests/test_email_functions.py::test_data_drift_alert PASSED           [ 22%]\n",
      "../tests/test_email_functions.py::test_data_validation_alert PASSED      [ 24%]\n",
      "../tests/test_email_functions.py::test_invalid_alert_type PASSED         [ 25%]\n",
      "../tests/test_email_functions.py::test_get_s3_client_with_profile PASSED [ 27%]\n",
      "../tests/test_email_functions.py::test_generate_presigned_s3_url PASSED  [ 29%]\n",
      "../tests/test_email_functions.py::test_generate_presigned_s3_url_exception PASSED [ 31%]\n",
      "../tests/test_evaluation.py::test_evaluate_model_result PASSED           [ 32%]\n",
      "../tests/test_evaluation.py::test_evaluate_model_home_away PASSED        [ 34%]\n",
      "../tests/test_evaluation.py::test_evaluate_model_invalid_type PASSED     [ 36%]\n",
      "../tests/test_expectations_helpers.py::test_column_type PASSED           [ 37%]\n",
      "../tests/test_expectations_helpers.py::test_missing_fraction PASSED      [ 39%]\n",
      "../tests/test_expectations_helpers.py::test_min_value PASSED             [ 41%]\n",
      "../tests/test_expectations_helpers.py::test_max_value PASSED             [ 43%]\n",
      "../tests/test_expectations_helpers.py::test_add_max_min_expectations PASSED [ 44%]\n",
      "../tests/test_expectations_helpers.py::test_add_cat_expectations PASSED  [ 46%]\n",
      "../tests/test_expectations_helpers.py::test_generate_expectations PASSED [ 48%]\n",
      "../tests/test_expectations_helpers.py::test_view_full_suite PASSED       [ 50%]\n",
      "../tests/test_expectations_helpers.py::test_view_suite_summary PASSED    [ 51%]\n",
      "../tests/test_mlflow_functions.py::test_open_mlflow_tracking PASSED      [ 53%]\n",
      "../tests/test_mlflow_functions.py::test_get_all_experiments PASSED       [ 55%]\n",
      "../tests/test_postgres.py::test_get_instance_status PASSED               [ 56%]\n",
      "../tests/test_postgres.py::test_get_instance_status_no_instance PASSED   [ 58%]\n",
      "../tests/test_postgres.py::test_get_instance_status_client_error PASSED  [ 60%]\n",
      "../tests/test_postgres.py::test_start_rds_instance PASSED                [ 62%]\n",
      "../tests/test_postgres.py::test_start_rds_instance_client_error PASSED   [ 63%]\n",
      "../tests/test_prediction.py::test_predict_regression_model PASSED        [ 65%]\n",
      "../tests/test_prediction.py::test_predict_classification_model PASSED    [ 67%]\n",
      "../tests/test_prediction.py::test_add_res_prediction_home_win PASSED     [ 68%]\n",
      "../tests/test_prediction.py::test_add_res_prediction_away_win PASSED     [ 70%]\n",
      "../tests/test_prediction.py::test_add_res_prediction_draw PASSED         [ 72%]\n",
      "../tests/test_preprocessing.py::test_custom_transformer_init PASSED      [ 74%]\n",
      "../tests/test_preprocessing.py::test_custom_transformer_fit PASSED       [ 75%]\n",
      "../tests/test_preprocessing.py::test_custom_transformer_transform PASSED [ 77%]\n",
      "../tests/test_preprocessing.py::test_custom_transformer_get_feature_names PASSED [ 79%]\n",
      "../tests/test_preprocessing.py::test_split_data PASSED                   [ 81%]\n",
      "../tests/test_preprocessing_helpers.py::test_get_goals_scored PASSED     [ 82%]\n",
      "../tests/test_preprocessing_helpers.py::test_get_goals_conceded PASSED   [ 84%]\n",
      "../tests/test_preprocessing_helpers.py::test_get_gss PASSED              [ 86%]\n",
      "../tests/test_preprocessing_helpers.py::test_get_points PASSED           [ 87%]\n",
      "../tests/test_preprocessing_helpers.py::test_get_cuml_points PASSED      [ 89%]\n",
      "../tests/test_preprocessing_helpers.py::test_get_matchres PASSED         [ 91%]\n",
      "../tests/test_preprocessing_helpers.py::test_get_agg_points PASSED       [ 93%]\n",
      "../tests/test_preprocessing_helpers.py::test_get_form PASSED             [ 94%]\n",
      "../tests/test_s3_helpers.py::test_grab_data_s3[some/file/path.csv-some-bucket-col1,col2\\n1,2\\n3,4\\n-expected_output0] PASSED [ 96%]\n",
      "../tests/test_training.py::test_add_result_prediction PASSED             [ 98%]\n",
      "../tests/test_training.py::test_train_model_invalid_type PASSED          [100%]"
     ]
    },
    {
     "name": "stderr",
     "output_type": "stream",
     "text": [
      "Module premier_league was previously imported, but not measured (module-not-measured)\n"
     ]
    },
    {
     "name": "stdout",
     "output_type": "stream",
     "text": [
      "\n",
      "\n",
      "---------- coverage: platform darwin, python 3.10.1-final-0 ----------\n",
      "Name                                                                                                    Stmts   Miss  Cover   Missing\n",
      "-------------------------------------------------------------------------------------------------------------------------------------\n",
      "/Users/david@inawisdom.com/Documents/Training/premier_league/premier_league/__init__.py                     0      0   100%\n",
      "/Users/david@inawisdom.com/Documents/Training/premier_league/premier_league/app.py                         80     80     0%   1-239\n",
      "/Users/david@inawisdom.com/Documents/Training/premier_league/premier_league/code_quality_functions.py      45      9    80%   1-6, 38-39, 54, 71, 86\n",
      "/Users/david@inawisdom.com/Documents/Training/premier_league/premier_league/config.py                      18      3    83%   7-8, 14\n",
      "/Users/david@inawisdom.com/Documents/Training/premier_league/premier_league/constants.py                   45     45     0%   1-88\n",
      "/Users/david@inawisdom.com/Documents/Training/premier_league/premier_league/data_drift_functions.py        57     17    70%   14-17, 64, 94-113, 141, 147-153\n",
      "/Users/david@inawisdom.com/Documents/Training/premier_league/premier_league/data_extraction.py            156    116    26%   5-8, 59-95, 110-123, 149-172, 231, 235-248, 274-301, 325-352\n",
      "/Users/david@inawisdom.com/Documents/Training/premier_league/premier_league/email_functions.py             54     29    46%   9-11, 72, 138-168, 192-208\n",
      "/Users/david@inawisdom.com/Documents/Training/premier_league/premier_league/evaluation.py                  25      2    92%   8-9\n",
      "/Users/david@inawisdom.com/Documents/Training/premier_league/premier_league/expectations_helpers.py       170     79    54%   14-16, 175-179, 276-322, 338-356, 392-425, 444-478\n",
      "/Users/david@inawisdom.com/Documents/Training/premier_league/premier_league/logger_config.py               41      7    83%   9-10, 53-55, 63-64, 71\n",
      "/Users/david@inawisdom.com/Documents/Training/premier_league/premier_league/mlflow_functions.py            45     25    44%   11-13, 66-76, 90-104, 118-119\n",
      "/Users/david@inawisdom.com/Documents/Training/premier_league/premier_league/postgres.py                    71     34    52%   10-12, 32, 87-120, 143, 174-188\n",
      "/Users/david@inawisdom.com/Documents/Training/premier_league/premier_league/prediction.py                  47     24    49%   10-11, 34-58, 122-131, 145-150\n",
      "/Users/david@inawisdom.com/Documents/Training/premier_league/premier_league/preprocessing.py               46     11    76%   7-9, 73, 97-100, 116-119\n",
      "/Users/david@inawisdom.com/Documents/Training/premier_league/premier_league/preprocessing_helpers.py      340    194    43%   109, 232, 259-263, 281-302, 319-324, 340-347, 364-368, 386-390, 406-410, 426-430, 456-460, 477-480, 497-513, 526-529, 542-545, 558-561, 574-577, 593-602, 615-617, 631-633, 649-712, 728-743, 757-763, 779-786, 802-806, 822-828, 843-849, 868-882, 898-903, 917-918, 933-952, 968-992\n",
      "/Users/david@inawisdom.com/Documents/Training/premier_league/premier_league/s3_helpers.py                 174    141    19%   18-20, 35-40, 67, 80-99, 125-172, 198-242, 266-285, 314-354, 384-413, 439-469, 485-494\n",
      "/Users/david@inawisdom.com/Documents/Training/premier_league/premier_league/sagemaker_pipeline.py          70     70     0%   1-213\n",
      "/Users/david@inawisdom.com/Documents/Training/premier_league/premier_league/training.py                    98     75    23%   17-19, 43-134, 163-193, 228-234, 252-255\n",
      "/Users/david@inawisdom.com/Documents/Training/premier_league/premier_league/visualisations.py             246    246     0%   1-805\n",
      "-------------------------------------------------------------------------------------------------------------------------------------\n",
      "TOTAL                                                                                                    1828   1207    34%\n",
      "\n",
      "\n",
      "======================= 58 passed, 3 warnings in 15.27s ========================\n"
     ]
    }
   ],
   "source": [
    "#os.chdir('../')\n",
    "#path_prefix = os.getcwd()\n",
    "#test_path = (f'{path_prefix}/tests/run_tests.py')\n",
    "r = code_quality_functions.run_unit_tests(\n",
    "    '../tests/',\n",
    "    'premier_league',\n",
    "    'premier_league'\n",
    ")"
   ]
  },
  {
   "cell_type": "markdown",
   "id": "eed5fe90-f73b-4742-8de9-108f1cfe5561",
   "metadata": {},
   "source": [
    "## Black and Flake8"
   ]
  },
  {
   "cell_type": "code",
   "execution_count": 3,
   "id": "d40a6805-60c4-4612-8e9d-d5354369596a",
   "metadata": {},
   "outputs": [
    {
     "name": "stdout",
     "output_type": "stream",
     "text": [
      "Black Output:\n",
      "Skipping .ipynb files as Jupyter dependencies are not installed.\n",
      "You can fix this by running ``pip install \"black[jupyter]\"``\n",
      "reformatted /Users/david@inawisdom.com/Documents/Training/premier_league/premier_league/.ipynb_checkpoints/config-checkpoint.py\n",
      "reformatted /Users/david@inawisdom.com/Documents/Training/premier_league/premier_league/.ipynb_checkpoints/constants-checkpoint.py\n",
      "reformatted /Users/david@inawisdom.com/Documents/Training/premier_league/premier_league/.ipynb_checkpoints/postgres-checkpoint.py\n",
      "reformatted /Users/david@inawisdom.com/Documents/Training/premier_league/premier_league/config.py\n",
      "reformatted /Users/david@inawisdom.com/Documents/Training/premier_league/premier_league/constants.py\n",
      "reformatted /Users/david@inawisdom.com/Documents/Training/premier_league/premier_league/.ipynb_checkpoints/training-checkpoint.py\n",
      "reformatted /Users/david@inawisdom.com/Documents/Training/premier_league/premier_league/postgres.py\n",
      "reformatted /Users/david@inawisdom.com/Documents/Training/premier_league/premier_league/training.py\n",
      "\n",
      "All done! ✨ 🍰 ✨\n",
      "8 files reformatted, 32 files left unchanged.\n",
      "\n",
      "\n",
      "Flake8 Output:\n",
      "Done. Flake8 has no improvements!\n"
     ]
    },
    {
     "data": {
      "text/plain": [
       "'Skipping .ipynb files as Jupyter dependencies are not installed.\\nYou can fix this by running ``pip install \"black[jupyter]\"``\\nreformatted /Users/david@inawisdom.com/Documents/Training/premier_league/premier_league/.ipynb_checkpoints/config-checkpoint.py\\nreformatted /Users/david@inawisdom.com/Documents/Training/premier_league/premier_league/.ipynb_checkpoints/constants-checkpoint.py\\nreformatted /Users/david@inawisdom.com/Documents/Training/premier_league/premier_league/.ipynb_checkpoints/postgres-checkpoint.py\\nreformatted /Users/david@inawisdom.com/Documents/Training/premier_league/premier_league/config.py\\nreformatted /Users/david@inawisdom.com/Documents/Training/premier_league/premier_league/constants.py\\nreformatted /Users/david@inawisdom.com/Documents/Training/premier_league/premier_league/.ipynb_checkpoints/training-checkpoint.py\\nreformatted /Users/david@inawisdom.com/Documents/Training/premier_league/premier_league/postgres.py\\nreformatted /Users/david@inawisdom.com/Documents/Training/premier_league/premier_league/training.py\\n\\nAll done! ✨ 🍰 ✨\\n8 files reformatted, 32 files left unchanged.\\n'"
      ]
     },
     "execution_count": 3,
     "metadata": {},
     "output_type": "execute_result"
    }
   ],
   "source": [
    "code_quality_functions.run_code_quality_checks(\n",
    "        '../premier_league',\n",
    "        exclude_folder='../premier_league/.ipynb_checkpoints/'\n",
    ")"
   ]
  },
  {
   "cell_type": "code",
   "execution_count": null,
   "id": "b1e829ad-b3a2-4761-b82b-7aa2d3f2a99d",
   "metadata": {},
   "outputs": [],
   "source": []
  }
 ],
 "metadata": {
  "kernelspec": {
   "display_name": "env_premier_league",
   "language": "python",
   "name": "env_premier_league"
  },
  "language_info": {
   "codemirror_mode": {
    "name": "ipython",
    "version": 3
   },
   "file_extension": ".py",
   "mimetype": "text/x-python",
   "name": "python",
   "nbconvert_exporter": "python",
   "pygments_lexer": "ipython3",
   "version": "3.10.1"
  }
 },
 "nbformat": 4,
 "nbformat_minor": 5
}
