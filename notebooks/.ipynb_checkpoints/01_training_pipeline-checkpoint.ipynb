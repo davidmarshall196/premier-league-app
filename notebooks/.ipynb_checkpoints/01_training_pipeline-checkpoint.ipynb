{
 "cells": [
  {
   "cell_type": "code",
   "execution_count": 1,
   "id": "bc29a6a0-9139-4428-9bf3-77a6227c36f3",
   "metadata": {},
   "outputs": [],
   "source": [
    "import pandas as pd\n",
    "import numpy as np\n",
    "import joblib\n",
    "import sys\n",
    "sys.path.append('../')\n",
    "\n",
    "from premier_league import constants\n",
    "if constants.RUN_DATA_EXPECTATIONS:\n",
    "    from expectations_helpers import (\n",
    "        AutoGreatExpectations,\n",
    "        view_full_suite,\n",
    "        view_suite_summary,\n",
    "        save_expectations,\n",
    "        load_expectations,\n",
    "        validate_data\n",
    "    )\n",
    "from premier_league import (\n",
    "    preprocessing,\n",
    "    preprocessing_helpers,\n",
    "    training,\n",
    "    evaluation,\n",
    "    prediction,\n",
    "    data_extraction,\n",
    "    visualisations,\n",
    "    s3_helpers,\n",
    "    postgres\n",
    ")"
   ]
  },
  {
   "cell_type": "code",
   "execution_count": 2,
   "id": "1e964b9d-8965-478f-8d51-3773c0b0086a",
   "metadata": {},
   "outputs": [
    {
     "data": {
      "text/plain": [
       "<module 'premier_league.constants' from '/Users/david@inawisdom.com/Documents/Training/premier_league/notebooks/../premier_league/constants.py'>"
      ]
     },
     "execution_count": 2,
     "metadata": {},
     "output_type": "execute_result"
    }
   ],
   "source": [
    "import importlib\n",
    "importlib.reload(constants)\n"
   ]
  },
  {
   "cell_type": "code",
   "execution_count": 3,
   "id": "bb75cfef-e025-4e19-ac13-1e233f536be3",
   "metadata": {
    "tags": []
   },
   "outputs": [
    {
     "data": {
      "text/plain": [
       "'2023-11-16 08:06:55'"
      ]
     },
     "execution_count": 3,
     "metadata": {},
     "output_type": "execute_result"
    }
   ],
   "source": [
    "# Timestamp for current run\n",
    "current_timestamp = s3_helpers.get_current_date_time()\n",
    "current_timestamp"
   ]
  },
  {
   "cell_type": "code",
   "execution_count": 4,
   "id": "29cceb73-4a66-4871-b0b5-5711d319cc7b",
   "metadata": {},
   "outputs": [],
   "source": [
    "df = s3_helpers.grab_data_s3(constants.TRAINING_DATA_LOCATION)\n",
    "df = df[constants.COLUMNS_REQ]"
   ]
  },
  {
   "cell_type": "code",
   "execution_count": 5,
   "id": "026295b9-e988-4107-8e37-37187c520478",
   "metadata": {
    "tags": []
   },
   "outputs": [
    {
     "data": {
      "text/html": [
       "<div>\n",
       "<style scoped>\n",
       "    .dataframe tbody tr th:only-of-type {\n",
       "        vertical-align: middle;\n",
       "    }\n",
       "\n",
       "    .dataframe tbody tr th {\n",
       "        vertical-align: top;\n",
       "    }\n",
       "\n",
       "    .dataframe thead th {\n",
       "        text-align: right;\n",
       "    }\n",
       "</style>\n",
       "<table border=\"1\" class=\"dataframe\">\n",
       "  <thead>\n",
       "    <tr style=\"text-align: right;\">\n",
       "      <th></th>\n",
       "      <th>season</th>\n",
       "      <th>Date</th>\n",
       "      <th>HomeTeam</th>\n",
       "      <th>AwayTeam</th>\n",
       "      <th>FTHG</th>\n",
       "      <th>FTAG</th>\n",
       "      <th>FTR</th>\n",
       "    </tr>\n",
       "  </thead>\n",
       "  <tbody>\n",
       "    <tr>\n",
       "      <th>0</th>\n",
       "      <td>1995-96</td>\n",
       "      <td>19/08/95</td>\n",
       "      <td>Aston Villa</td>\n",
       "      <td>Man United</td>\n",
       "      <td>3.0</td>\n",
       "      <td>1.0</td>\n",
       "      <td>H</td>\n",
       "    </tr>\n",
       "    <tr>\n",
       "      <th>1</th>\n",
       "      <td>1995-96</td>\n",
       "      <td>19/08/95</td>\n",
       "      <td>Blackburn</td>\n",
       "      <td>QPR</td>\n",
       "      <td>1.0</td>\n",
       "      <td>0.0</td>\n",
       "      <td>H</td>\n",
       "    </tr>\n",
       "    <tr>\n",
       "      <th>2</th>\n",
       "      <td>1995-96</td>\n",
       "      <td>19/08/95</td>\n",
       "      <td>Chelsea</td>\n",
       "      <td>Everton</td>\n",
       "      <td>0.0</td>\n",
       "      <td>0.0</td>\n",
       "      <td>D</td>\n",
       "    </tr>\n",
       "    <tr>\n",
       "      <th>3</th>\n",
       "      <td>1995-96</td>\n",
       "      <td>19/08/95</td>\n",
       "      <td>Liverpool</td>\n",
       "      <td>Sheffield Weds</td>\n",
       "      <td>1.0</td>\n",
       "      <td>0.0</td>\n",
       "      <td>H</td>\n",
       "    </tr>\n",
       "    <tr>\n",
       "      <th>4</th>\n",
       "      <td>1995-96</td>\n",
       "      <td>19/08/95</td>\n",
       "      <td>Man City</td>\n",
       "      <td>Tottenham</td>\n",
       "      <td>1.0</td>\n",
       "      <td>1.0</td>\n",
       "      <td>D</td>\n",
       "    </tr>\n",
       "  </tbody>\n",
       "</table>\n",
       "</div>"
      ],
      "text/plain": [
       "    season      Date     HomeTeam        AwayTeam  FTHG  FTAG FTR\n",
       "0  1995-96  19/08/95  Aston Villa      Man United   3.0   1.0   H\n",
       "1  1995-96  19/08/95    Blackburn             QPR   1.0   0.0   H\n",
       "2  1995-96  19/08/95      Chelsea         Everton   0.0   0.0   D\n",
       "3  1995-96  19/08/95    Liverpool  Sheffield Weds   1.0   0.0   H\n",
       "4  1995-96  19/08/95     Man City       Tottenham   1.0   1.0   D"
      ]
     },
     "execution_count": 5,
     "metadata": {},
     "output_type": "execute_result"
    }
   ],
   "source": [
    "df.head()"
   ]
  },
  {
   "cell_type": "markdown",
   "id": "e8d063d3-6f36-4385-95f0-ac88d68a0782",
   "metadata": {},
   "source": [
    "### Set up data validation"
   ]
  },
  {
   "cell_type": "code",
   "execution_count": 6,
   "id": "be3f2b30-157a-4beb-915b-ebe878a11789",
   "metadata": {},
   "outputs": [],
   "source": [
    "if constants.RUN_DATA_EXPECTATIONS:\n",
    "    ge_class = AutoGreatExpectations(df)"
   ]
  },
  {
   "cell_type": "code",
   "execution_count": 7,
   "id": "25aaa8bb-ad57-415c-b088-4b4cf5da085d",
   "metadata": {},
   "outputs": [],
   "source": [
    "if constants.RUN_DATA_EXPECTATIONS:\n",
    "    ge_data = ge_class.generate_expectations(verbose=False)"
   ]
  },
  {
   "cell_type": "code",
   "execution_count": 8,
   "id": "8fda5f6e-4fe6-46db-a977-4f964a66f40e",
   "metadata": {},
   "outputs": [],
   "source": [
    "if constants.RUN_DATA_EXPECTATIONS:\n",
    "    view_suite_summary(ge_data)"
   ]
  },
  {
   "cell_type": "markdown",
   "id": "ef348438-9dd6-428c-955d-30c941280728",
   "metadata": {},
   "source": [
    "### Validate data"
   ]
  },
  {
   "cell_type": "code",
   "execution_count": 9,
   "id": "7a9b8220-b6d4-4a12-b9a5-ec43c83733a3",
   "metadata": {},
   "outputs": [],
   "source": [
    "if constants.RUN_DATA_EXPECTATIONS:\n",
    "    save_expectations(ge_data, constants.exp_loc)"
   ]
  },
  {
   "cell_type": "code",
   "execution_count": 10,
   "id": "56598576-f37e-4b2a-b9d8-da56dc04bc2f",
   "metadata": {},
   "outputs": [],
   "source": [
    "if constants.RUN_DATA_EXPECTATIONS:\n",
    "    data_expectations = load_expectations(constants.exp_loc)"
   ]
  },
  {
   "cell_type": "code",
   "execution_count": 11,
   "id": "fd8da7b2-be2e-4018-87b9-d541e52451e6",
   "metadata": {},
   "outputs": [],
   "source": [
    "if constants.INITIAL_DATA_LOAD:\n",
    "    full_data = data_extraction.load_all_data(\n",
    "        constants.TRAINING_DATA_LOCATION,\n",
    "        constants.COLUMNS_REQ\n",
    "    )\n",
    "else:\n",
    "    full_data = s3_helpers.grab_data_s3(\n",
    "        constants.TRAINING_DATA_LOCATION)\n"
   ]
  },
  {
   "cell_type": "code",
   "execution_count": 12,
   "id": "a1b96d31-7bce-40ed-b111-a7c2cf5fdab0",
   "metadata": {},
   "outputs": [
    {
     "name": "stdout",
     "output_type": "stream",
     "text": [
      "Data saved at app_data/training_data_full.csv\n"
     ]
    }
   ],
   "source": [
    "full_data = data_extraction.add_new_data(\n",
    "    full_data, \n",
    "    constants.COLUMNS_REQ,\n",
    "    constants.TRAINING_DATA_LOCATION\n",
    ")"
   ]
  },
  {
   "cell_type": "code",
   "execution_count": 13,
   "id": "f68b2beb-a8c0-4926-b3f9-60cb3e902c28",
   "metadata": {},
   "outputs": [],
   "source": [
    "if constants.RUN_DATA_EXPECTATIONS:\n",
    "    validation_results = validate_data(full_data, data_expectations)"
   ]
  },
  {
   "cell_type": "markdown",
   "id": "086fc8a3-e6e4-488b-a899-392e0106b65c",
   "metadata": {},
   "source": [
    "### Preprocessing"
   ]
  },
  {
   "cell_type": "code",
   "execution_count": 14,
   "id": "333ebe6d-72e4-4826-83b7-ed671952dbc7",
   "metadata": {},
   "outputs": [
    {
     "data": {
      "text/html": [
       "<div>\n",
       "<style scoped>\n",
       "    .dataframe tbody tr th:only-of-type {\n",
       "        vertical-align: middle;\n",
       "    }\n",
       "\n",
       "    .dataframe tbody tr th {\n",
       "        vertical-align: top;\n",
       "    }\n",
       "\n",
       "    .dataframe thead th {\n",
       "        text-align: right;\n",
       "    }\n",
       "</style>\n",
       "<table border=\"1\" class=\"dataframe\">\n",
       "  <thead>\n",
       "    <tr style=\"text-align: right;\">\n",
       "      <th></th>\n",
       "      <th>season</th>\n",
       "      <th>Date</th>\n",
       "      <th>HomeTeam</th>\n",
       "      <th>AwayTeam</th>\n",
       "      <th>FTHG</th>\n",
       "      <th>FTAG</th>\n",
       "      <th>FTR</th>\n",
       "    </tr>\n",
       "  </thead>\n",
       "  <tbody>\n",
       "    <tr>\n",
       "      <th>0</th>\n",
       "      <td>1995-96</td>\n",
       "      <td>19/08/95</td>\n",
       "      <td>Aston Villa</td>\n",
       "      <td>Man United</td>\n",
       "      <td>3.0</td>\n",
       "      <td>1.0</td>\n",
       "      <td>H</td>\n",
       "    </tr>\n",
       "    <tr>\n",
       "      <th>1</th>\n",
       "      <td>1995-96</td>\n",
       "      <td>19/08/95</td>\n",
       "      <td>Blackburn</td>\n",
       "      <td>QPR</td>\n",
       "      <td>1.0</td>\n",
       "      <td>0.0</td>\n",
       "      <td>H</td>\n",
       "    </tr>\n",
       "    <tr>\n",
       "      <th>2</th>\n",
       "      <td>1995-96</td>\n",
       "      <td>19/08/95</td>\n",
       "      <td>Chelsea</td>\n",
       "      <td>Everton</td>\n",
       "      <td>0.0</td>\n",
       "      <td>0.0</td>\n",
       "      <td>D</td>\n",
       "    </tr>\n",
       "    <tr>\n",
       "      <th>3</th>\n",
       "      <td>1995-96</td>\n",
       "      <td>19/08/95</td>\n",
       "      <td>Liverpool</td>\n",
       "      <td>Sheffield Weds</td>\n",
       "      <td>1.0</td>\n",
       "      <td>0.0</td>\n",
       "      <td>H</td>\n",
       "    </tr>\n",
       "    <tr>\n",
       "      <th>4</th>\n",
       "      <td>1995-96</td>\n",
       "      <td>19/08/95</td>\n",
       "      <td>Man City</td>\n",
       "      <td>Tottenham</td>\n",
       "      <td>1.0</td>\n",
       "      <td>1.0</td>\n",
       "      <td>D</td>\n",
       "    </tr>\n",
       "  </tbody>\n",
       "</table>\n",
       "</div>"
      ],
      "text/plain": [
       "    season      Date     HomeTeam        AwayTeam  FTHG  FTAG FTR\n",
       "0  1995-96  19/08/95  Aston Villa      Man United   3.0   1.0   H\n",
       "1  1995-96  19/08/95    Blackburn             QPR   1.0   0.0   H\n",
       "2  1995-96  19/08/95      Chelsea         Everton   0.0   0.0   D\n",
       "3  1995-96  19/08/95    Liverpool  Sheffield Weds   1.0   0.0   H\n",
       "4  1995-96  19/08/95     Man City       Tottenham   1.0   1.0   D"
      ]
     },
     "execution_count": 14,
     "metadata": {},
     "output_type": "execute_result"
    }
   ],
   "source": [
    "df = s3_helpers.grab_data_s3(constants.TRAINING_DATA_LOCATION)\n",
    "df = df[constants.COLUMNS_REQ]\n",
    "df.head()"
   ]
  },
  {
   "cell_type": "code",
   "execution_count": 15,
   "id": "6b090a61-7df6-4de1-b9af-333896ae4a55",
   "metadata": {
    "tags": []
   },
   "outputs": [],
   "source": [
    "transformers = preprocessing.fit_transformers(\n",
    "    df\n",
    ")"
   ]
  },
  {
   "cell_type": "code",
   "execution_count": 16,
   "id": "b23f6a98-cfda-43c5-a84e-2815295f0874",
   "metadata": {
    "tags": []
   },
   "outputs": [
    {
     "name": "stdout",
     "output_type": "stream",
     "text": [
      "Transformer object is saved to S3 bucket premier-league-app at app_data/transformers/transformer_v2_20231116.pkl\n"
     ]
    }
   ],
   "source": [
    "s3_helpers.save_transformer_s3_pickle(\n",
    "    transformers, \n",
    "    constants.TRANSFORMER_PATH\n",
    ")"
   ]
  },
  {
   "cell_type": "code",
   "execution_count": 17,
   "id": "5e71ed51-7d1f-4fce-8b3e-3cd19b89ed1c",
   "metadata": {
    "tags": []
   },
   "outputs": [],
   "source": [
    "transformed_data = preprocessing.transform_data(\n",
    "    df, transformers\n",
    ")"
   ]
  },
  {
   "cell_type": "code",
   "execution_count": 18,
   "id": "d81a74a5-b178-41dc-abf2-ce5e22440b46",
   "metadata": {},
   "outputs": [],
   "source": [
    "#transformed_data = transformed_data.drop(['HomeTeam', 'AwayTeam', 'season'], axis=1)"
   ]
  },
  {
   "cell_type": "code",
   "execution_count": 19,
   "id": "58435ad5-ef5b-4b9c-9629-57a79e865718",
   "metadata": {},
   "outputs": [],
   "source": [
    "training_data, testing_data = preprocessing.split_data(transformed_data)"
   ]
  },
  {
   "cell_type": "code",
   "execution_count": 20,
   "id": "129ce0ef-ccf5-4dcd-8d69-16b5de6d5721",
   "metadata": {},
   "outputs": [
    {
     "data": {
      "text/plain": [
       "(8608, 33)"
      ]
     },
     "execution_count": 20,
     "metadata": {},
     "output_type": "execute_result"
    }
   ],
   "source": [
    "training_data.shape"
   ]
  },
  {
   "cell_type": "code",
   "execution_count": 21,
   "id": "55e9d156-149f-4dc9-884b-07c1b442beaa",
   "metadata": {},
   "outputs": [
    {
     "data": {
      "text/plain": [
       "(2152, 33)"
      ]
     },
     "execution_count": 21,
     "metadata": {},
     "output_type": "execute_result"
    }
   ],
   "source": [
    "testing_data.shape"
   ]
  },
  {
   "cell_type": "code",
   "execution_count": 22,
   "id": "b4072a99-cfe8-4153-8753-dfdff40b646c",
   "metadata": {},
   "outputs": [
    {
     "data": {
      "text/html": [
       "<div>\n",
       "<style scoped>\n",
       "    .dataframe tbody tr th:only-of-type {\n",
       "        vertical-align: middle;\n",
       "    }\n",
       "\n",
       "    .dataframe tbody tr th {\n",
       "        vertical-align: top;\n",
       "    }\n",
       "\n",
       "    .dataframe thead th {\n",
       "        text-align: right;\n",
       "    }\n",
       "</style>\n",
       "<table border=\"1\" class=\"dataframe\">\n",
       "  <thead>\n",
       "    <tr style=\"text-align: right;\">\n",
       "      <th></th>\n",
       "      <th>season</th>\n",
       "      <th>HomeTeam</th>\n",
       "      <th>AwayTeam</th>\n",
       "      <th>FTR</th>\n",
       "      <th>HTGS</th>\n",
       "      <th>ATGS</th>\n",
       "      <th>HTGC</th>\n",
       "      <th>ATGC</th>\n",
       "      <th>HTP</th>\n",
       "      <th>ATP</th>\n",
       "      <th>HM1</th>\n",
       "      <th>AM1</th>\n",
       "      <th>HM2</th>\n",
       "      <th>AM2</th>\n",
       "      <th>HM3</th>\n",
       "      <th>AM3</th>\n",
       "      <th>HM4</th>\n",
       "      <th>AM4</th>\n",
       "      <th>HM5</th>\n",
       "      <th>AM5</th>\n",
       "      <th>MW</th>\n",
       "      <th>HTFormPts</th>\n",
       "      <th>ATFormPts</th>\n",
       "      <th>HTGD</th>\n",
       "      <th>ATGD</th>\n",
       "      <th>DiffPts</th>\n",
       "      <th>DiffFormPts</th>\n",
       "      <th>HomeLeaguePosition</th>\n",
       "      <th>AwayLeaguePosition</th>\n",
       "      <th>LeaguePositionDiff</th>\n",
       "      <th>MatchDayDay</th>\n",
       "      <th>MatchDayMonth</th>\n",
       "      <th>MatchDayDate</th>\n",
       "    </tr>\n",
       "  </thead>\n",
       "  <tbody>\n",
       "    <tr>\n",
       "      <th>0</th>\n",
       "      <td>2000-01</td>\n",
       "      <td>Middlesbrough</td>\n",
       "      <td>Liverpool</td>\n",
       "      <td>0</td>\n",
       "      <td>20.0</td>\n",
       "      <td>37.0</td>\n",
       "      <td>28.0</td>\n",
       "      <td>24.0</td>\n",
       "      <td>0.75</td>\n",
       "      <td>1.65</td>\n",
       "      <td>D</td>\n",
       "      <td>W</td>\n",
       "      <td>W</td>\n",
       "      <td>W</td>\n",
       "      <td>L</td>\n",
       "      <td>L</td>\n",
       "      <td>L</td>\n",
       "      <td>W</td>\n",
       "      <td>D</td>\n",
       "      <td>L</td>\n",
       "      <td>20.0</td>\n",
       "      <td>5</td>\n",
       "      <td>9</td>\n",
       "      <td>-0.4</td>\n",
       "      <td>0.65</td>\n",
       "      <td>-0.9</td>\n",
       "      <td>-0.2</td>\n",
       "      <td>18</td>\n",
       "      <td>4</td>\n",
       "      <td>14</td>\n",
       "      <td>Tuesday</td>\n",
       "      <td>December</td>\n",
       "      <td>26</td>\n",
       "    </tr>\n",
       "    <tr>\n",
       "      <th>1</th>\n",
       "      <td>2022-23</td>\n",
       "      <td>West Ham</td>\n",
       "      <td>Man City</td>\n",
       "      <td>2</td>\n",
       "      <td>0.0</td>\n",
       "      <td>0.0</td>\n",
       "      <td>0.0</td>\n",
       "      <td>0.0</td>\n",
       "      <td>0.00</td>\n",
       "      <td>0.00</td>\n",
       "      <td>M</td>\n",
       "      <td>M</td>\n",
       "      <td>M</td>\n",
       "      <td>M</td>\n",
       "      <td>M</td>\n",
       "      <td>M</td>\n",
       "      <td>M</td>\n",
       "      <td>M</td>\n",
       "      <td>M</td>\n",
       "      <td>M</td>\n",
       "      <td>1.0</td>\n",
       "      <td>0</td>\n",
       "      <td>0</td>\n",
       "      <td>0.0</td>\n",
       "      <td>0.00</td>\n",
       "      <td>0.0</td>\n",
       "      <td>0.0</td>\n",
       "      <td>19</td>\n",
       "      <td>13</td>\n",
       "      <td>6</td>\n",
       "      <td>Sunday</td>\n",
       "      <td>August</td>\n",
       "      <td>7</td>\n",
       "    </tr>\n",
       "  </tbody>\n",
       "</table>\n",
       "</div>"
      ],
      "text/plain": [
       "    season       HomeTeam   AwayTeam  FTR  HTGS  ATGS  HTGC  ATGC   HTP   ATP HM1 AM1 HM2 AM2 HM3 AM3 HM4 AM4 HM5 AM5    MW  HTFormPts  ATFormPts  HTGD  ATGD  DiffPts  DiffFormPts  HomeLeaguePosition  AwayLeaguePosition  LeaguePositionDiff MatchDayDay MatchDayMonth  MatchDayDate\n",
       "0  2000-01  Middlesbrough  Liverpool    0  20.0  37.0  28.0  24.0  0.75  1.65   D   W   W   W   L   L   L   W   D   L  20.0          5          9  -0.4  0.65     -0.9         -0.2                  18                   4                  14     Tuesday      December            26\n",
       "1  2022-23       West Ham   Man City    2   0.0   0.0   0.0   0.0  0.00  0.00   M   M   M   M   M   M   M   M   M   M   1.0          0          0   0.0  0.00      0.0          0.0                  19                  13                   6      Sunday        August             7"
      ]
     },
     "execution_count": 22,
     "metadata": {},
     "output_type": "execute_result"
    }
   ],
   "source": [
    "training_data.head(2)"
   ]
  },
  {
   "cell_type": "markdown",
   "id": "617758ac-15f0-4a8a-b0bb-967cff8ff224",
   "metadata": {},
   "source": [
    "### Model Training"
   ]
  },
  {
   "cell_type": "code",
   "execution_count": 23,
   "id": "ef81bed4-96a7-4ba9-9701-076f12e9b653",
   "metadata": {},
   "outputs": [],
   "source": [
    "target_column = 'FTR'"
   ]
  },
  {
   "cell_type": "code",
   "execution_count": 24,
   "id": "64c387f8-b299-4406-a8cf-f44e84c26b22",
   "metadata": {},
   "outputs": [
    {
     "name": "stdout",
     "output_type": "stream",
     "text": [
      "Entering fmin\n",
      "CatBoost initialized                                                                                                \n",
      "Fitting model                                                                                                       \n",
      "Loss: -0.5261324041811847                                                                                           \n",
      "CatBoost initialized                                                                                                \n",
      "Fitting model                                                                                                       \n",
      "Loss: -0.5267131242740999                                                                                           \n",
      "100%|██████████████████████████████████████████████| 2/2 [00:08<00:00,  4.31s/trial, best loss: -0.5267131242740999]\n"
     ]
    }
   ],
   "source": [
    "hyperparameters = training.optimise_hyperparameters(\n",
    "    training_data,\n",
    "    target_column,\n",
    "    max_evals = constants.MAX_EVALS\n",
    ")"
   ]
  },
  {
   "cell_type": "code",
   "execution_count": 25,
   "id": "27c94695-3b22-4296-9101-32b99db9f4a4",
   "metadata": {},
   "outputs": [
    {
     "name": "stdout",
     "output_type": "stream",
     "text": [
      "{'learning_rate': 0.1, 'iterations': 200, 'max_depth': 4}\n"
     ]
    }
   ],
   "source": [
    "print(hyperparameters)"
   ]
  },
  {
   "cell_type": "code",
   "execution_count": 29,
   "id": "f28f82ce-5cb0-45d5-a481-d49f91dbc8ac",
   "metadata": {
    "tags": []
   },
   "outputs": [
    {
     "data": {
      "text/plain": [
       "<module 'premier_league.postgres' from '/Users/david@inawisdom.com/Documents/Training/premier_league/notebooks/../premier_league/postgres.py'>"
      ]
     },
     "execution_count": 29,
     "metadata": {},
     "output_type": "execute_result"
    }
   ],
   "source": [
    "importlib.reload(postgres)"
   ]
  },
  {
   "cell_type": "code",
   "execution_count": 30,
   "id": "cdedbcc1-e67f-422e-af4a-4bbdfd58fd0f",
   "metadata": {
    "tags": []
   },
   "outputs": [
    {
     "name": "stdout",
     "output_type": "stream",
     "text": [
      "Error starting RDS instance: An error occurred (InvalidDBInstanceState) when calling the StartDBInstance operation: Instance premier-league-logging cannot be started as it is not in one of the following statuses: 'stopped, inaccessible-encryption-credentials-recoverable, incompatible-network (only valid for non-SqlServer instances)'.\n"
     ]
    }
   ],
   "source": [
    "# Start postgresDB for model logging\n",
    "postgres.start_rds_instance(constants.POSTGRES_DB_ID)"
   ]
  },
  {
   "cell_type": "code",
   "execution_count": 31,
   "id": "21f3bb87-067e-403a-8dc2-f2832b584f00",
   "metadata": {
    "tags": []
   },
   "outputs": [
    {
     "ename": "ModuleNotFoundError",
     "evalue": "No module named 'config'",
     "output_type": "error",
     "traceback": [
      "\u001b[0;31m---------------------------------------------------------------------------\u001b[0m",
      "\u001b[0;31mModuleNotFoundError\u001b[0m                       Traceback (most recent call last)",
      "File \u001b[0;32m~/Documents/Training/premier_league/notebooks/../premier_league/training.py:19\u001b[0m\n\u001b[1;32m     18\u001b[0m \u001b[38;5;28;01mtry\u001b[39;00m:\n\u001b[0;32m---> 19\u001b[0m     \u001b[38;5;28;01mfrom\u001b[39;00m \u001b[38;5;21;01mpremier_league\u001b[39;00m \u001b[38;5;28;01mimport\u001b[39;00m config \u001b[38;5;28;01mas\u001b[39;00m config\n\u001b[1;32m     20\u001b[0m \u001b[38;5;28;01mexcept\u001b[39;00m \u001b[38;5;167;01mImportError\u001b[39;00m:\n",
      "File \u001b[0;32m~/Documents/Training/premier_league/notebooks/../premier_league/config.py:3\u001b[0m\n\u001b[1;32m      2\u001b[0m \u001b[38;5;28;01mimport\u001b[39;00m \u001b[38;5;21;01mos\u001b[39;00m\n\u001b[0;32m----> 3\u001b[0m \u001b[38;5;28;01mfrom\u001b[39;00m \u001b[38;5;21;01msrc\u001b[39;00m \u001b[38;5;28;01mimport\u001b[39;00m constants\n\u001b[1;32m      6\u001b[0m \u001b[38;5;28;01mif\u001b[39;00m constants\u001b[38;5;241m.\u001b[39mLOCAL_MODE:\n",
      "\u001b[0;31mModuleNotFoundError\u001b[0m: No module named 'src'",
      "\nDuring handling of the above exception, another exception occurred:\n",
      "\u001b[0;31mModuleNotFoundError\u001b[0m                       Traceback (most recent call last)",
      "Cell \u001b[0;32mIn[31], line 1\u001b[0m\n\u001b[0;32m----> 1\u001b[0m \u001b[43mimportlib\u001b[49m\u001b[38;5;241;43m.\u001b[39;49m\u001b[43mreload\u001b[49m\u001b[43m(\u001b[49m\u001b[43mtraining\u001b[49m\u001b[43m)\u001b[49m\n",
      "File \u001b[0;32m~/.pyenv/versions/3.10.1/lib/python3.10/importlib/__init__.py:169\u001b[0m, in \u001b[0;36mreload\u001b[0;34m(module)\u001b[0m\n\u001b[1;32m    167\u001b[0m \u001b[38;5;28;01mif\u001b[39;00m spec \u001b[38;5;129;01mis\u001b[39;00m \u001b[38;5;28;01mNone\u001b[39;00m:\n\u001b[1;32m    168\u001b[0m     \u001b[38;5;28;01mraise\u001b[39;00m \u001b[38;5;167;01mModuleNotFoundError\u001b[39;00m(\u001b[38;5;124mf\u001b[39m\u001b[38;5;124m\"\u001b[39m\u001b[38;5;124mspec not found for the module \u001b[39m\u001b[38;5;132;01m{\u001b[39;00mname\u001b[38;5;132;01m!r}\u001b[39;00m\u001b[38;5;124m\"\u001b[39m, name\u001b[38;5;241m=\u001b[39mname)\n\u001b[0;32m--> 169\u001b[0m \u001b[43m_bootstrap\u001b[49m\u001b[38;5;241;43m.\u001b[39;49m\u001b[43m_exec\u001b[49m\u001b[43m(\u001b[49m\u001b[43mspec\u001b[49m\u001b[43m,\u001b[49m\u001b[43m \u001b[49m\u001b[43mmodule\u001b[49m\u001b[43m)\u001b[49m\n\u001b[1;32m    170\u001b[0m \u001b[38;5;66;03m# The module may have replaced itself in sys.modules!\u001b[39;00m\n\u001b[1;32m    171\u001b[0m \u001b[38;5;28;01mreturn\u001b[39;00m sys\u001b[38;5;241m.\u001b[39mmodules[name]\n",
      "File \u001b[0;32m<frozen importlib._bootstrap>:619\u001b[0m, in \u001b[0;36m_exec\u001b[0;34m(spec, module)\u001b[0m\n",
      "File \u001b[0;32m<frozen importlib._bootstrap_external>:883\u001b[0m, in \u001b[0;36mexec_module\u001b[0;34m(self, module)\u001b[0m\n",
      "File \u001b[0;32m<frozen importlib._bootstrap>:241\u001b[0m, in \u001b[0;36m_call_with_frames_removed\u001b[0;34m(f, *args, **kwds)\u001b[0m\n",
      "File \u001b[0;32m~/Documents/Training/premier_league/notebooks/../premier_league/training.py:21\u001b[0m\n\u001b[1;32m     19\u001b[0m     \u001b[38;5;28;01mfrom\u001b[39;00m \u001b[38;5;21;01mpremier_league\u001b[39;00m \u001b[38;5;28;01mimport\u001b[39;00m config \u001b[38;5;28;01mas\u001b[39;00m config\n\u001b[1;32m     20\u001b[0m \u001b[38;5;28;01mexcept\u001b[39;00m \u001b[38;5;167;01mImportError\u001b[39;00m:\n\u001b[0;32m---> 21\u001b[0m     \u001b[38;5;28;01mimport\u001b[39;00m \u001b[38;5;21;01mconfig\u001b[39;00m\n\u001b[1;32m     23\u001b[0m db_uri \u001b[38;5;241m=\u001b[39m \u001b[38;5;124mf\u001b[39m\u001b[38;5;124m\"\u001b[39m\u001b[38;5;124mpostgresql+psycopg2://postgres:\u001b[39m\u001b[38;5;132;01m{\u001b[39;00mconfig\u001b[38;5;241m.\u001b[39mRDS_DB_PASSWORD\u001b[38;5;132;01m}\u001b[39;00m\u001b[38;5;124m@hostname:5432/\u001b[39m\u001b[38;5;132;01m{\u001b[39;00mconfig\u001b[38;5;241m.\u001b[39mRDS_DB_ID\u001b[38;5;132;01m}\u001b[39;00m\u001b[38;5;124m\"\u001b[39m \n\u001b[1;32m     25\u001b[0m mlflow\u001b[38;5;241m.\u001b[39mset_tracking_uri(db_uri)    \n",
      "\u001b[0;31mModuleNotFoundError\u001b[0m: No module named 'config'"
     ]
    }
   ],
   "source": [
    "importlib.reload(training)"
   ]
  },
  {
   "cell_type": "code",
   "execution_count": null,
   "id": "4fcde535-293e-4467-b1c0-6e25cf4c8416",
   "metadata": {},
   "outputs": [],
   "source": [
    "classifier = training.train_model(\n",
    "    training_data[[col for col in training_data if col != target_column]],\n",
    "    training_data[target_column],\n",
    "    hyperparameters = hyperparameters\n",
    ")"
   ]
  },
  {
   "cell_type": "code",
   "execution_count": null,
   "id": "8976d91e-db3f-4b6d-bc46-66abff92ebff",
   "metadata": {
    "tags": []
   },
   "outputs": [],
   "source": [
    "s3_helpers.save_transformer_s3_pickle(\n",
    "    classifier, \n",
    "    constants.CLASS_MODEL_NAME,\n",
    "    is_transformer=False\n",
    ")"
   ]
  },
  {
   "cell_type": "markdown",
   "id": "ace48a06-42c1-4092-ad3b-131018a2a3a0",
   "metadata": {},
   "source": [
    "### Prediction"
   ]
  },
  {
   "cell_type": "code",
   "execution_count": null,
   "id": "d39abd19-73db-4e58-8f6f-c8e858c84d71",
   "metadata": {},
   "outputs": [],
   "source": [
    "y_test = testing_data[target_column]\n",
    "x_test = testing_data[[col for col in testing_data if col != target_column]]"
   ]
  },
  {
   "cell_type": "code",
   "execution_count": null,
   "id": "6d4b9ea1-077e-418e-8909-9bc3baa36680",
   "metadata": {},
   "outputs": [],
   "source": [
    "predictions = prediction.predict(x_test, classifier)"
   ]
  },
  {
   "cell_type": "markdown",
   "id": "2aff5a12-c696-47ee-aaae-00f049130b41",
   "metadata": {},
   "source": [
    "### Evaluation"
   ]
  },
  {
   "cell_type": "code",
   "execution_count": null,
   "id": "5c24f8e8-8241-4d91-9711-12be717cdc83",
   "metadata": {},
   "outputs": [],
   "source": [
    "evaluation_metrics = evaluation.evaluate_model(predictions, y_test)"
   ]
  },
  {
   "cell_type": "code",
   "execution_count": null,
   "id": "171889a3-53f3-4284-8d80-7e1ac58a94a7",
   "metadata": {},
   "outputs": [],
   "source": [
    "evaluation_metrics"
   ]
  },
  {
   "cell_type": "markdown",
   "id": "17bf79a7-f695-4794-8b2a-acdb0c324f55",
   "metadata": {},
   "source": [
    "### Part 2: Predict Score"
   ]
  },
  {
   "cell_type": "code",
   "execution_count": null,
   "id": "20ebb24a-5ec5-4187-a19b-602d46071b8b",
   "metadata": {},
   "outputs": [],
   "source": [
    "transformed_data = prediction.add_match_result(\n",
    "    transformed_data, classifier, df )"
   ]
  },
  {
   "cell_type": "code",
   "execution_count": null,
   "id": "642c71e9-cb7d-47b8-bc77-5aa3d5538271",
   "metadata": {},
   "outputs": [],
   "source": [
    "s3_helpers.save_data_s3(\n",
    "    transformed_data,\n",
    "    constants.TRANSFORMED_DATA_LOCATION\n",
    ")"
   ]
  },
  {
   "cell_type": "code",
   "execution_count": null,
   "id": "732ea4b1-9436-4fb3-bdfe-58abeb44c02b",
   "metadata": {},
   "outputs": [],
   "source": [
    "transformed_data.shape"
   ]
  },
  {
   "cell_type": "code",
   "execution_count": null,
   "id": "9bc8924c-e119-418c-917d-cc64c6391a86",
   "metadata": {},
   "outputs": [],
   "source": [
    "training_data, testing_data = preprocessing.split_data(transformed_data)"
   ]
  },
  {
   "cell_type": "code",
   "execution_count": null,
   "id": "3c400162-9c6e-4606-ac04-4db30b148a3a",
   "metadata": {},
   "outputs": [],
   "source": [
    "hyperparameters = training.optimise_hyperparameters(\n",
    "    training_data.drop(['FTR','FTAG'], axis=1),\n",
    "    'FTHG',\n",
    "    classification=False,\n",
    "    max_evals=constants.MAX_EVALS\n",
    ")"
   ]
  },
  {
   "cell_type": "code",
   "execution_count": null,
   "id": "71a609f1-869e-41df-bd89-59873c00b094",
   "metadata": {},
   "outputs": [],
   "source": [
    "regressor_1 = training.train_model(\n",
    "    training_data.drop(['FTR', 'FTHG','FTAG'], axis=1),\n",
    "    training_data['FTHG'],\n",
    "    model_type='home',\n",
    "    verbose=False,\n",
    "    hyperparameters = hyperparameters\n",
    ")"
   ]
  },
  {
   "cell_type": "code",
   "execution_count": null,
   "id": "ea386ad0-fe7a-439e-a316-48c1616490be",
   "metadata": {
    "tags": []
   },
   "outputs": [],
   "source": [
    "s3_helpers.save_transformer_s3_pickle(\n",
    "    regressor_1, \n",
    "    constants.HOME_MODEL_NAME,\n",
    "    is_transformer=False\n",
    ")"
   ]
  },
  {
   "cell_type": "code",
   "execution_count": null,
   "id": "0c29fadd-0c71-4841-923a-5173a8b4334f",
   "metadata": {},
   "outputs": [],
   "source": [
    "hyperparameters = training.optimise_hyperparameters(\n",
    "    training_data.drop(['FTR', 'FTHG'], axis=1),\n",
    "    'FTAG',\n",
    "    classification=False,\n",
    "    max_evals=constants.MAX_EVALS\n",
    ")"
   ]
  },
  {
   "cell_type": "code",
   "execution_count": null,
   "id": "28969333-fe52-4535-9555-25f8d54ad9e3",
   "metadata": {},
   "outputs": [],
   "source": [
    "regressor_2 = training.train_model(\n",
    "    training_data.drop(['FTR', 'FTHG','FTAG'], axis=1),\n",
    "    training_data['FTAG'],\n",
    "    model_type='away',\n",
    "    verbose=False,\n",
    "    hyperparameters = hyperparameters\n",
    ")"
   ]
  },
  {
   "cell_type": "code",
   "execution_count": null,
   "id": "00f0b231-1be6-4305-8ce8-8efd0ade6372",
   "metadata": {},
   "outputs": [],
   "source": [
    "s3_helpers.save_transformer_s3_pickle(\n",
    "    regressor_2, \n",
    "    constants.AWAY_MODEL_NAME,\n",
    "    is_transformer=False\n",
    ")"
   ]
  },
  {
   "cell_type": "markdown",
   "id": "2f52b858-bd52-42b6-801d-a4a6c9f005c4",
   "metadata": {},
   "source": [
    "### Predict Home Goals"
   ]
  },
  {
   "cell_type": "code",
   "execution_count": null,
   "id": "218abb44-a810-4fd8-9b1b-d4ecbb0c6961",
   "metadata": {},
   "outputs": [],
   "source": [
    "y_test = testing_data['FTHG']\n",
    "x_test = testing_data.copy()"
   ]
  },
  {
   "cell_type": "code",
   "execution_count": null,
   "id": "31f43c4c-f014-4d01-bf97-7c1915fa3c7c",
   "metadata": {},
   "outputs": [],
   "source": [
    "predictions_1 = prediction.predict(x_test, regressor_1)"
   ]
  },
  {
   "cell_type": "code",
   "execution_count": null,
   "id": "3536d818-f467-4e84-b338-47cd5aaabfb2",
   "metadata": {},
   "outputs": [],
   "source": [
    "evaluation_metrics = evaluation.evaluate_model(predictions_1, \n",
    "                                               y_test, classification=False)\n",
    "evaluation_metrics"
   ]
  },
  {
   "cell_type": "markdown",
   "id": "1b153762-072d-4a64-bfd1-27320344e55b",
   "metadata": {},
   "source": [
    "### Predict Away Goals"
   ]
  },
  {
   "cell_type": "code",
   "execution_count": null,
   "id": "4bd9d15a-0527-4e4f-8c7b-e7904c6c3221",
   "metadata": {},
   "outputs": [],
   "source": [
    "y_test = testing_data['FTAG']\n",
    "x_test = testing_data.copy()"
   ]
  },
  {
   "cell_type": "code",
   "execution_count": null,
   "id": "9dd1606b-309a-4258-8c07-c77999d153f0",
   "metadata": {},
   "outputs": [],
   "source": [
    "predictions_2 = prediction.predict(x_test, classifier)"
   ]
  },
  {
   "cell_type": "code",
   "execution_count": null,
   "id": "51896e4c-2c78-4993-b402-8ba46a6db0d0",
   "metadata": {},
   "outputs": [],
   "source": [
    "evaluation_metrics = evaluation.evaluate_model(predictions_2, \n",
    "                                               y_test, classification=False)\n",
    "evaluation_metrics"
   ]
  },
  {
   "cell_type": "markdown",
   "id": "03fb68aa-9841-43f9-bd6b-af1644f5438c",
   "metadata": {},
   "source": [
    "### Visualisations of results"
   ]
  },
  {
   "cell_type": "code",
   "execution_count": null,
   "id": "725dad97-10a2-4fe4-a2c3-09632e80e57d",
   "metadata": {},
   "outputs": [],
   "source": [
    "x_test['Home Prediction'] = predictions_1\n",
    "x_test['Away Prediction'] = predictions_2"
   ]
  },
  {
   "cell_type": "code",
   "execution_count": null,
   "id": "39b9cc58-919a-47e1-82d6-8d3b3e6c4371",
   "metadata": {},
   "outputs": [],
   "source": [
    "visualisations.histoplot(x_test, ha='Home')"
   ]
  },
  {
   "cell_type": "code",
   "execution_count": null,
   "id": "95437786-9a2a-4d63-a2a3-2156993738dc",
   "metadata": {},
   "outputs": [],
   "source": [
    "visualisations.histoplot(x_test, ha='Away')"
   ]
  },
  {
   "cell_type": "code",
   "execution_count": null,
   "id": "3f422e75-3e5a-4d8d-89f2-2749aa602912",
   "metadata": {},
   "outputs": [],
   "source": [
    "visualisations.actuals_predicted(x_test, ha='Home')"
   ]
  },
  {
   "cell_type": "code",
   "execution_count": null,
   "id": "a18849ec-4b7d-4adc-933c-7126a4e52fed",
   "metadata": {},
   "outputs": [],
   "source": [
    "visualisations.actuals_predicted(x_test, ha='Away')"
   ]
  },
  {
   "cell_type": "code",
   "execution_count": null,
   "id": "afef6e5c-b729-4482-91c5-4dee3739c9d8",
   "metadata": {},
   "outputs": [],
   "source": [
    "visualisations.plot_features(regressor_1, 'Home',n=20)"
   ]
  },
  {
   "cell_type": "code",
   "execution_count": null,
   "id": "d8d0672d-c76b-47ce-a029-2ebb2fbb1a6f",
   "metadata": {},
   "outputs": [],
   "source": [
    "visualisations.plot_features(regressor_2, 'Away')"
   ]
  }
 ],
 "metadata": {
  "kernelspec": {
   "display_name": "env_premier_league",
   "language": "python",
   "name": "env_premier_league"
  },
  "language_info": {
   "codemirror_mode": {
    "name": "ipython",
    "version": 3
   },
   "file_extension": ".py",
   "mimetype": "text/x-python",
   "name": "python",
   "nbconvert_exporter": "python",
   "pygments_lexer": "ipython3",
   "version": "3.10.1"
  }
 },
 "nbformat": 4,
 "nbformat_minor": 5
}
