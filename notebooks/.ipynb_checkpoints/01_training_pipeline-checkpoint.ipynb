{
 "cells": [
  {
   "cell_type": "code",
   "execution_count": null,
   "id": "bc29a6a0-9139-4428-9bf3-77a6227c36f3",
   "metadata": {},
   "outputs": [],
   "source": [
    "import pandas as pd\n",
    "import numpy as np\n",
    "import joblib\n",
    "import sys\n",
    "sys.path.append('../')\n",
    "\n",
    "try:\n",
    "    from premier_league import (\n",
    "        constants,\n",
    "        preprocessing,\n",
    "        preprocessing_helpers,\n",
    "        training,\n",
    "        evaluation,\n",
    "        prediction,\n",
    "        data_extraction,\n",
    "        visualisations,\n",
    "        s3_helpers,\n",
    "        postgres,\n",
    "        mlflow_functions,\n",
    "        expectations_helpers,\n",
    "        email_functions,\n",
    "        data_drift_functions,\n",
    "    )\n",
    "except ModuleNotFoundError:\n",
    "    import constants\n",
    "    import preprocessing\n",
    "    import preprocessing_helpers\n",
    "    import training\n",
    "    import evaluation\n",
    "    import prediction\n",
    "    import data_extraction\n",
    "    import visualisations\n",
    "    import s3_helpers\n",
    "    import postgres\n",
    "    import mlflow_functions\n",
    "    import expectations_helpers\n",
    "    import email_functions\n",
    "    import data_drift_functions"
   ]
  },
  {
   "cell_type": "code",
   "execution_count": null,
   "id": "29cceb73-4a66-4871-b0b5-5711d319cc7b",
   "metadata": {},
   "outputs": [],
   "source": [
    "df = s3_helpers.grab_data_s3(constants.TRAINING_DATA_LOCATION)\n",
    "df = df[constants.COLUMNS_REQ]"
   ]
  },
  {
   "cell_type": "code",
   "execution_count": null,
   "id": "026295b9-e988-4107-8e37-37187c520478",
   "metadata": {
    "tags": []
   },
   "outputs": [],
   "source": [
    "df.head()"
   ]
  },
  {
   "cell_type": "markdown",
   "id": "e8d063d3-6f36-4385-95f0-ac88d68a0782",
   "metadata": {},
   "source": [
    "### Set up data validation"
   ]
  },
  {
   "cell_type": "code",
   "execution_count": null,
   "id": "be3f2b30-157a-4beb-915b-ebe878a11789",
   "metadata": {},
   "outputs": [],
   "source": [
    "if constants.RUN_DATA_EXPECTATIONS:\n",
    "    ge_class = expectations_helpers.AutoGreatExpectations(df)"
   ]
  },
  {
   "cell_type": "code",
   "execution_count": null,
   "id": "25aaa8bb-ad57-415c-b088-4b4cf5da085d",
   "metadata": {},
   "outputs": [],
   "source": [
    "if constants.RUN_DATA_EXPECTATIONS:\n",
    "    ge_data = ge_class.generate_expectations(verbose=False)"
   ]
  },
  {
   "cell_type": "code",
   "execution_count": null,
   "id": "8fda5f6e-4fe6-46db-a977-4f964a66f40e",
   "metadata": {},
   "outputs": [],
   "source": [
    "if constants.RUN_DATA_EXPECTATIONS:\n",
    "    expectations_helpers.view_suite_summary(ge_data)"
   ]
  },
  {
   "cell_type": "code",
   "execution_count": null,
   "id": "eb12f51d-c351-4b4c-9c5a-840043116efb",
   "metadata": {},
   "outputs": [],
   "source": [
    "# Save expectations to S3\n",
    "expectations_helpers.save_expectations(\n",
    "    ge_data,\n",
    "    f'app_data/expectations/exp_prem_results_{constants.current_time}.json'\n",
    ")"
   ]
  },
  {
   "cell_type": "markdown",
   "id": "ef348438-9dd6-428c-955d-30c941280728",
   "metadata": {},
   "source": [
    "### Validate data"
   ]
  },
  {
   "cell_type": "code",
   "execution_count": null,
   "id": "56598576-f37e-4b2a-b9d8-da56dc04bc2f",
   "metadata": {},
   "outputs": [],
   "source": [
    "# Load latest expectations\n",
    "data_expectations = expectations_helpers.load_latest_expectations(\n",
    "    expectations_helpers.latest_exp_file()\n",
    ")"
   ]
  },
  {
   "cell_type": "code",
   "execution_count": null,
   "id": "fd8da7b2-be2e-4018-87b9-d541e52451e6",
   "metadata": {},
   "outputs": [],
   "source": [
    "if constants.INITIAL_DATA_LOAD:\n",
    "    full_data = data_extraction.load_all_data(\n",
    "        constants.TRAINING_DATA_LOCATION,\n",
    "        constants.COLUMNS_REQ\n",
    "    )\n",
    "else:\n",
    "    full_data = s3_helpers.grab_data_s3(\n",
    "        constants.TRAINING_DATA_LOCATION\n",
    "    )\n"
   ]
  },
  {
   "cell_type": "code",
   "execution_count": null,
   "id": "a1b96d31-7bce-40ed-b111-a7c2cf5fdab0",
   "metadata": {},
   "outputs": [],
   "source": [
    "full_data = data_extraction.add_new_data(\n",
    "    full_data, \n",
    "    constants.COLUMNS_REQ,\n",
    "    constants.TRAINING_DATA_LOCATION\n",
    ")"
   ]
  },
  {
   "cell_type": "code",
   "execution_count": null,
   "id": "f68b2beb-a8c0-4926-b3f9-60cb3e902c28",
   "metadata": {},
   "outputs": [],
   "source": [
    "validation_results = expectations_helpers.validate_data(\n",
    "        full_data, \n",
    "        data_expectations,\n",
    "        expectations_path = constants.VALIDATION_RESULTS_PATH\n",
    ")"
   ]
  },
  {
   "cell_type": "code",
   "execution_count": null,
   "id": "fdfa6b51-4e95-4a12-b168-3c0a348b3111",
   "metadata": {},
   "outputs": [],
   "source": [
    "if not validation_results['success']:\n",
    "    email_functions.send_email(\n",
    "        'data_validation',\n",
    "        constants.S3_BUCKET, \n",
    "        expectations_helpers.latest_exp_file(),\n",
    "        constants.VALIDATION_TOPIC, \n",
    "    )\n",
    "    raise Exception('Stopping Pipeline. Validation has failed')"
   ]
  },
  {
   "cell_type": "markdown",
   "id": "c55de904-6430-42ec-960c-f4e827354157",
   "metadata": {},
   "source": [
    "### Data Drift Detection"
   ]
  },
  {
   "cell_type": "code",
   "execution_count": null,
   "id": "04181b8e-e1db-4fa2-8929-955d8d5f509e",
   "metadata": {},
   "outputs": [],
   "source": [
    "# Load historical data\n",
    "historical = s3_helpers.grab_data_s3(\n",
    "    constants.HISTORICAL_DATA_DRIFT\n",
    ")"
   ]
  },
  {
   "cell_type": "code",
   "execution_count": null,
   "id": "0738ce50-036d-4452-83c9-c99cbe257e17",
   "metadata": {},
   "outputs": [],
   "source": [
    "data_drift = data_drift_functions.DriftDetector(\n",
    "    historical,\n",
    "    full_data\n",
    ")"
   ]
  },
  {
   "cell_type": "code",
   "execution_count": null,
   "id": "8e2f2877-5318-48eb-a683-ffb4e2cb2648",
   "metadata": {},
   "outputs": [],
   "source": [
    "drift_report = data_drift.check_data_drift(\n",
    "    constants.DRIFT_REPORT_LOC\n",
    ")"
   ]
  },
  {
   "cell_type": "markdown",
   "id": "086fc8a3-e6e4-488b-a899-392e0106b65c",
   "metadata": {},
   "source": [
    "### Preprocessing"
   ]
  },
  {
   "cell_type": "code",
   "execution_count": null,
   "id": "333ebe6d-72e4-4826-83b7-ed671952dbc7",
   "metadata": {},
   "outputs": [],
   "source": [
    "df = s3_helpers.grab_data_s3(constants.TRAINING_DATA_LOCATION)\n",
    "df = df[constants.COLUMNS_REQ]\n",
    "df.head()"
   ]
  },
  {
   "cell_type": "code",
   "execution_count": null,
   "id": "6b090a61-7df6-4de1-b9af-333896ae4a55",
   "metadata": {
    "tags": []
   },
   "outputs": [],
   "source": [
    "transformers = preprocessing.fit_transformers(\n",
    "    df\n",
    ")"
   ]
  },
  {
   "cell_type": "code",
   "execution_count": null,
   "id": "b23f6a98-cfda-43c5-a84e-2815295f0874",
   "metadata": {
    "tags": []
   },
   "outputs": [],
   "source": [
    "s3_helpers.save_transformer_s3_pickle(\n",
    "    transformers, \n",
    "    constants.TRANSFORMER_PATH\n",
    ")"
   ]
  },
  {
   "cell_type": "code",
   "execution_count": null,
   "id": "5e71ed51-7d1f-4fce-8b3e-3cd19b89ed1c",
   "metadata": {
    "tags": []
   },
   "outputs": [],
   "source": [
    "transformed_data = preprocessing.transform_data(\n",
    "    df, transformers\n",
    ")"
   ]
  },
  {
   "cell_type": "code",
   "execution_count": null,
   "id": "d81a74a5-b178-41dc-abf2-ce5e22440b46",
   "metadata": {},
   "outputs": [],
   "source": [
    "#transformed_data = transformed_data.drop(['HomeTeam', 'AwayTeam', 'season'], axis=1)"
   ]
  },
  {
   "cell_type": "code",
   "execution_count": null,
   "id": "58435ad5-ef5b-4b9c-9629-57a79e865718",
   "metadata": {},
   "outputs": [],
   "source": [
    "training_data, testing_data = preprocessing.split_data(transformed_data)"
   ]
  },
  {
   "cell_type": "code",
   "execution_count": null,
   "id": "129ce0ef-ccf5-4dcd-8d69-16b5de6d5721",
   "metadata": {},
   "outputs": [],
   "source": [
    "training_data.shape"
   ]
  },
  {
   "cell_type": "code",
   "execution_count": null,
   "id": "55e9d156-149f-4dc9-884b-07c1b442beaa",
   "metadata": {},
   "outputs": [],
   "source": [
    "testing_data.shape"
   ]
  },
  {
   "cell_type": "code",
   "execution_count": null,
   "id": "b4072a99-cfe8-4153-8753-dfdff40b646c",
   "metadata": {},
   "outputs": [],
   "source": [
    "training_data.head(2)"
   ]
  },
  {
   "cell_type": "markdown",
   "id": "617758ac-15f0-4a8a-b0bb-967cff8ff224",
   "metadata": {},
   "source": [
    "### Model Training"
   ]
  },
  {
   "cell_type": "code",
   "execution_count": null,
   "id": "ef81bed4-96a7-4ba9-9701-076f12e9b653",
   "metadata": {},
   "outputs": [],
   "source": [
    "target_column = 'FTR'"
   ]
  },
  {
   "cell_type": "code",
   "execution_count": null,
   "id": "64c387f8-b299-4406-a8cf-f44e84c26b22",
   "metadata": {},
   "outputs": [],
   "source": [
    "hyperparameters = training.optimise_hyperparameters(\n",
    "    training_data,\n",
    "    target_column,\n",
    "    max_evals = constants.MAX_EVALS\n",
    ")"
   ]
  },
  {
   "cell_type": "code",
   "execution_count": null,
   "id": "27c94695-3b22-4296-9101-32b99db9f4a4",
   "metadata": {},
   "outputs": [],
   "source": [
    "print(hyperparameters)"
   ]
  },
  {
   "cell_type": "code",
   "execution_count": null,
   "id": "cdedbcc1-e67f-422e-af4a-4bbdfd58fd0f",
   "metadata": {
    "scrolled": true,
    "tags": []
   },
   "outputs": [],
   "source": [
    "# Start postgresDB for model logging\n",
    "if postgres.get_instance_status(\n",
    "        constants.POSTGRES_DB_ID) != 'available':\n",
    "    postgres.start_rds_instance(constants.POSTGRES_DB_ID)"
   ]
  },
  {
   "cell_type": "code",
   "execution_count": null,
   "id": "2b60160d-080f-4314-89b4-4c3a2d600595",
   "metadata": {},
   "outputs": [],
   "source": [
    "# Open mlflow tracking\n",
    "mlflow_functions.open_mlflow_tracking(\n",
    "    constants.EXP_NAME\n",
    ")"
   ]
  },
  {
   "cell_type": "code",
   "execution_count": null,
   "id": "4fcde535-293e-4467-b1c0-6e25cf4c8416",
   "metadata": {},
   "outputs": [],
   "source": [
    "classifier, run_id = training.train_model(\n",
    "    training_data[[col for col in training_data if col != target_column]],\n",
    "    training_data[target_column],\n",
    "    hyperparameters = hyperparameters\n",
    ")"
   ]
  },
  {
   "cell_type": "code",
   "execution_count": null,
   "id": "8976d91e-db3f-4b6d-bc46-66abff92ebff",
   "metadata": {
    "tags": []
   },
   "outputs": [],
   "source": [
    "s3_helpers.save_transformer_s3_pickle(\n",
    "    classifier, \n",
    "    constants.CLASS_MODEL_NAME,\n",
    "    is_transformer=False\n",
    ")"
   ]
  },
  {
   "cell_type": "markdown",
   "id": "ace48a06-42c1-4092-ad3b-131018a2a3a0",
   "metadata": {},
   "source": [
    "### Prediction"
   ]
  },
  {
   "cell_type": "code",
   "execution_count": null,
   "id": "d39abd19-73db-4e58-8f6f-c8e858c84d71",
   "metadata": {},
   "outputs": [],
   "source": [
    "y_test = testing_data[target_column]\n",
    "x_test = testing_data[[col for col in testing_data if col != target_column]]"
   ]
  },
  {
   "cell_type": "code",
   "execution_count": null,
   "id": "6d4b9ea1-077e-418e-8909-9bc3baa36680",
   "metadata": {},
   "outputs": [],
   "source": [
    "predictions = prediction.predict(x_test, classifier)"
   ]
  },
  {
   "cell_type": "markdown",
   "id": "2aff5a12-c696-47ee-aaae-00f049130b41",
   "metadata": {},
   "source": [
    "### Evaluation"
   ]
  },
  {
   "cell_type": "code",
   "execution_count": null,
   "id": "5c24f8e8-8241-4d91-9711-12be717cdc83",
   "metadata": {},
   "outputs": [],
   "source": [
    "evaluation_metrics = evaluation.evaluate_model(\n",
    "    predictions, \n",
    "    y_test,\n",
    "    model_type='result',\n",
    "    run_id=run_id\n",
    ")"
   ]
  },
  {
   "cell_type": "code",
   "execution_count": null,
   "id": "171889a3-53f3-4284-8d80-7e1ac58a94a7",
   "metadata": {},
   "outputs": [],
   "source": [
    "evaluation_metrics"
   ]
  },
  {
   "cell_type": "markdown",
   "id": "17bf79a7-f695-4794-8b2a-acdb0c324f55",
   "metadata": {},
   "source": [
    "### Part 2: Predict Score"
   ]
  },
  {
   "cell_type": "code",
   "execution_count": null,
   "id": "20ebb24a-5ec5-4187-a19b-602d46071b8b",
   "metadata": {},
   "outputs": [],
   "source": [
    "transformed_data = prediction.add_match_result(\n",
    "    transformed_data, classifier, df )"
   ]
  },
  {
   "cell_type": "code",
   "execution_count": null,
   "id": "642c71e9-cb7d-47b8-bc77-5aa3d5538271",
   "metadata": {},
   "outputs": [],
   "source": [
    "s3_helpers.save_data_s3(\n",
    "    transformed_data,\n",
    "    constants.TRANSFORMED_DATA_LOCATION\n",
    ")"
   ]
  },
  {
   "cell_type": "code",
   "execution_count": null,
   "id": "732ea4b1-9436-4fb3-bdfe-58abeb44c02b",
   "metadata": {},
   "outputs": [],
   "source": [
    "transformed_data.shape"
   ]
  },
  {
   "cell_type": "code",
   "execution_count": null,
   "id": "9bc8924c-e119-418c-917d-cc64c6391a86",
   "metadata": {},
   "outputs": [],
   "source": [
    "training_data, testing_data = preprocessing.split_data(transformed_data)"
   ]
  },
  {
   "cell_type": "code",
   "execution_count": null,
   "id": "3c400162-9c6e-4606-ac04-4db30b148a3a",
   "metadata": {},
   "outputs": [],
   "source": [
    "hyperparameters = training.optimise_hyperparameters(\n",
    "    training_data.drop(['FTR','FTAG'], axis=1),\n",
    "    'FTHG',\n",
    "    classification=False,\n",
    "    max_evals=constants.MAX_EVALS\n",
    ")"
   ]
  },
  {
   "cell_type": "code",
   "execution_count": null,
   "id": "71a609f1-869e-41df-bd89-59873c00b094",
   "metadata": {},
   "outputs": [],
   "source": [
    "regressor_1, run_id_home = training.train_model(\n",
    "    training_data.drop(['FTR', 'FTHG','FTAG'], axis=1),\n",
    "    training_data['FTHG'],\n",
    "    model_type='home',\n",
    "    verbose=False,\n",
    "    hyperparameters = hyperparameters\n",
    ")"
   ]
  },
  {
   "cell_type": "code",
   "execution_count": null,
   "id": "ea386ad0-fe7a-439e-a316-48c1616490be",
   "metadata": {
    "tags": []
   },
   "outputs": [],
   "source": [
    "s3_helpers.save_transformer_s3_pickle(\n",
    "    regressor_1, \n",
    "    constants.HOME_MODEL_NAME,\n",
    "    is_transformer=False\n",
    ")"
   ]
  },
  {
   "cell_type": "code",
   "execution_count": null,
   "id": "0c29fadd-0c71-4841-923a-5173a8b4334f",
   "metadata": {},
   "outputs": [],
   "source": [
    "hyperparameters = training.optimise_hyperparameters(\n",
    "    training_data.drop(['FTR', 'FTHG'], axis=1),\n",
    "    'FTAG',\n",
    "    classification=False,\n",
    "    max_evals=constants.MAX_EVALS\n",
    ")"
   ]
  },
  {
   "cell_type": "code",
   "execution_count": null,
   "id": "28969333-fe52-4535-9555-25f8d54ad9e3",
   "metadata": {},
   "outputs": [],
   "source": [
    "regressor_2, run_id_away = training.train_model(\n",
    "    training_data.drop(['FTR', 'FTHG','FTAG'], axis=1),\n",
    "    training_data['FTAG'],\n",
    "    model_type='away',\n",
    "    verbose=False,\n",
    "    hyperparameters = hyperparameters\n",
    ")"
   ]
  },
  {
   "cell_type": "code",
   "execution_count": null,
   "id": "00f0b231-1be6-4305-8ce8-8efd0ade6372",
   "metadata": {},
   "outputs": [],
   "source": [
    "s3_helpers.save_transformer_s3_pickle(\n",
    "    regressor_2, \n",
    "    constants.AWAY_MODEL_NAME,\n",
    "    is_transformer=False\n",
    ")"
   ]
  },
  {
   "cell_type": "markdown",
   "id": "2f52b858-bd52-42b6-801d-a4a6c9f005c4",
   "metadata": {},
   "source": [
    "### Predict Home Goals"
   ]
  },
  {
   "cell_type": "code",
   "execution_count": null,
   "id": "218abb44-a810-4fd8-9b1b-d4ecbb0c6961",
   "metadata": {},
   "outputs": [],
   "source": [
    "y_test = testing_data['FTHG']\n",
    "x_test = testing_data.copy()"
   ]
  },
  {
   "cell_type": "code",
   "execution_count": null,
   "id": "31f43c4c-f014-4d01-bf97-7c1915fa3c7c",
   "metadata": {},
   "outputs": [],
   "source": [
    "predictions_1 = prediction.predict(x_test, regressor_1)"
   ]
  },
  {
   "cell_type": "code",
   "execution_count": null,
   "id": "3536d818-f467-4e84-b338-47cd5aaabfb2",
   "metadata": {},
   "outputs": [],
   "source": [
    "evaluation_metrics = evaluation.evaluate_model(\n",
    "    predictions_1, \n",
    "    y_test, \n",
    "    model_type='home',\n",
    "    run_id=run_id_home    \n",
    ")\n",
    "evaluation_metrics"
   ]
  },
  {
   "cell_type": "markdown",
   "id": "1b153762-072d-4a64-bfd1-27320344e55b",
   "metadata": {},
   "source": [
    "### Predict Away Goals"
   ]
  },
  {
   "cell_type": "code",
   "execution_count": null,
   "id": "4bd9d15a-0527-4e4f-8c7b-e7904c6c3221",
   "metadata": {},
   "outputs": [],
   "source": [
    "y_test = testing_data['FTAG']\n",
    "x_test = testing_data.copy()"
   ]
  },
  {
   "cell_type": "code",
   "execution_count": null,
   "id": "9dd1606b-309a-4258-8c07-c77999d153f0",
   "metadata": {},
   "outputs": [],
   "source": [
    "predictions_2 = prediction.predict(\n",
    "    x_test, classifier)"
   ]
  },
  {
   "cell_type": "code",
   "execution_count": null,
   "id": "51896e4c-2c78-4993-b402-8ba46a6db0d0",
   "metadata": {},
   "outputs": [],
   "source": [
    "evaluation_metrics = evaluation.evaluate_model(\n",
    "    predictions_2, \n",
    "    y_test, \n",
    "    model_type='away',\n",
    "    run_id=run_id_away\n",
    ")\n",
    "evaluation_metrics"
   ]
  },
  {
   "cell_type": "code",
   "execution_count": null,
   "id": "b26612c5-d5e0-45be-a474-bbe99d5516e5",
   "metadata": {},
   "outputs": [],
   "source": [
    "# Close DB Instance\n",
    "postgres.stop_rds_instance(\n",
    "    constants.POSTGRES_DB_ID\n",
    ")"
   ]
  },
  {
   "cell_type": "markdown",
   "id": "03fb68aa-9841-43f9-bd6b-af1644f5438c",
   "metadata": {},
   "source": [
    "### Visualisations of results"
   ]
  },
  {
   "cell_type": "code",
   "execution_count": null,
   "id": "725dad97-10a2-4fe4-a2c3-09632e80e57d",
   "metadata": {},
   "outputs": [],
   "source": [
    "x_test['Home Prediction'] = predictions_1\n",
    "x_test['Away Prediction'] = predictions_2"
   ]
  },
  {
   "cell_type": "code",
   "execution_count": null,
   "id": "39b9cc58-919a-47e1-82d6-8d3b3e6c4371",
   "metadata": {},
   "outputs": [],
   "source": [
    "visualisations.histoplot(x_test, ha='Home')"
   ]
  },
  {
   "cell_type": "code",
   "execution_count": null,
   "id": "95437786-9a2a-4d63-a2a3-2156993738dc",
   "metadata": {},
   "outputs": [],
   "source": [
    "visualisations.histoplot(x_test, ha='Away')"
   ]
  },
  {
   "cell_type": "code",
   "execution_count": null,
   "id": "3f422e75-3e5a-4d8d-89f2-2749aa602912",
   "metadata": {},
   "outputs": [],
   "source": [
    "visualisations.actuals_predicted(x_test, ha='Home')"
   ]
  },
  {
   "cell_type": "code",
   "execution_count": null,
   "id": "a18849ec-4b7d-4adc-933c-7126a4e52fed",
   "metadata": {},
   "outputs": [],
   "source": [
    "visualisations.actuals_predicted(x_test, ha='Away')"
   ]
  },
  {
   "cell_type": "code",
   "execution_count": null,
   "id": "afef6e5c-b729-4482-91c5-4dee3739c9d8",
   "metadata": {},
   "outputs": [],
   "source": [
    "visualisations.plot_features(regressor_1, 'Home',n=20)"
   ]
  },
  {
   "cell_type": "code",
   "execution_count": null,
   "id": "d8d0672d-c76b-47ce-a029-2ebb2fbb1a6f",
   "metadata": {},
   "outputs": [],
   "source": [
    "visualisations.plot_features(regressor_2, 'Away')"
   ]
  },
  {
   "cell_type": "code",
   "execution_count": null,
   "id": "9206f8ec-196f-4743-b3f8-bd1f97b0fd32",
   "metadata": {},
   "outputs": [],
   "source": []
  }
 ],
 "metadata": {
  "kernelspec": {
   "display_name": "env_premier_league",
   "language": "python",
   "name": "env_premier_league"
  },
  "language_info": {
   "codemirror_mode": {
    "name": "ipython",
    "version": 3
   },
   "file_extension": ".py",
   "mimetype": "text/x-python",
   "name": "python",
   "nbconvert_exporter": "python",
   "pygments_lexer": "ipython3",
   "version": "3.10.1"
  }
 },
 "nbformat": 4,
 "nbformat_minor": 5
}
