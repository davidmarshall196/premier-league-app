{
 "cells": [
  {
   "cell_type": "markdown",
   "id": "45c92254-ec10-4c5a-a1dd-5fe653d9a09c",
   "metadata": {},
   "source": [
    "# Code Quality Checks"
   ]
  },
  {
   "cell_type": "code",
   "execution_count": 1,
   "id": "48631d77-6dce-456b-a58d-e663a8eb1fd9",
   "metadata": {},
   "outputs": [],
   "source": [
    "import sys\n",
    "sys.path.append('../')\n",
    "try:\n",
    "    from premier_league import constants\n",
    "    from premier_league import code_quality_functions\n",
    "except ModuleNotFoundError:\n",
    "    import constants\n",
    "    import code_quality_functions"
   ]
  },
  {
   "cell_type": "code",
   "execution_count": 2,
   "id": "37a098e9-8ebd-44aa-96fa-28fc797f01aa",
   "metadata": {},
   "outputs": [
    {
     "data": {
      "text/plain": [
       "'/Users/david@inawisdom.com/Documents/Training/premier_league/notebooks'"
      ]
     },
     "execution_count": 2,
     "metadata": {},
     "output_type": "execute_result"
    }
   ],
   "source": [
    "import os\n",
    "os.getcwd()"
   ]
  },
  {
   "cell_type": "markdown",
   "id": "852039e9-89fb-4908-8514-30e349a869cc",
   "metadata": {},
   "source": [
    "## Unit Tests"
   ]
  },
  {
   "cell_type": "code",
   "execution_count": 22,
   "id": "370a3694-60e4-4c2f-859f-8c5d10014840",
   "metadata": {},
   "outputs": [
    {
     "name": "stdout",
     "output_type": "stream",
     "text": [
      "An error occurred while running tests: Tests failed. Please check.\n"
     ]
    },
    {
     "name": "stderr",
     "output_type": "stream",
     "text": [
      "\u001b[31mERROR: usage: ipykernel_launcher.py [options] [file_or_dir] [file_or_dir] [...]\n",
      "ipykernel_launcher.py: error: unrecognized arguments: --cov-omit=/Users/david@inawisdom.com/Documents/Training/premier_league/premier_league/app.py\n",
      "  inifile: None\n",
      "  rootdir: /Users/david@inawisdom.com/Documents/Training/premier_league\n",
      "\u001b[0m\n"
     ]
    }
   ],
   "source": [
    "# Run unit tests\n",
    "\n",
    "if constants.LOCAL_MODE:\n",
    "    path_prefix = '/Users/david@inawisdom.com/Documents/Training/premier_league'\n",
    "    test_path = (f'{path_prefix}/tests/run_tests.py')\n",
    "    r = code_quality_functions.run_unit_tests(\n",
    "        '../tests',\n",
    "        'premier_league',\n",
    "        'premier_league'\n",
    "    )"
   ]
  },
  {
   "cell_type": "markdown",
   "id": "eed5fe90-f73b-4742-8de9-108f1cfe5561",
   "metadata": {},
   "source": [
    "## Black and Flake8"
   ]
  },
  {
   "cell_type": "code",
   "execution_count": 3,
   "id": "d40a6805-60c4-4612-8e9d-d5354369596a",
   "metadata": {},
   "outputs": [],
   "source": [
    "if constants.LOCAL_MODE:\n",
    "    code_quality_functions.run_code_quality_checks(\n",
    "        '../premier_league',\n",
    "        exclude_folder='../premier_league/.ipynb_checkpoints/'\n",
    "    )"
   ]
  },
  {
   "cell_type": "code",
   "execution_count": null,
   "id": "e345a16e-68b7-48ea-a04b-5991f5da82ad",
   "metadata": {},
   "outputs": [],
   "source": []
  }
 ],
 "metadata": {
  "kernelspec": {
   "display_name": "env_premier_league",
   "language": "python",
   "name": "env_premier_league"
  },
  "language_info": {
   "codemirror_mode": {
    "name": "ipython",
    "version": 3
   },
   "file_extension": ".py",
   "mimetype": "text/x-python",
   "name": "python",
   "nbconvert_exporter": "python",
   "pygments_lexer": "ipython3",
   "version": "3.10.1"
  }
 },
 "nbformat": 4,
 "nbformat_minor": 5
}
