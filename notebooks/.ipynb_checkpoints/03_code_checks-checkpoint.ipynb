{
 "cells": [
  {
   "cell_type": "markdown",
   "id": "45c92254-ec10-4c5a-a1dd-5fe653d9a09c",
   "metadata": {},
   "source": [
    "# Code Quality Checks"
   ]
  },
  {
   "cell_type": "code",
   "execution_count": 1,
   "id": "48631d77-6dce-456b-a58d-e663a8eb1fd9",
   "metadata": {},
   "outputs": [],
   "source": [
    "import sys\n",
    "sys.path.append('../')\n",
    "try:\n",
    "    from premier_league import constants\n",
    "    from premier_league import code_quality_functions\n",
    "except ModuleNotFoundError:\n",
    "    import constants\n",
    "    import code_quality_functions"
   ]
  },
  {
   "cell_type": "code",
   "execution_count": 2,
   "id": "37a098e9-8ebd-44aa-96fa-28fc797f01aa",
   "metadata": {},
   "outputs": [
    {
     "data": {
      "text/plain": [
       "'/Users/david@inawisdom.com/Documents/Training/premier_league/notebooks'"
      ]
     },
     "execution_count": 2,
     "metadata": {},
     "output_type": "execute_result"
    }
   ],
   "source": [
    "import os\n",
    "os.getcwd()"
   ]
  },
  {
   "cell_type": "markdown",
   "id": "852039e9-89fb-4908-8514-30e349a869cc",
   "metadata": {},
   "source": [
    "## Unit Tests"
   ]
  },
  {
   "cell_type": "code",
   "execution_count": 3,
   "id": "370a3694-60e4-4c2f-859f-8c5d10014840",
   "metadata": {},
   "outputs": [
    {
     "name": "stdout",
     "output_type": "stream",
     "text": [
      "============================= test session starts ==============================\n",
      "platform darwin -- Python 3.10.1, pytest-7.4.3, pluggy-1.3.0 -- /Users/david@inawisdom.com/Documents/Training/premier_league/env_premier_league/bin/python\n",
      "metadata: {'Python': '3.10.1', 'Platform': 'macOS-14.1-arm64-arm-64bit', 'Packages': {'pytest': '7.4.3', 'pluggy': '1.3.0'}, 'Plugins': {'html': '2.0.1', 'rerunfailures': '12.0', 'xdist': '3.4.0', 'cov': '4.1.0', 'seleniumbase': '4.21.4', 'metadata': '3.0.0', 'mock': '3.12.0', 'anyio': '3.7.1', 'ordering': '0.6'}}\n",
      "rootdir: /Users/david@inawisdom.com/Documents/Training/premier_league\n",
      "plugins: html-2.0.1, rerunfailures-12.0, xdist-3.4.0, cov-4.1.0, seleniumbase-4.21.4, metadata-3.0.0, mock-3.12.0, anyio-3.7.1, ordering-0.6\n",
      "collecting ... collected 0 items / 1 error\n",
      "\n",
      "==================================== ERRORS ====================================\n",
      "______________ ERROR collecting tests/test_inference_pipeline.py _______________\n",
      "../env_premier_league/lib/python3.10/site-packages/_pytest/python.py:617: in _importtestmodule\n",
      "    mod = import_path(self.path, mode=importmode, root=self.config.rootpath)\n",
      "../env_premier_league/lib/python3.10/site-packages/_pytest/pathlib.py:567: in import_path\n",
      "    importlib.import_module(module_name)\n",
      "../../../../.pyenv/versions/3.10.1/lib/python3.10/importlib/__init__.py:126: in import_module\n",
      "    return _bootstrap._gcd_import(name[level:], package, level)\n",
      "<frozen importlib._bootstrap>:1050: in _gcd_import\n",
      "    ???\n",
      "<frozen importlib._bootstrap>:1027: in _find_and_load\n",
      "    ???\n",
      "<frozen importlib._bootstrap>:1006: in _find_and_load_unlocked\n",
      "    ???\n",
      "<frozen importlib._bootstrap>:688: in _load_unlocked\n",
      "    ???\n",
      "../env_premier_league/lib/python3.10/site-packages/_pytest/assertion/rewrite.py:177: in exec_module\n",
      "    source_stat, co = _rewrite_test(fn, self.config)\n",
      "../env_premier_league/lib/python3.10/site-packages/_pytest/assertion/rewrite.py:359: in _rewrite_test\n",
      "    tree = ast.parse(source, filename=strfn)\n",
      "../../../../.pyenv/versions/3.10.1/lib/python3.10/ast.py:50: in parse\n",
      "    return compile(source, filename, mode, flags,\n",
      "E     File \"/Users/david@inawisdom.com/Documents/Training/premier_league/tests/test_inference_pipeline.py\", line 15\n",
      "E       def test_run_inference_ction, mock_preprocessing, mock_joblib, mock_data_extraction, mock_expectations_helpers, mock_constants):\n",
      "E                                                                                                                                     ^\n",
      "E   SyntaxError: unmatched ')'\n",
      "=========================== short test summary info ============================\n",
      "ERROR ../tests/test_inference_pipeline.py\n",
      "!!!!!!!!!!!!!!!!!!!! Interrupted: 1 error during collection !!!!!!!!!!!!!!!!!!!!\n",
      "=============================== 1 error in 0.18s ===============================\n",
      "An error occurred while running tests: Tests failed. Please check.\n"
     ]
    }
   ],
   "source": [
    "# Run unit tests\n",
    "\n",
    "if constants.LOCAL_MODE:\n",
    "    path_prefix = '/Users/david@inawisdom.com/Documents/Training/premier_league'\n",
    "    test_path = (f'{path_prefix}/tests/run_tests.py')\n",
    "    r = code_quality_functions.run_unit_tests(\n",
    "        '../tests/test_inference_pipeline.py',\n",
    "        'premier_league'\n",
    "    )"
   ]
  },
  {
   "cell_type": "code",
   "execution_count": 4,
   "id": "25b4eca2-33a0-4fb6-907d-7177fbc17a79",
   "metadata": {},
   "outputs": [
    {
     "name": "stdout",
     "output_type": "stream",
     "text": [
      "============================= test session starts ==============================\n",
      "platform darwin -- Python 3.10.1, pytest-7.4.3, pluggy-1.3.0 -- /Users/david@inawisdom.com/Documents/Training/premier_league/env_premier_league/bin/python\n",
      "metadata: {'Python': '3.10.1', 'Platform': 'macOS-14.1-arm64-arm-64bit', 'Packages': {'pytest': '7.4.3', 'pluggy': '1.3.0'}, 'Plugins': {'html': '2.0.1', 'rerunfailures': '12.0', 'xdist': '3.4.0', 'cov': '4.1.0', 'seleniumbase': '4.21.4', 'metadata': '3.0.0', 'mock': '3.12.0', 'anyio': '3.7.1', 'ordering': '0.6'}}\n",
      "rootdir: /Users/david@inawisdom.com/Documents/Training/premier_league\n",
      "plugins: html-2.0.1, rerunfailures-12.0, xdist-3.4.0, cov-4.1.0, seleniumbase-4.21.4, metadata-3.0.0, mock-3.12.0, anyio-3.7.1, ordering-0.6\n",
      "collecting ... collected 39 items\n",
      "\n",
      "../tests/test_code_quality_functions.py::test_run_unit_tests PASSED      [  2%]\n",
      "../tests/test_code_quality_functions.py::test_run_unit_tests_failure PASSED [  5%]\n",
      "../tests/test_code_quality_functions.py::test_run_code_quality_checks[0---None] PASSED [  7%]\n",
      "../tests/test_code_quality_functions.py::test_run_code_quality_checks[1-flake8 error--flake8 error] PASSED [ 10%]\n",
      "../tests/test_code_quality_functions.py::test_run_code_quality_checks[1--black error-black error] PASSED [ 12%]\n",
      "../tests/test_code_quality_functions.py::test_subprocess_error PASSED    [ 15%]\n",
      "../tests/test_data_drift_functions.py::test_init PASSED                  [ 17%]\n",
      "../tests/test_data_drift_functions.py::test_create_report PASSED         [ 20%]\n",
      "../tests/test_data_drift_functions.py::test_check_data_drift_no_drift PASSED [ 23%]\n",
      "../tests/test_data_extraction.py::test_generate_seasons_list PASSED      [ 25%]\n",
      "../tests/test_data_extraction.py::test_replace_team_names PASSED         [ 28%]\n",
      "../tests/test_data_extraction.py::test_get_fixture_times_no_fixtures PASSED [ 30%]\n",
      "../tests/test_email_functions.py::test_data_drift_alert PASSED           [ 33%]\n",
      "../tests/test_email_functions.py::test_data_validation_alert PASSED      [ 35%]\n",
      "../tests/test_email_functions.py::test_invalid_alert_type PASSED         [ 38%]\n",
      "../tests/test_email_functions.py::test_get_s3_client_with_profile PASSED [ 41%]\n",
      "../tests/test_email_functions.py::test_get_s3_client_with_env_vars PASSED [ 43%]\n",
      "../tests/test_email_functions.py::test_generate_presigned_s3_url PASSED  [ 46%]\n",
      "../tests/test_email_functions.py::test_generate_presigned_s3_url_exception PASSED [ 48%]\n",
      "../tests/test_evaluation.py::test_evaluate_model_result PASSED           [ 51%]\n",
      "../tests/test_evaluation.py::test_evaluate_model_home_away PASSED        [ 53%]\n",
      "../tests/test_evaluation.py::test_evaluate_model_invalid_type PASSED     [ 56%]\n",
      "../tests/test_expectations_helpers.py::test_column_type PASSED           [ 58%]\n",
      "../tests/test_expectations_helpers.py::test_missing_fraction PASSED      [ 61%]\n",
      "../tests/test_expectations_helpers.py::test_min_value PASSED             [ 64%]\n",
      "../tests/test_expectations_helpers.py::test_max_value PASSED             [ 66%]\n",
      "../tests/test_expectations_helpers.py::test_add_max_min_expectations PASSED [ 69%]\n",
      "../tests/test_expectations_helpers.py::test_add_cat_expectations PASSED  [ 71%]\n",
      "../tests/test_expectations_helpers.py::test_generate_expectations PASSED [ 74%]\n",
      "../tests/test_expectations_helpers.py::test_view_full_suite PASSED       [ 76%]\n",
      "../tests/test_expectations_helpers.py::test_view_suite_summary PASSED    [ 79%]\n",
      "../tests/test_preprocessing_helpers.py::test_get_goals_scored PASSED     [ 82%]\n",
      "../tests/test_preprocessing_helpers.py::test_get_goals_conceded PASSED   [ 84%]\n",
      "../tests/test_preprocessing_helpers.py::test_get_gss PASSED              [ 87%]\n",
      "../tests/test_preprocessing_helpers.py::test_get_points PASSED           [ 89%]\n",
      "../tests/test_preprocessing_helpers.py::test_get_cuml_points PASSED      [ 92%]\n",
      "../tests/test_preprocessing_helpers.py::test_get_matchres PASSED         [ 94%]\n",
      "../tests/test_preprocessing_helpers.py::test_get_agg_points PASSED       [ 97%]\n",
      "../tests/test_preprocessing_helpers.py::test_get_form PASSED             [100%]"
     ]
    },
    {
     "name": "stderr",
     "output_type": "stream",
     "text": [
      "/Users/david@inawisdom.com/Documents/Training/premier_league/env_premier_league/lib/python3.10/site-packages/coverage/inorout.py:523: CoverageWarning: Module premier_league was previously imported, but not measured (module-not-measured)\n",
      "  self.warn(msg, slug=\"module-not-measured\")\n"
     ]
    },
    {
     "name": "stdout",
     "output_type": "stream",
     "text": [
      "\n",
      "\n",
      "---------- coverage: platform darwin, python 3.10.1-final-0 ----------\n",
      "Name                                                                                                    Stmts   Miss  Cover   Missing\n",
      "-------------------------------------------------------------------------------------------------------------------------------------\n",
      "/Users/david@inawisdom.com/Documents/Training/premier_league/premier_league/__init__.py                     0      0   100%\n",
      "/Users/david@inawisdom.com/Documents/Training/premier_league/premier_league/app.py                         78     78     0%   1-215\n",
      "/Users/david@inawisdom.com/Documents/Training/premier_league/premier_league/code_quality_functions.py      45      9    80%   1-6, 38-39, 54, 71, 86\n",
      "/Users/david@inawisdom.com/Documents/Training/premier_league/premier_league/config.py                      18     18     0%   1-31\n",
      "/Users/david@inawisdom.com/Documents/Training/premier_league/premier_league/constants.py                   32     32     0%   1-67\n",
      "/Users/david@inawisdom.com/Documents/Training/premier_league/premier_league/data_drift_functions.py        57     17    70%   14-17, 64, 94-113, 141, 147-153\n",
      "/Users/david@inawisdom.com/Documents/Training/premier_league/premier_league/data_extraction.py            155    115    26%   5-8, 59-95, 110-123, 149-171, 230, 234-247, 273-300, 324-351\n",
      "/Users/david@inawisdom.com/Documents/Training/premier_league/premier_league/email_functions.py             52     26    50%   9-11, 138-165, 189-205\n",
      "/Users/david@inawisdom.com/Documents/Training/premier_league/premier_league/evaluation.py                  25      7    72%   2-12\n",
      "/Users/david@inawisdom.com/Documents/Training/premier_league/premier_league/expectations_helpers.py       170     79    54%   14-16, 175-179, 276-322, 338-356, 392-426, 445-480\n",
      "/Users/david@inawisdom.com/Documents/Training/premier_league/premier_league/inference_pipeline.py          36     36     0%   1-86\n",
      "/Users/david@inawisdom.com/Documents/Training/premier_league/premier_league/logger_config.py               45     37    18%   1-45, 59-61, 69-88\n",
      "/Users/david@inawisdom.com/Documents/Training/premier_league/premier_league/mlflow_functions.py            45     45     0%   1-119\n",
      "/Users/david@inawisdom.com/Documents/Training/premier_league/premier_league/postgres.py                    61     61     0%   1-171\n",
      "/Users/david@inawisdom.com/Documents/Training/premier_league/premier_league/prediction.py                  48     48     0%   2-151\n",
      "/Users/david@inawisdom.com/Documents/Training/premier_league/premier_league/preprocessing.py               46     46     0%   1-139\n",
      "/Users/david@inawisdom.com/Documents/Training/premier_league/premier_league/preprocessing_helpers.py      340    194    43%   109, 232, 259-263, 281-302, 319-324, 340-347, 364-368, 386-390, 406-410, 426-430, 456-460, 477-480, 497-513, 526-529, 542-545, 558-561, 574-577, 593-602, 615-617, 631-633, 649-712, 728-743, 757-763, 779-786, 802-806, 822-828, 843-849, 868-882, 898-903, 917-918, 933-952, 968-992\n",
      "/Users/david@inawisdom.com/Documents/Training/premier_league/premier_league/s3_helpers.py                 171    147    14%   18-20, 35-40, 63-99, 125-172, 198-242, 266-281, 310-350, 380-409, 435-465, 481-490\n",
      "/Users/david@inawisdom.com/Documents/Training/premier_league/premier_league/training.py                    97     97     0%   2-253\n",
      "/Users/david@inawisdom.com/Documents/Training/premier_league/premier_league/visualisations.py             246    246     0%   1-805\n",
      "-------------------------------------------------------------------------------------------------------------------------------------\n",
      "TOTAL                                                                                                    1767   1338    24%\n",
      "\n",
      "\n",
      "======================= 39 passed, 3 warnings in 36.81s ========================\n"
     ]
    }
   ],
   "source": [
    "if constants.LOCAL_MODE:\n",
    "    path_prefix = '/Users/david@inawisdom.com/Documents/Training/premier_league'\n",
    "    test_path = (f'{path_prefix}/tests/run_tests.py')\n",
    "    r = code_quality_functions.run_unit_tests(\n",
    "        '../tests/',\n",
    "        'premier_league',\n",
    "        'premier_league'\n",
    "    )"
   ]
  },
  {
   "cell_type": "code",
   "execution_count": 5,
   "id": "ced1791e-f519-42e7-bfc5-d6b85f8a28e7",
   "metadata": {},
   "outputs": [
    {
     "name": "stdout",
     "output_type": "stream",
     "text": [
      "Help on function run_unit_tests in module premier_league.code_quality_functions:\n",
      "\n",
      "run_unit_tests(test_file: str, src_folder: str, cov_folder: str = None, exclude_files: List[str] = []) -> Optional[int]\n",
      "    Run unit tests using pytest.\n",
      "    \n",
      "    Parameters:\n",
      "    - test_file (str): The path to the test file to run.\n",
      "    - src_folder (str): The path to the source code folder.\n",
      "    - cov_folder (str, optional): The folder to generate coverage for. Defaults to None.\n",
      "    - exclude_files (List[str], optional): List of file paths to exclude.\n",
      "    Defaults to an empty list.\n",
      "    \n",
      "    Returns:\n",
      "    - int or None: Returns the return code of pytest, or None if an error occurred.\n",
      "\n"
     ]
    }
   ],
   "source": [
    "help(code_quality_functions.run_unit_tests)"
   ]
  },
  {
   "cell_type": "markdown",
   "id": "eed5fe90-f73b-4742-8de9-108f1cfe5561",
   "metadata": {},
   "source": [
    "## Black and Flake8"
   ]
  },
  {
   "cell_type": "code",
   "execution_count": 6,
   "id": "d40a6805-60c4-4612-8e9d-d5354369596a",
   "metadata": {},
   "outputs": [
    {
     "name": "stdout",
     "output_type": "stream",
     "text": [
      "Black Output:\n",
      "Skipping .ipynb files as Jupyter dependencies are not installed.\n",
      "You can fix this by running ``pip install \"black[jupyter]\"``\n",
      "All done! ✨ 🍰 ✨\n",
      "40 files left unchanged.\n",
      "\n",
      "\n",
      "Flake8 Output:\n",
      "Done. Flake8 has no improvements!\n"
     ]
    }
   ],
   "source": [
    "if constants.LOCAL_MODE:\n",
    "    code_quality_functions.run_code_quality_checks(\n",
    "        '../premier_league',\n",
    "        exclude_folder='../premier_league/.ipynb_checkpoints/'\n",
    "    )"
   ]
  },
  {
   "cell_type": "code",
   "execution_count": null,
   "id": "bbfc5def-9d0d-422a-9b5f-9eb719ccdd26",
   "metadata": {},
   "outputs": [],
   "source": []
  }
 ],
 "metadata": {
  "kernelspec": {
   "display_name": "env_premier_league",
   "language": "python",
   "name": "env_premier_league"
  },
  "language_info": {
   "codemirror_mode": {
    "name": "ipython",
    "version": 3
   },
   "file_extension": ".py",
   "mimetype": "text/x-python",
   "name": "python",
   "nbconvert_exporter": "python",
   "pygments_lexer": "ipython3",
   "version": "3.10.1"
  }
 },
 "nbformat": 4,
 "nbformat_minor": 5
}
