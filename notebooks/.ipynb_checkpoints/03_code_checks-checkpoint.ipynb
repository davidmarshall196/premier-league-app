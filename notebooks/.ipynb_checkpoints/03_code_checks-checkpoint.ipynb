{
 "cells": [
  {
   "cell_type": "markdown",
   "id": "45c92254-ec10-4c5a-a1dd-5fe653d9a09c",
   "metadata": {},
   "source": [
    "# Code Quality Checks"
   ]
  },
  {
   "cell_type": "code",
   "execution_count": 1,
   "id": "48631d77-6dce-456b-a58d-e663a8eb1fd9",
   "metadata": {},
   "outputs": [],
   "source": [
    "import sys\n",
    "sys.path.append('../')\n",
    "try:\n",
    "    from premier_league import constants\n",
    "    from premier_league import code_quality_functions\n",
    "except ModuleNotFoundError:\n",
    "    import constants\n",
    "    import code_quality_functions\n",
    "import os"
   ]
  },
  {
   "cell_type": "markdown",
   "id": "852039e9-89fb-4908-8514-30e349a869cc",
   "metadata": {},
   "source": [
    "## Unit Tests"
   ]
  },
  {
   "cell_type": "code",
   "execution_count": 2,
   "id": "25b4eca2-33a0-4fb6-907d-7177fbc17a79",
   "metadata": {},
   "outputs": [
    {
     "name": "stdout",
     "output_type": "stream",
     "text": [
      "============================= test session starts ==============================\n",
      "platform darwin -- Python 3.10.1, pytest-7.4.3, pluggy-1.3.0 -- /Users/david@inawisdom.com/Documents/Training/premier_league/env_premier_league/bin/python\n",
      "metadata: {'Python': '3.10.1', 'Platform': 'macOS-14.1-arm64-arm-64bit', 'Packages': {'pytest': '7.4.3', 'pluggy': '1.3.0'}, 'Plugins': {'html': '2.0.1', 'rerunfailures': '12.0', 'xdist': '3.4.0', 'cov': '4.1.0', 'seleniumbase': '4.21.4', 'metadata': '3.0.0', 'mock': '3.12.0', 'anyio': '3.7.1', 'ordering': '0.6'}}\n",
      "rootdir: /Users/david@inawisdom.com/Documents/Training/premier_league\n",
      "plugins: html-2.0.1, rerunfailures-12.0, xdist-3.4.0, cov-4.1.0, seleniumbase-4.21.4, metadata-3.0.0, mock-3.12.0, anyio-3.7.1, ordering-0.6\n",
      "collecting ... collected 0 items\n",
      "\n",
      "============================ no tests ran in 0.02s =============================\n"
     ]
    },
    {
     "name": "stderr",
     "output_type": "stream",
     "text": [
      "ERROR: file or directory not found: ../tests/\n",
      "\n"
     ]
    },
    {
     "name": "stdout",
     "output_type": "stream",
     "text": [
      "An error occurred while running tests: Tests failed. Please check.\n"
     ]
    }
   ],
   "source": [
    "#os.chdir('../')\n",
    "#path_prefix = os.getcwd()\n",
    "#test_path = (f'{path_prefix}/tests/run_tests.py')\n",
    "r = code_quality_functions.run_unit_tests(\n",
    "    '../tests/',\n",
    "    'premier_league',\n",
    "    'premier_league'\n",
    ")"
   ]
  },
  {
   "cell_type": "markdown",
   "id": "eed5fe90-f73b-4742-8de9-108f1cfe5561",
   "metadata": {},
   "source": [
    "## Black and Flake8"
   ]
  },
  {
   "cell_type": "code",
   "execution_count": 6,
   "id": "d40a6805-60c4-4612-8e9d-d5354369596a",
   "metadata": {},
   "outputs": [
    {
     "name": "stdout",
     "output_type": "stream",
     "text": [
      "Black Output:\n",
      "Skipping .ipynb files as Jupyter dependencies are not installed.\n",
      "You can fix this by running ``pip install \"black[jupyter]\"``\n",
      "reformatted /Users/david@inawisdom.com/Documents/Training/premier_league/premier_league/.ipynb_checkpoints/sagemaker_pipeline-checkpoint.py\n",
      "reformatted /Users/david@inawisdom.com/Documents/Training/premier_league/premier_league/sagemaker_pipeline.py\n",
      "\n",
      "All done! ✨ 🍰 ✨\n",
      "2 files reformatted, 38 files left unchanged.\n",
      "\n",
      "\n",
      "Flake8 Output:\n",
      "Done. Flake8 has no improvements!\n"
     ]
    },
    {
     "data": {
      "text/plain": [
       "'Skipping .ipynb files as Jupyter dependencies are not installed.\\nYou can fix this by running ``pip install \"black[jupyter]\"``\\nreformatted /Users/david@inawisdom.com/Documents/Training/premier_league/premier_league/.ipynb_checkpoints/sagemaker_pipeline-checkpoint.py\\nreformatted /Users/david@inawisdom.com/Documents/Training/premier_league/premier_league/sagemaker_pipeline.py\\n\\nAll done! ✨ 🍰 ✨\\n2 files reformatted, 38 files left unchanged.\\n'"
      ]
     },
     "execution_count": 6,
     "metadata": {},
     "output_type": "execute_result"
    }
   ],
   "source": [
    "code_quality_functions.run_code_quality_checks(\n",
    "        '../premier_league',\n",
    "        exclude_folder='../premier_league/.ipynb_checkpoints/'\n",
    ")"
   ]
  },
  {
   "cell_type": "code",
   "execution_count": null,
   "id": "b1e829ad-b3a2-4761-b82b-7aa2d3f2a99d",
   "metadata": {},
   "outputs": [],
   "source": []
  }
 ],
 "metadata": {
  "kernelspec": {
   "display_name": "env_premier_league",
   "language": "python",
   "name": "env_premier_league"
  },
  "language_info": {
   "codemirror_mode": {
    "name": "ipython",
    "version": 3
   },
   "file_extension": ".py",
   "mimetype": "text/x-python",
   "name": "python",
   "nbconvert_exporter": "python",
   "pygments_lexer": "ipython3",
   "version": "3.10.1"
  }
 },
 "nbformat": 4,
 "nbformat_minor": 5
}
