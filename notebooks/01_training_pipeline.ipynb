{
 "cells": [
  {
   "cell_type": "code",
   "execution_count": 1,
   "id": "bc29a6a0-9139-4428-9bf3-77a6227c36f3",
   "metadata": {},
   "outputs": [
    {
     "name": "stderr",
     "output_type": "stream",
     "text": [
      "2023-11-30 07:45:59,799 - PremierLeagueLogger - INFO - Grabbing Passwords\n"
     ]
    }
   ],
   "source": [
    "import pandas as pd\n",
    "import numpy as np\n",
    "import joblib\n",
    "import sys\n",
    "sys.path.append('../')\n",
    "\n",
    "try:\n",
    "    from premier_league import (\n",
    "        constants,\n",
    "        preprocessing,\n",
    "        preprocessing_helpers,\n",
    "        training,\n",
    "        evaluation,\n",
    "        prediction,\n",
    "        data_extraction,\n",
    "        visualisations,\n",
    "        s3_helpers,\n",
    "        postgres,\n",
    "        mlflow_functions,\n",
    "        expectations_helpers,\n",
    "        email_functions,\n",
    "        data_drift_functions,\n",
    "    )\n",
    "except ModuleNotFoundError:\n",
    "    import constants\n",
    "    import preprocessing\n",
    "    import preprocessing_helpers\n",
    "    import training\n",
    "    import evaluation\n",
    "    import prediction\n",
    "    import data_extraction\n",
    "    import visualisations\n",
    "    import s3_helpers\n",
    "    import postgres\n",
    "    import mlflow_functions\n",
    "    import expectations_helpers\n",
    "    import email_functions\n",
    "    import data_drift_functions"
   ]
  },
  {
   "cell_type": "code",
   "execution_count": 2,
   "id": "29cceb73-4a66-4871-b0b5-5711d319cc7b",
   "metadata": {},
   "outputs": [
    {
     "name": "stderr",
     "output_type": "stream",
     "text": [
      "2023-11-30 07:46:05,982 - PremierLeagueLogger - INFO - Loading data from premier-league-app/app_data/training_data_full.csv\n",
      "2023-11-30 07:46:08,884 - PremierLeagueLogger - INFO - Successfully loaded data from premier-league-app/app_data/training_data_full.csv\n"
     ]
    }
   ],
   "source": [
    "df = s3_helpers.grab_data_s3(constants.TRAINING_DATA_LOCATION)\n",
    "df = df[constants.COLUMNS_REQ]"
   ]
  },
  {
   "cell_type": "code",
   "execution_count": 3,
   "id": "026295b9-e988-4107-8e37-37187c520478",
   "metadata": {
    "tags": []
   },
   "outputs": [
    {
     "data": {
      "text/html": [
       "<div>\n",
       "<style scoped>\n",
       "    .dataframe tbody tr th:only-of-type {\n",
       "        vertical-align: middle;\n",
       "    }\n",
       "\n",
       "    .dataframe tbody tr th {\n",
       "        vertical-align: top;\n",
       "    }\n",
       "\n",
       "    .dataframe thead th {\n",
       "        text-align: right;\n",
       "    }\n",
       "</style>\n",
       "<table border=\"1\" class=\"dataframe\">\n",
       "  <thead>\n",
       "    <tr style=\"text-align: right;\">\n",
       "      <th></th>\n",
       "      <th>season</th>\n",
       "      <th>Date</th>\n",
       "      <th>HomeTeam</th>\n",
       "      <th>AwayTeam</th>\n",
       "      <th>FTHG</th>\n",
       "      <th>FTAG</th>\n",
       "      <th>FTR</th>\n",
       "    </tr>\n",
       "  </thead>\n",
       "  <tbody>\n",
       "    <tr>\n",
       "      <th>0</th>\n",
       "      <td>1995-96</td>\n",
       "      <td>19/08/95</td>\n",
       "      <td>Aston Villa</td>\n",
       "      <td>Man United</td>\n",
       "      <td>3.0</td>\n",
       "      <td>1.0</td>\n",
       "      <td>H</td>\n",
       "    </tr>\n",
       "    <tr>\n",
       "      <th>1</th>\n",
       "      <td>1995-96</td>\n",
       "      <td>19/08/95</td>\n",
       "      <td>Blackburn</td>\n",
       "      <td>QPR</td>\n",
       "      <td>1.0</td>\n",
       "      <td>0.0</td>\n",
       "      <td>H</td>\n",
       "    </tr>\n",
       "    <tr>\n",
       "      <th>2</th>\n",
       "      <td>1995-96</td>\n",
       "      <td>19/08/95</td>\n",
       "      <td>Chelsea</td>\n",
       "      <td>Everton</td>\n",
       "      <td>0.0</td>\n",
       "      <td>0.0</td>\n",
       "      <td>D</td>\n",
       "    </tr>\n",
       "    <tr>\n",
       "      <th>3</th>\n",
       "      <td>1995-96</td>\n",
       "      <td>19/08/95</td>\n",
       "      <td>Liverpool</td>\n",
       "      <td>Sheffield Weds</td>\n",
       "      <td>1.0</td>\n",
       "      <td>0.0</td>\n",
       "      <td>H</td>\n",
       "    </tr>\n",
       "    <tr>\n",
       "      <th>4</th>\n",
       "      <td>1995-96</td>\n",
       "      <td>19/08/95</td>\n",
       "      <td>Man City</td>\n",
       "      <td>Tottenham</td>\n",
       "      <td>1.0</td>\n",
       "      <td>1.0</td>\n",
       "      <td>D</td>\n",
       "    </tr>\n",
       "  </tbody>\n",
       "</table>\n",
       "</div>"
      ],
      "text/plain": [
       "    season      Date     HomeTeam        AwayTeam  FTHG  FTAG FTR\n",
       "0  1995-96  19/08/95  Aston Villa      Man United   3.0   1.0   H\n",
       "1  1995-96  19/08/95    Blackburn             QPR   1.0   0.0   H\n",
       "2  1995-96  19/08/95      Chelsea         Everton   0.0   0.0   D\n",
       "3  1995-96  19/08/95    Liverpool  Sheffield Weds   1.0   0.0   H\n",
       "4  1995-96  19/08/95     Man City       Tottenham   1.0   1.0   D"
      ]
     },
     "execution_count": 3,
     "metadata": {},
     "output_type": "execute_result"
    }
   ],
   "source": [
    "df.head()"
   ]
  },
  {
   "cell_type": "markdown",
   "id": "e8d063d3-6f36-4385-95f0-ac88d68a0782",
   "metadata": {},
   "source": [
    "### Set up data validation"
   ]
  },
  {
   "cell_type": "code",
   "execution_count": 4,
   "id": "be3f2b30-157a-4beb-915b-ebe878a11789",
   "metadata": {},
   "outputs": [],
   "source": [
    "if constants.RUN_DATA_EXPECTATIONS:\n",
    "    ge_class = expectations_helpers.AutoGreatExpectations(df)"
   ]
  },
  {
   "cell_type": "code",
   "execution_count": 5,
   "id": "25aaa8bb-ad57-415c-b088-4b4cf5da085d",
   "metadata": {},
   "outputs": [
    {
     "name": "stdout",
     "output_type": "stream",
     "text": [
      "Generating expectations\n",
      "Done\n"
     ]
    }
   ],
   "source": [
    "if constants.RUN_DATA_EXPECTATIONS:\n",
    "    ge_data = ge_class.generate_expectations(verbose=False)"
   ]
  },
  {
   "cell_type": "code",
   "execution_count": 6,
   "id": "8fda5f6e-4fe6-46db-a977-4f964a66f40e",
   "metadata": {},
   "outputs": [
    {
     "name": "stderr",
     "output_type": "stream",
     "text": [
      "2023-11-30 07:46:10,115 - PremierLeagueLogger - INFO - Total Expectations: 18\n",
      "2023-11-30 07:46:11,256 - PremierLeagueLogger - INFO - Counts:\n",
      "2023-11-30 07:46:12,403 - PremierLeagueLogger - INFO - expect_column_values_to_be_null: 7\n",
      "2023-11-30 07:46:13,546 - PremierLeagueLogger - INFO - expect_column_values_to_be_null: 7\n",
      "2023-11-30 07:46:14,712 - PremierLeagueLogger - INFO - expect_column_values_to_be_of_type: 7\n",
      "2023-11-30 07:46:15,865 - PremierLeagueLogger - INFO - expect_column_values_to_be_of_type: 7\n",
      "2023-11-30 07:46:17,023 - PremierLeagueLogger - INFO - expect_column_values_to_be_between: 2\n",
      "2023-11-30 07:46:18,197 - PremierLeagueLogger - INFO - expect_column_values_to_be_between: 2\n",
      "2023-11-30 07:46:19,368 - PremierLeagueLogger - INFO - expect_column_values_to_be_in_set: 1\n",
      "2023-11-30 07:46:20,508 - PremierLeagueLogger - INFO - expect_column_values_to_be_in_set: 1\n",
      "2023-11-30 07:46:21,711 - PremierLeagueLogger - INFO - expect_table_columns_to_match_set: 1\n",
      "2023-11-30 07:46:22,881 - PremierLeagueLogger - INFO - expect_table_columns_to_match_set: 1\n"
     ]
    }
   ],
   "source": [
    "if constants.RUN_DATA_EXPECTATIONS:\n",
    "    expectations_helpers.view_suite_summary(ge_data)"
   ]
  },
  {
   "cell_type": "code",
   "execution_count": 7,
   "id": "eb12f51d-c351-4b4c-9c5a-840043116efb",
   "metadata": {},
   "outputs": [
    {
     "name": "stderr",
     "output_type": "stream",
     "text": [
      "2023-11-30 07:46:24,080 - PremierLeagueLogger - INFO - Saving expectations to premier-league-app/app_data/expectations/exp_prem_results_20231130.json\n",
      "2023-11-30 07:46:26,259 - PremierLeagueLogger - INFO - Saved expectations to premier-league-app/app_data/expectations/exp_prem_results_20231130.json\n"
     ]
    }
   ],
   "source": [
    "# Save expectations to S3\n",
    "expectations_helpers.save_expectations(\n",
    "    ge_data,\n",
    "    f'app_data/expectations/exp_prem_results_{constants.current_time}.json'\n",
    ")"
   ]
  },
  {
   "cell_type": "markdown",
   "id": "ef348438-9dd6-428c-955d-30c941280728",
   "metadata": {},
   "source": [
    "### Validate data"
   ]
  },
  {
   "cell_type": "code",
   "execution_count": 8,
   "id": "56598576-f37e-4b2a-b9d8-da56dc04bc2f",
   "metadata": {},
   "outputs": [
    {
     "name": "stderr",
     "output_type": "stream",
     "text": [
      "2023-11-30 07:46:28,487 - PremierLeagueLogger - INFO - Looking for latest expectations file\n",
      "2023-11-30 07:46:29,739 - PremierLeagueLogger - INFO - Loading expectations from premier-league-app/app_data/expectations/exp_prem_results_20231130.json\n",
      "2023-11-30 07:46:31,629 - PremierLeagueLogger - INFO - Loaded expectations from premier-league-app/app_data/expectations/exp_prem_results_20231130.json\n"
     ]
    }
   ],
   "source": [
    "# Load latest expectations\n",
    "data_expectations = expectations_helpers.load_latest_expectations(\n",
    "    expectations_helpers.latest_exp_file()\n",
    ")"
   ]
  },
  {
   "cell_type": "code",
   "execution_count": 9,
   "id": "fd8da7b2-be2e-4018-87b9-d541e52451e6",
   "metadata": {},
   "outputs": [
    {
     "name": "stderr",
     "output_type": "stream",
     "text": [
      "2023-11-30 07:46:32,903 - PremierLeagueLogger - INFO - Loading data from premier-league-app/app_data/training_data_full.csv\n",
      "2023-11-30 07:46:35,609 - PremierLeagueLogger - INFO - Successfully loaded data from premier-league-app/app_data/training_data_full.csv\n"
     ]
    }
   ],
   "source": [
    "if constants.INITIAL_DATA_LOAD:\n",
    "    full_data = data_extraction.load_all_data(\n",
    "        constants.TRAINING_DATA_LOCATION,\n",
    "        constants.COLUMNS_REQ\n",
    "    )\n",
    "else:\n",
    "    full_data = s3_helpers.grab_data_s3(\n",
    "        constants.TRAINING_DATA_LOCATION\n",
    "    )\n"
   ]
  },
  {
   "cell_type": "code",
   "execution_count": 10,
   "id": "a1b96d31-7bce-40ed-b111-a7c2cf5fdab0",
   "metadata": {},
   "outputs": [
    {
     "name": "stderr",
     "output_type": "stream",
     "text": [
      "2023-11-30 07:46:36,838 - PremierLeagueLogger - INFO - Trying to read data from https://www.football-data.co.uk/mmz4281/2324/E0.csv\n",
      "2023-11-30 07:46:39,582 - PremierLeagueLogger - INFO - Savng data to premier-league-app/app_data/training_data_full.csv\n",
      "2023-11-30 07:46:42,636 - PremierLeagueLogger - INFO - Data saved at app_data/training_data_full.csv\n"
     ]
    }
   ],
   "source": [
    "full_data = data_extraction.add_new_data(\n",
    "    full_data, \n",
    "    constants.COLUMNS_REQ,\n",
    "    constants.TRAINING_DATA_LOCATION\n",
    ")"
   ]
  },
  {
   "cell_type": "code",
   "execution_count": 11,
   "id": "f68b2beb-a8c0-4926-b3f9-60cb3e902c28",
   "metadata": {},
   "outputs": [
    {
     "name": "stderr",
     "output_type": "stream",
     "text": [
      "2023-11-30 07:46:43,928 - PremierLeagueLogger - INFO - {'evaluated_expectations': 18, 'successful_expectations': 18, 'unsuccessful_expectations': 0, 'success_percent': 100.0}\n",
      "2023-11-30 07:46:45,124 - PremierLeagueLogger - INFO - Saving expectations to premier-league-app/app_data/expectations/valid_results_20231130.json\n",
      "2023-11-30 07:46:47,358 - PremierLeagueLogger - INFO - Saved expectations to premier-league-app/app_data/expectations/valid_results_20231130.json\n"
     ]
    }
   ],
   "source": [
    "validation_results = expectations_helpers.validate_data(\n",
    "        full_data, \n",
    "        data_expectations,\n",
    "        expectations_path = constants.VALIDATION_RESULTS_PATH\n",
    ")"
   ]
  },
  {
   "cell_type": "code",
   "execution_count": 12,
   "id": "fdfa6b51-4e95-4a12-b168-3c0a348b3111",
   "metadata": {},
   "outputs": [],
   "source": [
    "if not validation_results['success']:\n",
    "    email_functions.send_email(\n",
    "        'data_validation',\n",
    "        constants.S3_BUCKET, \n",
    "        expectations_helpers.latest_exp_file(),\n",
    "        constants.VALIDATION_TOPIC, \n",
    "    )\n",
    "    raise Exception('Stopping Pipeline. Validation has failed')"
   ]
  },
  {
   "cell_type": "markdown",
   "id": "c55de904-6430-42ec-960c-f4e827354157",
   "metadata": {},
   "source": [
    "### Data Drift Detection"
   ]
  },
  {
   "cell_type": "code",
   "execution_count": 13,
   "id": "04181b8e-e1db-4fa2-8929-955d8d5f509e",
   "metadata": {},
   "outputs": [
    {
     "name": "stderr",
     "output_type": "stream",
     "text": [
      "2023-11-30 07:46:48,651 - PremierLeagueLogger - INFO - Loading data from premier-league-app/app_data/historical_pl_data.csv\n",
      "2023-11-30 07:46:51,541 - PremierLeagueLogger - INFO - Successfully loaded data from premier-league-app/app_data/historical_pl_data.csv\n"
     ]
    }
   ],
   "source": [
    "# Load historical data\n",
    "historical = s3_helpers.grab_data_s3(\n",
    "    constants.HISTORICAL_DATA_DRIFT\n",
    ")"
   ]
  },
  {
   "cell_type": "code",
   "execution_count": 14,
   "id": "0738ce50-036d-4452-83c9-c99cbe257e17",
   "metadata": {},
   "outputs": [],
   "source": [
    "data_drift = data_drift_functions.DriftDetector(\n",
    "    historical,\n",
    "    full_data\n",
    ")"
   ]
  },
  {
   "cell_type": "code",
   "execution_count": 15,
   "id": "8e2f2877-5318-48eb-a683-ffb4e2cb2648",
   "metadata": {},
   "outputs": [
    {
     "name": "stderr",
     "output_type": "stream",
     "text": [
      "2023-11-30 07:46:53,986 - PremierLeagueLogger - INFO - Saving drift report to premier-league-app/app_data/data_drift_reports/drift_report_20231130.html\n",
      "INFO:PremierLeagueLogger:Saving drift report to premier-league-app/app_data/data_drift_reports/drift_report_20231130.html\n",
      "2023-11-30 07:46:58,589 - PremierLeagueLogger - INFO - Saved drift report to premier-league-app/app_data/data_drift_reports/drift_report_20231130.html\n",
      "INFO:PremierLeagueLogger:Saved drift report to premier-league-app/app_data/data_drift_reports/drift_report_20231130.html\n"
     ]
    },
    {
     "name": "stdout",
     "output_type": "stream",
     "text": [
      "{'drift_share': 0.5, 'number_of_columns': 7, 'number_of_drifted_columns': 0, 'share_of_drifted_columns': 0.0, 'dataset_drift': False}\n"
     ]
    }
   ],
   "source": [
    "drift_report = data_drift.check_data_drift(\n",
    "    constants.DRIFT_REPORT_LOC\n",
    ")"
   ]
  },
  {
   "cell_type": "markdown",
   "id": "086fc8a3-e6e4-488b-a899-392e0106b65c",
   "metadata": {},
   "source": [
    "### Preprocessing"
   ]
  },
  {
   "cell_type": "code",
   "execution_count": 16,
   "id": "333ebe6d-72e4-4826-83b7-ed671952dbc7",
   "metadata": {},
   "outputs": [
    {
     "name": "stderr",
     "output_type": "stream",
     "text": [
      "2023-11-30 07:46:59,922 - PremierLeagueLogger - INFO - Loading data from premier-league-app/app_data/training_data_full.csv\n",
      "INFO:PremierLeagueLogger:Loading data from premier-league-app/app_data/training_data_full.csv\n",
      "2023-11-30 07:47:02,642 - PremierLeagueLogger - INFO - Successfully loaded data from premier-league-app/app_data/training_data_full.csv\n",
      "INFO:PremierLeagueLogger:Successfully loaded data from premier-league-app/app_data/training_data_full.csv\n"
     ]
    },
    {
     "data": {
      "text/html": [
       "<div>\n",
       "<style scoped>\n",
       "    .dataframe tbody tr th:only-of-type {\n",
       "        vertical-align: middle;\n",
       "    }\n",
       "\n",
       "    .dataframe tbody tr th {\n",
       "        vertical-align: top;\n",
       "    }\n",
       "\n",
       "    .dataframe thead th {\n",
       "        text-align: right;\n",
       "    }\n",
       "</style>\n",
       "<table border=\"1\" class=\"dataframe\">\n",
       "  <thead>\n",
       "    <tr style=\"text-align: right;\">\n",
       "      <th></th>\n",
       "      <th>season</th>\n",
       "      <th>Date</th>\n",
       "      <th>HomeTeam</th>\n",
       "      <th>AwayTeam</th>\n",
       "      <th>FTHG</th>\n",
       "      <th>FTAG</th>\n",
       "      <th>FTR</th>\n",
       "    </tr>\n",
       "  </thead>\n",
       "  <tbody>\n",
       "    <tr>\n",
       "      <th>0</th>\n",
       "      <td>1995-96</td>\n",
       "      <td>19/08/95</td>\n",
       "      <td>Aston Villa</td>\n",
       "      <td>Man United</td>\n",
       "      <td>3.0</td>\n",
       "      <td>1.0</td>\n",
       "      <td>H</td>\n",
       "    </tr>\n",
       "    <tr>\n",
       "      <th>1</th>\n",
       "      <td>1995-96</td>\n",
       "      <td>19/08/95</td>\n",
       "      <td>Blackburn</td>\n",
       "      <td>QPR</td>\n",
       "      <td>1.0</td>\n",
       "      <td>0.0</td>\n",
       "      <td>H</td>\n",
       "    </tr>\n",
       "    <tr>\n",
       "      <th>2</th>\n",
       "      <td>1995-96</td>\n",
       "      <td>19/08/95</td>\n",
       "      <td>Chelsea</td>\n",
       "      <td>Everton</td>\n",
       "      <td>0.0</td>\n",
       "      <td>0.0</td>\n",
       "      <td>D</td>\n",
       "    </tr>\n",
       "    <tr>\n",
       "      <th>3</th>\n",
       "      <td>1995-96</td>\n",
       "      <td>19/08/95</td>\n",
       "      <td>Liverpool</td>\n",
       "      <td>Sheffield Weds</td>\n",
       "      <td>1.0</td>\n",
       "      <td>0.0</td>\n",
       "      <td>H</td>\n",
       "    </tr>\n",
       "    <tr>\n",
       "      <th>4</th>\n",
       "      <td>1995-96</td>\n",
       "      <td>19/08/95</td>\n",
       "      <td>Man City</td>\n",
       "      <td>Tottenham</td>\n",
       "      <td>1.0</td>\n",
       "      <td>1.0</td>\n",
       "      <td>D</td>\n",
       "    </tr>\n",
       "  </tbody>\n",
       "</table>\n",
       "</div>"
      ],
      "text/plain": [
       "    season      Date     HomeTeam        AwayTeam  FTHG  FTAG FTR\n",
       "0  1995-96  19/08/95  Aston Villa      Man United   3.0   1.0   H\n",
       "1  1995-96  19/08/95    Blackburn             QPR   1.0   0.0   H\n",
       "2  1995-96  19/08/95      Chelsea         Everton   0.0   0.0   D\n",
       "3  1995-96  19/08/95    Liverpool  Sheffield Weds   1.0   0.0   H\n",
       "4  1995-96  19/08/95     Man City       Tottenham   1.0   1.0   D"
      ]
     },
     "execution_count": 16,
     "metadata": {},
     "output_type": "execute_result"
    }
   ],
   "source": [
    "df = s3_helpers.grab_data_s3(constants.TRAINING_DATA_LOCATION)\n",
    "df = df[constants.COLUMNS_REQ]\n",
    "df.head()"
   ]
  },
  {
   "cell_type": "code",
   "execution_count": 17,
   "id": "6b090a61-7df6-4de1-b9af-333896ae4a55",
   "metadata": {
    "tags": []
   },
   "outputs": [
    {
     "name": "stderr",
     "output_type": "stream",
     "text": [
      "2023-11-30 07:47:03,898 - PremierLeagueLogger - INFO - Fitting Transformer\n",
      "INFO:PremierLeagueLogger:Fitting Transformer\n",
      "2023-11-30 07:47:05,064 - PremierLeagueLogger - INFO - Fitting Transformer\n",
      "INFO:PremierLeagueLogger:Fitting Transformer\n"
     ]
    }
   ],
   "source": [
    "transformers = preprocessing.fit_transformers(\n",
    "    df\n",
    ")"
   ]
  },
  {
   "cell_type": "code",
   "execution_count": 18,
   "id": "b23f6a98-cfda-43c5-a84e-2815295f0874",
   "metadata": {
    "tags": []
   },
   "outputs": [
    {
     "name": "stderr",
     "output_type": "stream",
     "text": [
      "2023-11-30 07:47:34,128 - PremierLeagueLogger - INFO - Saving transformer to premier-league-app/app_data/transformers/transformer_v2_20231130.pkl\n",
      "INFO:PremierLeagueLogger:Saving transformer to premier-league-app/app_data/transformers/transformer_v2_20231130.pkl\n",
      "2023-11-30 07:47:36,633 - PremierLeagueLogger - INFO - Transformer saved to premier-league-app/app_data/transformers/transformer_v2_20231130.pkl\n",
      "INFO:PremierLeagueLogger:Transformer saved to premier-league-app/app_data/transformers/transformer_v2_20231130.pkl\n"
     ]
    }
   ],
   "source": [
    "s3_helpers.save_transformer_s3_pickle(\n",
    "    transformers, \n",
    "    constants.TRANSFORMER_PATH\n",
    ")"
   ]
  },
  {
   "cell_type": "code",
   "execution_count": 19,
   "id": "5e71ed51-7d1f-4fce-8b3e-3cd19b89ed1c",
   "metadata": {
    "tags": []
   },
   "outputs": [
    {
     "name": "stderr",
     "output_type": "stream",
     "text": [
      "2023-11-30 07:47:37,928 - PremierLeagueLogger - INFO - Transforming Data\n",
      "INFO:PremierLeagueLogger:Transforming Data\n",
      "2023-11-30 07:47:39,227 - PremierLeagueLogger - INFO - Transforming Data\n",
      "INFO:PremierLeagueLogger:Transforming Data\n"
     ]
    }
   ],
   "source": [
    "transformed_data = preprocessing.transform_data(\n",
    "    df, transformers\n",
    ")"
   ]
  },
  {
   "cell_type": "code",
   "execution_count": 20,
   "id": "d81a74a5-b178-41dc-abf2-ce5e22440b46",
   "metadata": {},
   "outputs": [],
   "source": [
    "#transformed_data = transformed_data.drop(['HomeTeam', 'AwayTeam', 'season'], axis=1)"
   ]
  },
  {
   "cell_type": "code",
   "execution_count": 21,
   "id": "58435ad5-ef5b-4b9c-9629-57a79e865718",
   "metadata": {},
   "outputs": [
    {
     "name": "stderr",
     "output_type": "stream",
     "text": [
      "2023-11-30 07:48:06,441 - PremierLeagueLogger - INFO - Splitting Data\n",
      "INFO:PremierLeagueLogger:Splitting Data\n"
     ]
    }
   ],
   "source": [
    "training_data, testing_data = preprocessing.split_data(transformed_data)"
   ]
  },
  {
   "cell_type": "code",
   "execution_count": 22,
   "id": "129ce0ef-ccf5-4dcd-8d69-16b5de6d5721",
   "metadata": {},
   "outputs": [
    {
     "data": {
      "text/plain": [
       "(8616, 33)"
      ]
     },
     "execution_count": 22,
     "metadata": {},
     "output_type": "execute_result"
    }
   ],
   "source": [
    "training_data.shape"
   ]
  },
  {
   "cell_type": "code",
   "execution_count": 23,
   "id": "55e9d156-149f-4dc9-884b-07c1b442beaa",
   "metadata": {},
   "outputs": [
    {
     "data": {
      "text/plain": [
       "(2154, 33)"
      ]
     },
     "execution_count": 23,
     "metadata": {},
     "output_type": "execute_result"
    }
   ],
   "source": [
    "testing_data.shape"
   ]
  },
  {
   "cell_type": "code",
   "execution_count": 24,
   "id": "b4072a99-cfe8-4153-8753-dfdff40b646c",
   "metadata": {},
   "outputs": [
    {
     "data": {
      "text/html": [
       "<div>\n",
       "<style scoped>\n",
       "    .dataframe tbody tr th:only-of-type {\n",
       "        vertical-align: middle;\n",
       "    }\n",
       "\n",
       "    .dataframe tbody tr th {\n",
       "        vertical-align: top;\n",
       "    }\n",
       "\n",
       "    .dataframe thead th {\n",
       "        text-align: right;\n",
       "    }\n",
       "</style>\n",
       "<table border=\"1\" class=\"dataframe\">\n",
       "  <thead>\n",
       "    <tr style=\"text-align: right;\">\n",
       "      <th></th>\n",
       "      <th>season</th>\n",
       "      <th>HomeTeam</th>\n",
       "      <th>AwayTeam</th>\n",
       "      <th>FTR</th>\n",
       "      <th>HTGS</th>\n",
       "      <th>ATGS</th>\n",
       "      <th>HTGC</th>\n",
       "      <th>ATGC</th>\n",
       "      <th>HTP</th>\n",
       "      <th>ATP</th>\n",
       "      <th>...</th>\n",
       "      <th>HTGD</th>\n",
       "      <th>ATGD</th>\n",
       "      <th>DiffPts</th>\n",
       "      <th>DiffFormPts</th>\n",
       "      <th>HomeLeaguePosition</th>\n",
       "      <th>AwayLeaguePosition</th>\n",
       "      <th>LeaguePositionDiff</th>\n",
       "      <th>MatchDayDay</th>\n",
       "      <th>MatchDayMonth</th>\n",
       "      <th>MatchDayDate</th>\n",
       "    </tr>\n",
       "  </thead>\n",
       "  <tbody>\n",
       "    <tr>\n",
       "      <th>0</th>\n",
       "      <td>1995-96</td>\n",
       "      <td>Man United</td>\n",
       "      <td>Nott'm Forest</td>\n",
       "      <td>0</td>\n",
       "      <td>65.0</td>\n",
       "      <td>46.0</td>\n",
       "      <td>35.0</td>\n",
       "      <td>53.0</td>\n",
       "      <td>2.054054</td>\n",
       "      <td>1.459459</td>\n",
       "      <td>...</td>\n",
       "      <td>0.810811</td>\n",
       "      <td>-0.189189</td>\n",
       "      <td>0.594595</td>\n",
       "      <td>0.135135</td>\n",
       "      <td>2</td>\n",
       "      <td>7</td>\n",
       "      <td>-5</td>\n",
       "      <td>Sunday</td>\n",
       "      <td>April</td>\n",
       "      <td>28</td>\n",
       "    </tr>\n",
       "    <tr>\n",
       "      <th>1</th>\n",
       "      <td>2001-02</td>\n",
       "      <td>Man United</td>\n",
       "      <td>Sunderland</td>\n",
       "      <td>0</td>\n",
       "      <td>56.0</td>\n",
       "      <td>19.0</td>\n",
       "      <td>34.0</td>\n",
       "      <td>26.0</td>\n",
       "      <td>1.800000</td>\n",
       "      <td>1.120000</td>\n",
       "      <td>...</td>\n",
       "      <td>0.880000</td>\n",
       "      <td>-0.280000</td>\n",
       "      <td>0.680000</td>\n",
       "      <td>0.400000</td>\n",
       "      <td>3</td>\n",
       "      <td>13</td>\n",
       "      <td>-10</td>\n",
       "      <td>Saturday</td>\n",
       "      <td>February</td>\n",
       "      <td>2</td>\n",
       "    </tr>\n",
       "  </tbody>\n",
       "</table>\n",
       "<p>2 rows × 33 columns</p>\n",
       "</div>"
      ],
      "text/plain": [
       "    season    HomeTeam       AwayTeam  FTR  HTGS  ATGS  HTGC  ATGC       HTP  \\\n",
       "0  1995-96  Man United  Nott'm Forest    0  65.0  46.0  35.0  53.0  2.054054   \n",
       "1  2001-02  Man United     Sunderland    0  56.0  19.0  34.0  26.0  1.800000   \n",
       "\n",
       "        ATP  ...      HTGD      ATGD   DiffPts DiffFormPts HomeLeaguePosition  \\\n",
       "0  1.459459  ...  0.810811 -0.189189  0.594595    0.135135                  2   \n",
       "1  1.120000  ...  0.880000 -0.280000  0.680000    0.400000                  3   \n",
       "\n",
       "  AwayLeaguePosition LeaguePositionDiff MatchDayDay MatchDayMonth MatchDayDate  \n",
       "0                  7                 -5      Sunday         April           28  \n",
       "1                 13                -10    Saturday      February            2  \n",
       "\n",
       "[2 rows x 33 columns]"
      ]
     },
     "execution_count": 24,
     "metadata": {},
     "output_type": "execute_result"
    }
   ],
   "source": [
    "training_data.head(2)"
   ]
  },
  {
   "cell_type": "markdown",
   "id": "617758ac-15f0-4a8a-b0bb-967cff8ff224",
   "metadata": {},
   "source": [
    "### Model Training"
   ]
  },
  {
   "cell_type": "code",
   "execution_count": 25,
   "id": "ef81bed4-96a7-4ba9-9701-076f12e9b653",
   "metadata": {},
   "outputs": [],
   "source": [
    "target_column = 'FTR'"
   ]
  },
  {
   "cell_type": "code",
   "execution_count": 26,
   "id": "64c387f8-b299-4406-a8cf-f44e84c26b22",
   "metadata": {},
   "outputs": [
    {
     "name": "stderr",
     "output_type": "stream",
     "text": [
      "2023-11-30 07:48:07,992 - PremierLeagueLogger - INFO - Optimising Hyperparameters\n",
      "INFO:PremierLeagueLogger:Optimising Hyperparameters\n",
      "2023-11-30 07:48:09,258 - PremierLeagueLogger - INFO - Entering fmin\n",
      "INFO:PremierLeagueLogger:Entering fmin\n"
     ]
    },
    {
     "name": "stdout",
     "output_type": "stream",
     "text": [
      "  0%|                                                                                                                                                                 | 0/20 [00:00<?, ?trial/s, best loss=?]"
     ]
    },
    {
     "name": "stderr",
     "output_type": "stream",
     "text": [
      "2023-11-30 07:48:10,559 - PremierLeagueLogger - INFO - CatBoost initialized\n",
      "INFO:PremierLeagueLogger:CatBoost initialized\n",
      "2023-11-30 07:48:11,800 - PremierLeagueLogger - INFO - Fitting model\n",
      "INFO:PremierLeagueLogger:Fitting model\n",
      "2023-11-30 07:48:16,028 - PremierLeagueLogger - INFO - Loss: -0.5185614849187935\n",
      "INFO:PremierLeagueLogger:Loss: -0.5185614849187935\n"
     ]
    },
    {
     "name": "stdout",
     "output_type": "stream",
     "text": [
      "  5%|██████▋                                                                                                                               | 1/20 [00:07<02:14,  7.07s/trial, best loss: -0.5185614849187935]"
     ]
    },
    {
     "name": "stderr",
     "output_type": "stream",
     "text": [
      "2023-11-30 07:48:17,626 - PremierLeagueLogger - INFO - CatBoost initialized\n",
      "INFO:PremierLeagueLogger:CatBoost initialized\n",
      "2023-11-30 07:48:18,803 - PremierLeagueLogger - INFO - Fitting model\n",
      "INFO:PremierLeagueLogger:Fitting model\n",
      "2023-11-30 07:48:23,564 - PremierLeagueLogger - INFO - Loss: -0.5284222737819025\n",
      "INFO:PremierLeagueLogger:Loss: -0.5284222737819025\n"
     ]
    },
    {
     "name": "stdout",
     "output_type": "stream",
     "text": [
      " 10%|█████████████▍                                                                                                                        | 2/20 [00:14<02:10,  7.24s/trial, best loss: -0.5284222737819025]"
     ]
    },
    {
     "name": "stderr",
     "output_type": "stream",
     "text": [
      "2023-11-30 07:48:24,985 - PremierLeagueLogger - INFO - CatBoost initialized\n",
      "INFO:PremierLeagueLogger:CatBoost initialized\n",
      "2023-11-30 07:48:26,214 - PremierLeagueLogger - INFO - Fitting model\n",
      "INFO:PremierLeagueLogger:Fitting model\n",
      "2023-11-30 07:48:31,315 - PremierLeagueLogger - INFO - Loss: -0.5191415313225058\n",
      "INFO:PremierLeagueLogger:Loss: -0.5191415313225058\n"
     ]
    },
    {
     "name": "stdout",
     "output_type": "stream",
     "text": [
      " 15%|████████████████████                                                                                                                  | 3/20 [00:21<02:05,  7.37s/trial, best loss: -0.5284222737819025]"
     ]
    },
    {
     "name": "stderr",
     "output_type": "stream",
     "text": [
      "2023-11-30 07:48:32,499 - PremierLeagueLogger - INFO - CatBoost initialized\n",
      "INFO:PremierLeagueLogger:CatBoost initialized\n",
      "2023-11-30 07:48:33,691 - PremierLeagueLogger - INFO - Fitting model\n",
      "INFO:PremierLeagueLogger:Fitting model\n",
      "2023-11-30 07:48:35,836 - PremierLeagueLogger - INFO - Loss: -0.521461716937355\n",
      "INFO:PremierLeagueLogger:Loss: -0.521461716937355\n"
     ]
    },
    {
     "name": "stdout",
     "output_type": "stream",
     "text": [
      " 20%|██████████████████████████▊                                                                                                           | 4/20 [00:26<01:40,  6.27s/trial, best loss: -0.5284222737819025]"
     ]
    },
    {
     "name": "stderr",
     "output_type": "stream",
     "text": [
      "2023-11-30 07:48:37,084 - PremierLeagueLogger - INFO - CatBoost initialized\n",
      "INFO:PremierLeagueLogger:CatBoost initialized\n",
      "2023-11-30 07:48:38,252 - PremierLeagueLogger - INFO - Fitting model\n",
      "INFO:PremierLeagueLogger:Fitting model\n",
      "2023-11-30 07:48:40,787 - PremierLeagueLogger - INFO - Loss: -0.5197215777262181\n",
      "INFO:PremierLeagueLogger:Loss: -0.5197215777262181\n"
     ]
    },
    {
     "name": "stdout",
     "output_type": "stream",
     "text": [
      " 25%|█████████████████████████████████▌                                                                                                    | 5/20 [00:31<01:26,  5.78s/trial, best loss: -0.5284222737819025]"
     ]
    },
    {
     "name": "stderr",
     "output_type": "stream",
     "text": [
      "2023-11-30 07:48:42,267 - PremierLeagueLogger - INFO - CatBoost initialized\n",
      "INFO:PremierLeagueLogger:CatBoost initialized\n",
      "2023-11-30 07:48:43,421 - PremierLeagueLogger - INFO - Fitting model\n",
      "INFO:PremierLeagueLogger:Fitting model\n",
      "2023-11-30 07:48:45,764 - PremierLeagueLogger - INFO - Loss: -0.5226218097447796\n",
      "INFO:PremierLeagueLogger:Loss: -0.5226218097447796\n"
     ]
    },
    {
     "name": "stdout",
     "output_type": "stream",
     "text": [
      " 30%|████████████████████████████████████████▏                                                                                             | 6/20 [00:36<01:17,  5.52s/trial, best loss: -0.5284222737819025]"
     ]
    },
    {
     "name": "stderr",
     "output_type": "stream",
     "text": [
      "2023-11-30 07:48:47,010 - PremierLeagueLogger - INFO - CatBoost initialized\n",
      "INFO:PremierLeagueLogger:CatBoost initialized\n",
      "2023-11-30 07:48:48,173 - PremierLeagueLogger - INFO - Fitting model\n",
      "INFO:PremierLeagueLogger:Fitting model\n",
      "2023-11-30 07:48:49,825 - PremierLeagueLogger - INFO - Loss: -0.5220417633410673\n",
      "INFO:PremierLeagueLogger:Loss: -0.5220417633410673\n"
     ]
    },
    {
     "name": "stdout",
     "output_type": "stream",
     "text": [
      " 35%|██████████████████████████████████████████████▉                                                                                       | 7/20 [00:40<01:05,  5.02s/trial, best loss: -0.5284222737819025]"
     ]
    },
    {
     "name": "stderr",
     "output_type": "stream",
     "text": [
      "2023-11-30 07:48:51,008 - PremierLeagueLogger - INFO - CatBoost initialized\n",
      "INFO:PremierLeagueLogger:CatBoost initialized\n",
      "2023-11-30 07:48:52,178 - PremierLeagueLogger - INFO - Fitting model\n",
      "INFO:PremierLeagueLogger:Fitting model\n",
      "2023-11-30 07:48:58,016 - PremierLeagueLogger - INFO - Loss: -0.527262180974478\n",
      "INFO:PremierLeagueLogger:Loss: -0.527262180974478\n"
     ]
    },
    {
     "name": "stdout",
     "output_type": "stream",
     "text": [
      " 40%|█████████████████████████████████████████████████████▌                                                                                | 8/20 [00:48<01:13,  6.10s/trial, best loss: -0.5284222737819025]"
     ]
    },
    {
     "name": "stderr",
     "output_type": "stream",
     "text": [
      "2023-11-30 07:48:59,413 - PremierLeagueLogger - INFO - CatBoost initialized\n",
      "INFO:PremierLeagueLogger:CatBoost initialized\n",
      "2023-11-30 07:49:00,586 - PremierLeagueLogger - INFO - Fitting model\n",
      "INFO:PremierLeagueLogger:Fitting model\n",
      "2023-11-30 07:49:03,124 - PremierLeagueLogger - INFO - Loss: -0.5197215777262181\n",
      "INFO:PremierLeagueLogger:Loss: -0.5197215777262181\n"
     ]
    },
    {
     "name": "stdout",
     "output_type": "stream",
     "text": [
      " 45%|████████████████████████████████████████████████████████████▎                                                                         | 9/20 [00:53<01:02,  5.72s/trial, best loss: -0.5284222737819025]"
     ]
    },
    {
     "name": "stderr",
     "output_type": "stream",
     "text": [
      "2023-11-30 07:49:04,308 - PremierLeagueLogger - INFO - CatBoost initialized\n",
      "INFO:PremierLeagueLogger:CatBoost initialized\n",
      "2023-11-30 07:49:05,501 - PremierLeagueLogger - INFO - Fitting model\n",
      "INFO:PremierLeagueLogger:Fitting model\n",
      "2023-11-30 07:49:07,425 - PremierLeagueLogger - INFO - Loss: -0.5243619489559165\n",
      "INFO:PremierLeagueLogger:Loss: -0.5243619489559165\n"
     ]
    },
    {
     "name": "stdout",
     "output_type": "stream",
     "text": [
      " 50%|██████████████████████████████████████████████████████████████████▌                                                                  | 10/20 [00:58<00:52,  5.29s/trial, best loss: -0.5284222737819025]"
     ]
    },
    {
     "name": "stderr",
     "output_type": "stream",
     "text": [
      "2023-11-30 07:49:08,614 - PremierLeagueLogger - INFO - CatBoost initialized\n",
      "INFO:PremierLeagueLogger:CatBoost initialized\n",
      "2023-11-30 07:49:09,818 - PremierLeagueLogger - INFO - Fitting model\n",
      "INFO:PremierLeagueLogger:Fitting model\n",
      "2023-11-30 07:49:12,317 - PremierLeagueLogger - INFO - Loss: -0.5295823665893271\n",
      "INFO:PremierLeagueLogger:Loss: -0.5295823665893271\n"
     ]
    },
    {
     "name": "stdout",
     "output_type": "stream",
     "text": [
      " 55%|█████████████████████████████████████████████████████████████████████████▏                                                           | 11/20 [01:02<00:46,  5.17s/trial, best loss: -0.5295823665893271]"
     ]
    },
    {
     "name": "stderr",
     "output_type": "stream",
     "text": [
      "2023-11-30 07:49:13,513 - PremierLeagueLogger - INFO - CatBoost initialized\n",
      "INFO:PremierLeagueLogger:CatBoost initialized\n",
      "2023-11-30 07:49:14,873 - PremierLeagueLogger - INFO - Fitting model\n",
      "INFO:PremierLeagueLogger:Fitting model\n",
      "2023-11-30 07:49:18,089 - PremierLeagueLogger - INFO - Loss: -0.5220417633410673\n",
      "INFO:PremierLeagueLogger:Loss: -0.5220417633410673\n"
     ]
    },
    {
     "name": "stdout",
     "output_type": "stream",
     "text": [
      " 60%|███████████████████████████████████████████████████████████████████████████████▊                                                     | 12/20 [01:08<00:42,  5.37s/trial, best loss: -0.5295823665893271]"
     ]
    },
    {
     "name": "stderr",
     "output_type": "stream",
     "text": [
      "2023-11-30 07:49:19,342 - PremierLeagueLogger - INFO - CatBoost initialized\n",
      "INFO:PremierLeagueLogger:CatBoost initialized\n",
      "2023-11-30 07:49:20,535 - PremierLeagueLogger - INFO - Fitting model\n",
      "INFO:PremierLeagueLogger:Fitting model\n",
      "2023-11-30 07:49:22,535 - PremierLeagueLogger - INFO - Loss: -0.5220417633410673\n",
      "INFO:PremierLeagueLogger:Loss: -0.5220417633410673\n"
     ]
    },
    {
     "name": "stdout",
     "output_type": "stream",
     "text": [
      " 65%|██████████████████████████████████████████████████████████████████████████████████████▍                                              | 13/20 [01:13<00:35,  5.07s/trial, best loss: -0.5295823665893271]"
     ]
    },
    {
     "name": "stderr",
     "output_type": "stream",
     "text": [
      "2023-11-30 07:49:23,727 - PremierLeagueLogger - INFO - CatBoost initialized\n",
      "INFO:PremierLeagueLogger:CatBoost initialized\n",
      "2023-11-30 07:49:24,909 - PremierLeagueLogger - INFO - Fitting model\n",
      "INFO:PremierLeagueLogger:Fitting model\n",
      "2023-11-30 07:49:27,170 - PremierLeagueLogger - INFO - Loss: -0.5046403712296984\n",
      "INFO:PremierLeagueLogger:Loss: -0.5046403712296984\n"
     ]
    },
    {
     "name": "stdout",
     "output_type": "stream",
     "text": [
      " 70%|█████████████████████████████████████████████████████████████████████████████████████████████                                        | 14/20 [01:17<00:29,  4.94s/trial, best loss: -0.5295823665893271]"
     ]
    },
    {
     "name": "stderr",
     "output_type": "stream",
     "text": [
      "2023-11-30 07:49:28,364 - PremierLeagueLogger - INFO - CatBoost initialized\n",
      "INFO:PremierLeagueLogger:CatBoost initialized\n",
      "2023-11-30 07:49:29,565 - PremierLeagueLogger - INFO - Fitting model\n",
      "INFO:PremierLeagueLogger:Fitting model\n",
      "2023-11-30 07:49:31,701 - PremierLeagueLogger - INFO - Loss: -0.5237819025522041\n",
      "INFO:PremierLeagueLogger:Loss: -0.5237819025522041\n"
     ]
    },
    {
     "name": "stdout",
     "output_type": "stream",
     "text": [
      " 75%|███████████████████████████████████████████████████████████████████████████████████████████████████▊                                 | 15/20 [01:22<00:24,  4.83s/trial, best loss: -0.5295823665893271]"
     ]
    },
    {
     "name": "stderr",
     "output_type": "stream",
     "text": [
      "2023-11-30 07:49:32,957 - PremierLeagueLogger - INFO - CatBoost initialized\n",
      "INFO:PremierLeagueLogger:CatBoost initialized\n",
      "2023-11-30 07:49:34,186 - PremierLeagueLogger - INFO - Fitting model\n",
      "INFO:PremierLeagueLogger:Fitting model\n",
      "2023-11-30 07:49:35,884 - PremierLeagueLogger - INFO - Loss: -0.5208816705336426\n",
      "INFO:PremierLeagueLogger:Loss: -0.5208816705336426\n"
     ]
    },
    {
     "name": "stdout",
     "output_type": "stream",
     "text": [
      " 80%|██████████████████████████████████████████████████████████████████████████████████████████████████████████▍                          | 16/20 [01:26<00:18,  4.62s/trial, best loss: -0.5295823665893271]"
     ]
    },
    {
     "name": "stderr",
     "output_type": "stream",
     "text": [
      "2023-11-30 07:49:37,074 - PremierLeagueLogger - INFO - CatBoost initialized\n",
      "INFO:PremierLeagueLogger:CatBoost initialized\n",
      "2023-11-30 07:49:38,278 - PremierLeagueLogger - INFO - Fitting model\n",
      "INFO:PremierLeagueLogger:Fitting model\n",
      "2023-11-30 07:49:41,250 - PremierLeagueLogger - INFO - Loss: -0.527262180974478\n",
      "INFO:PremierLeagueLogger:Loss: -0.527262180974478\n"
     ]
    },
    {
     "name": "stdout",
     "output_type": "stream",
     "text": [
      " 85%|█████████████████████████████████████████████████████████████████████████████████████████████████████████████████                    | 17/20 [01:31<00:14,  4.84s/trial, best loss: -0.5295823665893271]"
     ]
    },
    {
     "name": "stderr",
     "output_type": "stream",
     "text": [
      "2023-11-30 07:49:42,447 - PremierLeagueLogger - INFO - CatBoost initialized\n",
      "INFO:PremierLeagueLogger:CatBoost initialized\n",
      "2023-11-30 07:49:43,796 - PremierLeagueLogger - INFO - Fitting model\n",
      "INFO:PremierLeagueLogger:Fitting model\n",
      "2023-11-30 07:49:46,264 - PremierLeagueLogger - INFO - Loss: -0.5290023201856149\n",
      "INFO:PremierLeagueLogger:Loss: -0.5290023201856149\n"
     ]
    },
    {
     "name": "stdout",
     "output_type": "stream",
     "text": [
      " 90%|███████████████████████████████████████████████████████████████████████████████████████████████████████████████████████▋             | 18/20 [01:37<00:09,  4.94s/trial, best loss: -0.5295823665893271]"
     ]
    },
    {
     "name": "stderr",
     "output_type": "stream",
     "text": [
      "2023-11-30 07:49:47,618 - PremierLeagueLogger - INFO - CatBoost initialized\n",
      "INFO:PremierLeagueLogger:CatBoost initialized\n",
      "2023-11-30 07:49:48,977 - PremierLeagueLogger - INFO - Fitting model\n",
      "INFO:PremierLeagueLogger:Fitting model\n",
      "2023-11-30 07:49:51,937 - PremierLeagueLogger - INFO - Loss: -0.5174013921113689\n",
      "INFO:PremierLeagueLogger:Loss: -0.5174013921113689\n"
     ]
    },
    {
     "name": "stdout",
     "output_type": "stream",
     "text": [
      " 95%|██████████████████████████████████████████████████████████████████████████████████████████████████████████████████████████████▎      | 19/20 [01:42<00:05,  5.17s/trial, best loss: -0.5295823665893271]"
     ]
    },
    {
     "name": "stderr",
     "output_type": "stream",
     "text": [
      "2023-11-30 07:49:53,308 - PremierLeagueLogger - INFO - CatBoost initialized\n",
      "INFO:PremierLeagueLogger:CatBoost initialized\n",
      "2023-11-30 07:49:54,682 - PremierLeagueLogger - INFO - Fitting model\n",
      "INFO:PremierLeagueLogger:Fitting model\n",
      "2023-11-30 07:49:56,916 - PremierLeagueLogger - INFO - Loss: -0.5220417633410673\n",
      "INFO:PremierLeagueLogger:Loss: -0.5220417633410673\n"
     ]
    },
    {
     "name": "stdout",
     "output_type": "stream",
     "text": [
      "100%|█████████████████████████████████████████████████████████████████████████████████████████████████████████████████████████████████████| 20/20 [01:47<00:00,  5.39s/trial, best loss: -0.5295823665893271]\n"
     ]
    }
   ],
   "source": [
    "hyperparameters = training.optimise_hyperparameters(\n",
    "    training_data,\n",
    "    target_column,\n",
    "    max_evals = constants.MAX_EVALS\n",
    ")"
   ]
  },
  {
   "cell_type": "code",
   "execution_count": 27,
   "id": "27c94695-3b22-4296-9101-32b99db9f4a4",
   "metadata": {},
   "outputs": [
    {
     "name": "stdout",
     "output_type": "stream",
     "text": [
      "{'learning_rate': 0.1, 'iterations': 500, 'max_depth': 6}\n"
     ]
    }
   ],
   "source": [
    "print(hyperparameters)"
   ]
  },
  {
   "cell_type": "code",
   "execution_count": 28,
   "id": "cdedbcc1-e67f-422e-af4a-4bbdfd58fd0f",
   "metadata": {
    "scrolled": true,
    "tags": []
   },
   "outputs": [
    {
     "name": "stderr",
     "output_type": "stream",
     "text": [
      "2023-11-30 07:49:58,365 - PremierLeagueLogger - INFO - Grabbing instance status of premier-league-logging\n",
      "INFO:PremierLeagueLogger:Grabbing instance status of premier-league-logging\n",
      "2023-11-30 07:50:01,927 - PremierLeagueLogger - INFO - Starting RDS instance 'premier-league-logging'\n",
      "INFO:PremierLeagueLogger:Starting RDS instance 'premier-league-logging'\n",
      "2023-11-30 07:50:04,225 - PremierLeagueLogger - INFO - RDS instance status:'premier-league-logging': starting\n",
      "INFO:PremierLeagueLogger:RDS instance status:'premier-league-logging': starting\n",
      "2023-11-30 07:52:06,940 - PremierLeagueLogger - INFO - RDS instance status:'premier-league-logging': starting\n",
      "INFO:PremierLeagueLogger:RDS instance status:'premier-league-logging': starting\n",
      "2023-11-30 07:54:10,025 - PremierLeagueLogger - INFO - RDS instance status:'premier-league-logging': starting\n",
      "INFO:PremierLeagueLogger:RDS instance status:'premier-league-logging': starting\n",
      "2023-11-30 07:56:13,355 - PremierLeagueLogger - INFO - RDS instance status:'premier-league-logging': backing-up\n",
      "INFO:PremierLeagueLogger:RDS instance status:'premier-league-logging': backing-up\n",
      "2023-11-30 07:58:16,584 - PremierLeagueLogger - INFO - RDS instance status:'premier-league-logging': available\n",
      "INFO:PremierLeagueLogger:RDS instance status:'premier-league-logging': available\n",
      "2023-11-30 07:58:18,572 - PremierLeagueLogger - INFO - RDS instance 'premier-league-logging' is 'available'.\n",
      "INFO:PremierLeagueLogger:RDS instance 'premier-league-logging' is 'available'.\n"
     ]
    }
   ],
   "source": [
    "# Start postgresDB for model logging\n",
    "if postgres.get_instance_status(\n",
    "        constants.POSTGRES_DB_ID) != 'available':\n",
    "    postgres.start_rds_instance(constants.POSTGRES_DB_ID)"
   ]
  },
  {
   "cell_type": "code",
   "execution_count": 29,
   "id": "2b60160d-080f-4314-89b4-4c3a2d600595",
   "metadata": {},
   "outputs": [],
   "source": [
    "# Open mlflow tracking\n",
    "mlflow_functions.open_mlflow_tracking(\n",
    "    constants.EXP_NAME\n",
    ")"
   ]
  },
  {
   "cell_type": "code",
   "execution_count": 30,
   "id": "4fcde535-293e-4467-b1c0-6e25cf4c8416",
   "metadata": {},
   "outputs": [
    {
     "name": "stderr",
     "output_type": "stream",
     "text": [
      "2023-11-30 07:58:27,756 - PremierLeagueLogger - INFO - Training Model\n",
      "INFO:PremierLeagueLogger:Training Model\n",
      "2023-11-30 07:58:41,897 - PremierLeagueLogger - INFO - Logging parameters to MLFlow\n",
      "INFO:PremierLeagueLogger:Logging parameters to MLFlow\n",
      "WARNING:py.warnings:/Users/david@inawisdom.com/.pyenv/versions/3.10.1/lib/python3.10/importlib/__init__.py:126: DeprecationWarning:\n",
      "\n",
      "The distutils package is deprecated and slated for removal in Python 3.12. Use setuptools or check PEP 632 for potential alternatives\n",
      "\n",
      "\n"
     ]
    }
   ],
   "source": [
    "classifier, run_id = training.train_model(\n",
    "    training_data[[col for col in training_data if col != target_column]],\n",
    "    training_data[target_column],\n",
    "    hyperparameters = hyperparameters\n",
    ")"
   ]
  },
  {
   "cell_type": "code",
   "execution_count": 31,
   "id": "8976d91e-db3f-4b6d-bc46-66abff92ebff",
   "metadata": {
    "tags": []
   },
   "outputs": [
    {
     "name": "stderr",
     "output_type": "stream",
     "text": [
      "2023-11-30 07:58:57,116 - PremierLeagueLogger - INFO - Saving transformer to premier-league-app/app_data/models/classifier_v2_20231130.pkl\n",
      "INFO:PremierLeagueLogger:Saving transformer to premier-league-app/app_data/models/classifier_v2_20231130.pkl\n",
      "2023-11-30 07:59:01,495 - PremierLeagueLogger - INFO - Transformer saved to premier-league-app/app_data/models/classifier_v2_20231130.pkl\n",
      "INFO:PremierLeagueLogger:Transformer saved to premier-league-app/app_data/models/classifier_v2_20231130.pkl\n"
     ]
    }
   ],
   "source": [
    "s3_helpers.save_transformer_s3_pickle(\n",
    "    classifier, \n",
    "    constants.CLASS_MODEL_NAME,\n",
    "    is_transformer=False\n",
    ")"
   ]
  },
  {
   "cell_type": "markdown",
   "id": "ace48a06-42c1-4092-ad3b-131018a2a3a0",
   "metadata": {},
   "source": [
    "### Prediction"
   ]
  },
  {
   "cell_type": "code",
   "execution_count": 32,
   "id": "d39abd19-73db-4e58-8f6f-c8e858c84d71",
   "metadata": {},
   "outputs": [],
   "source": [
    "y_test = testing_data[target_column]\n",
    "x_test = testing_data[[col for col in testing_data if col != target_column]]"
   ]
  },
  {
   "cell_type": "code",
   "execution_count": 33,
   "id": "6d4b9ea1-077e-418e-8909-9bc3baa36680",
   "metadata": {},
   "outputs": [
    {
     "name": "stderr",
     "output_type": "stream",
     "text": [
      "2023-11-30 07:59:02,949 - PremierLeagueLogger - INFO - Making Predictions\n",
      "INFO:PremierLeagueLogger:Making Predictions\n"
     ]
    }
   ],
   "source": [
    "predictions = prediction.predict(x_test, classifier)"
   ]
  },
  {
   "cell_type": "markdown",
   "id": "2aff5a12-c696-47ee-aaae-00f049130b41",
   "metadata": {},
   "source": [
    "### Evaluation"
   ]
  },
  {
   "cell_type": "code",
   "execution_count": 34,
   "id": "5c24f8e8-8241-4d91-9711-12be717cdc83",
   "metadata": {},
   "outputs": [
    {
     "name": "stderr",
     "output_type": "stream",
     "text": [
      "2023-11-30 07:59:04,418 - PremierLeagueLogger - INFO - Evaluating result model\n",
      "INFO:PremierLeagueLogger:Evaluating result model\n",
      "2023-11-30 07:59:10,557 - PremierLeagueLogger - INFO - logging evaluation metrics to mlflow\n",
      "INFO:PremierLeagueLogger:logging evaluation metrics to mlflow\n"
     ]
    }
   ],
   "source": [
    "evaluation_metrics = evaluation.evaluate_model(\n",
    "    predictions, \n",
    "    y_test,\n",
    "    model_type='result',\n",
    "    run_id=run_id\n",
    ")"
   ]
  },
  {
   "cell_type": "code",
   "execution_count": 35,
   "id": "171889a3-53f3-4284-8d80-7e1ac58a94a7",
   "metadata": {},
   "outputs": [
    {
     "data": {
      "text/plain": [
       "{'mcc': 0.2118528972621912,\n",
       " 'accuracy': 0.5139275766016713,\n",
       " 'f1': 0.4886819812009435,\n",
       " 'confusion_matrix': [[723, 90, 185], [299, 96, 136], [264, 73, 288]]}"
      ]
     },
     "execution_count": 35,
     "metadata": {},
     "output_type": "execute_result"
    }
   ],
   "source": [
    "evaluation_metrics"
   ]
  },
  {
   "cell_type": "markdown",
   "id": "17bf79a7-f695-4794-8b2a-acdb0c324f55",
   "metadata": {},
   "source": [
    "### Part 2: Predict Score"
   ]
  },
  {
   "cell_type": "code",
   "execution_count": 36,
   "id": "20ebb24a-5ec5-4187-a19b-602d46071b8b",
   "metadata": {},
   "outputs": [
    {
     "name": "stderr",
     "output_type": "stream",
     "text": [
      "2023-11-30 07:59:17,574 - PremierLeagueLogger - INFO - Making Predictions\n",
      "INFO:PremierLeagueLogger:Making Predictions\n"
     ]
    }
   ],
   "source": [
    "transformed_data = prediction.add_match_result(\n",
    "    transformed_data, classifier, df )"
   ]
  },
  {
   "cell_type": "code",
   "execution_count": 37,
   "id": "642c71e9-cb7d-47b8-bc77-5aa3d5538271",
   "metadata": {},
   "outputs": [
    {
     "name": "stderr",
     "output_type": "stream",
     "text": [
      "2023-11-30 07:59:19,356 - PremierLeagueLogger - INFO - Savng data to premier-league-app/app_data/transformed_data_cc.csv\n",
      "INFO:PremierLeagueLogger:Savng data to premier-league-app/app_data/transformed_data_cc.csv\n"
     ]
    }
   ],
   "source": [
    "s3_helpers.save_data_s3(\n",
    "    transformed_data,\n",
    "    constants.TRANSFORMED_DATA_LOCATION\n",
    ")"
   ]
  },
  {
   "cell_type": "code",
   "execution_count": 38,
   "id": "732ea4b1-9436-4fb3-bdfe-58abeb44c02b",
   "metadata": {},
   "outputs": [
    {
     "data": {
      "text/plain": [
       "(10770, 36)"
      ]
     },
     "execution_count": 38,
     "metadata": {},
     "output_type": "execute_result"
    }
   ],
   "source": [
    "transformed_data.shape"
   ]
  },
  {
   "cell_type": "code",
   "execution_count": 39,
   "id": "9bc8924c-e119-418c-917d-cc64c6391a86",
   "metadata": {},
   "outputs": [
    {
     "name": "stderr",
     "output_type": "stream",
     "text": [
      "2023-11-30 07:59:23,473 - PremierLeagueLogger - INFO - Splitting Data\n",
      "INFO:PremierLeagueLogger:Splitting Data\n"
     ]
    }
   ],
   "source": [
    "training_data, testing_data = preprocessing.split_data(transformed_data)"
   ]
  },
  {
   "cell_type": "code",
   "execution_count": 40,
   "id": "3c400162-9c6e-4606-ac04-4db30b148a3a",
   "metadata": {},
   "outputs": [
    {
     "name": "stderr",
     "output_type": "stream",
     "text": [
      "2023-11-30 07:59:24,977 - PremierLeagueLogger - INFO - Optimising Hyperparameters\n",
      "INFO:PremierLeagueLogger:Optimising Hyperparameters\n",
      "2023-11-30 07:59:26,459 - PremierLeagueLogger - INFO - Entering fmin\n",
      "INFO:PremierLeagueLogger:Entering fmin\n"
     ]
    },
    {
     "name": "stdout",
     "output_type": "stream",
     "text": [
      "  0%|                                                                                                                                                                 | 0/20 [00:00<?, ?trial/s, best loss=?]"
     ]
    },
    {
     "name": "stderr",
     "output_type": "stream",
     "text": [
      "2023-11-30 07:59:27,912 - PremierLeagueLogger - INFO - CatBoost initialized\n",
      "INFO:PremierLeagueLogger:CatBoost initialized\n",
      "2023-11-30 07:59:29,328 - PremierLeagueLogger - INFO - Fitting model\n",
      "INFO:PremierLeagueLogger:Fitting model\n",
      "2023-11-30 07:59:32,609 - PremierLeagueLogger - INFO - Loss: 1.4573970712166064\n",
      "INFO:PremierLeagueLogger:Loss: 1.4573970712166064\n"
     ]
    },
    {
     "name": "stdout",
     "output_type": "stream",
     "text": [
      "  5%|██████▊                                                                                                                                | 1/20 [00:06<01:56,  6.15s/trial, best loss: 1.4573970712166064]"
     ]
    },
    {
     "name": "stderr",
     "output_type": "stream",
     "text": [
      "2023-11-30 07:59:34,080 - PremierLeagueLogger - INFO - CatBoost initialized\n",
      "INFO:PremierLeagueLogger:CatBoost initialized\n",
      "2023-11-30 07:59:35,537 - PremierLeagueLogger - INFO - Fitting model\n",
      "INFO:PremierLeagueLogger:Fitting model\n",
      "2023-11-30 07:59:39,976 - PremierLeagueLogger - INFO - Loss: 1.4573514249913422\n",
      "INFO:PremierLeagueLogger:Loss: 1.4573514249913422\n"
     ]
    },
    {
     "name": "stdout",
     "output_type": "stream",
     "text": [
      " 10%|█████████████▌                                                                                                                         | 2/20 [00:13<02:04,  6.89s/trial, best loss: 1.4573514249913422]"
     ]
    },
    {
     "name": "stderr",
     "output_type": "stream",
     "text": [
      "2023-11-30 07:59:41,476 - PremierLeagueLogger - INFO - CatBoost initialized\n",
      "INFO:PremierLeagueLogger:CatBoost initialized\n",
      "2023-11-30 07:59:42,987 - PremierLeagueLogger - INFO - Fitting model\n",
      "INFO:PremierLeagueLogger:Fitting model\n",
      "2023-11-30 07:59:45,782 - PremierLeagueLogger - INFO - Loss: 1.4649179178626002\n",
      "INFO:PremierLeagueLogger:Loss: 1.4649179178626002\n"
     ]
    },
    {
     "name": "stdout",
     "output_type": "stream",
     "text": [
      " 15%|████████████████████▎                                                                                                                  | 3/20 [00:19<01:49,  6.43s/trial, best loss: 1.4573514249913422]"
     ]
    },
    {
     "name": "stderr",
     "output_type": "stream",
     "text": [
      "2023-11-30 07:59:47,361 - PremierLeagueLogger - INFO - CatBoost initialized\n",
      "INFO:PremierLeagueLogger:CatBoost initialized\n",
      "2023-11-30 07:59:49,082 - PremierLeagueLogger - INFO - Fitting model\n",
      "INFO:PremierLeagueLogger:Fitting model\n",
      "2023-11-30 07:59:51,604 - PremierLeagueLogger - INFO - Loss: 1.4554663061188542\n",
      "INFO:PremierLeagueLogger:Loss: 1.4554663061188542\n"
     ]
    },
    {
     "name": "stdout",
     "output_type": "stream",
     "text": [
      " 20%|███████████████████████████                                                                                                            | 4/20 [00:26<01:49,  6.82s/trial, best loss: 1.4554663061188542]"
     ]
    },
    {
     "name": "stderr",
     "output_type": "stream",
     "text": [
      "2023-11-30 07:59:54,794 - PremierLeagueLogger - INFO - CatBoost initialized\n",
      "INFO:PremierLeagueLogger:CatBoost initialized\n",
      "2023-11-30 07:59:56,326 - PremierLeagueLogger - INFO - Fitting model\n",
      "INFO:PremierLeagueLogger:Fitting model\n",
      "2023-11-30 08:00:01,037 - PremierLeagueLogger - INFO - Loss: 1.4572228423239117\n",
      "INFO:PremierLeagueLogger:Loss: 1.4572228423239117\n"
     ]
    },
    {
     "name": "stdout",
     "output_type": "stream",
     "text": [
      " 25%|█████████████████████████████████▊                                                                                                     | 5/20 [00:34<01:47,  7.18s/trial, best loss: 1.4554663061188542]"
     ]
    },
    {
     "name": "stderr",
     "output_type": "stream",
     "text": [
      "2023-11-30 08:00:02,598 - PremierLeagueLogger - INFO - CatBoost initialized\n",
      "INFO:PremierLeagueLogger:CatBoost initialized\n",
      "2023-11-30 08:00:04,253 - PremierLeagueLogger - INFO - Fitting model\n",
      "INFO:PremierLeagueLogger:Fitting model\n",
      "2023-11-30 08:00:06,762 - PremierLeagueLogger - INFO - Loss: 1.4600434287120547\n",
      "INFO:PremierLeagueLogger:Loss: 1.4600434287120547\n"
     ]
    },
    {
     "name": "stdout",
     "output_type": "stream",
     "text": [
      " 30%|████████████████████████████████████████▌                                                                                              | 6/20 [00:40<01:33,  6.65s/trial, best loss: 1.4554663061188542]"
     ]
    },
    {
     "name": "stderr",
     "output_type": "stream",
     "text": [
      "2023-11-30 08:00:08,221 - PremierLeagueLogger - INFO - CatBoost initialized\n",
      "INFO:PremierLeagueLogger:CatBoost initialized\n",
      "2023-11-30 08:00:09,673 - PremierLeagueLogger - INFO - Fitting model\n",
      "INFO:PremierLeagueLogger:Fitting model\n",
      "2023-11-30 08:00:11,416 - PremierLeagueLogger - INFO - Loss: 1.4571244749979722\n",
      "INFO:PremierLeagueLogger:Loss: 1.4571244749979722\n"
     ]
    },
    {
     "name": "stdout",
     "output_type": "stream",
     "text": [
      " 35%|███████████████████████████████████████████████▎                                                                                       | 7/20 [00:44<01:17,  5.99s/trial, best loss: 1.4554663061188542]"
     ]
    },
    {
     "name": "stderr",
     "output_type": "stream",
     "text": [
      "2023-11-30 08:00:12,845 - PremierLeagueLogger - INFO - CatBoost initialized\n",
      "INFO:PremierLeagueLogger:CatBoost initialized\n",
      "2023-11-30 08:00:14,297 - PremierLeagueLogger - INFO - Fitting model\n",
      "INFO:PremierLeagueLogger:Fitting model\n",
      "2023-11-30 08:00:15,998 - PremierLeagueLogger - INFO - Loss: 1.456732934373109\n",
      "INFO:PremierLeagueLogger:Loss: 1.456732934373109\n"
     ]
    },
    {
     "name": "stdout",
     "output_type": "stream",
     "text": [
      " 40%|██████████████████████████████████████████████████████                                                                                 | 8/20 [00:50<01:10,  5.87s/trial, best loss: 1.4554663061188542]"
     ]
    },
    {
     "name": "stderr",
     "output_type": "stream",
     "text": [
      "2023-11-30 08:00:18,449 - PremierLeagueLogger - INFO - CatBoost initialized\n",
      "INFO:PremierLeagueLogger:CatBoost initialized\n",
      "2023-11-30 08:00:20,043 - PremierLeagueLogger - INFO - Fitting model\n",
      "INFO:PremierLeagueLogger:Fitting model\n",
      "2023-11-30 08:00:21,815 - PremierLeagueLogger - INFO - Loss: 1.469139976113308\n",
      "INFO:PremierLeagueLogger:Loss: 1.469139976113308\n"
     ]
    },
    {
     "name": "stdout",
     "output_type": "stream",
     "text": [
      " 45%|████████████████████████████████████████████████████████████▊                                                                          | 9/20 [00:55<01:00,  5.51s/trial, best loss: 1.4554663061188542]"
     ]
    },
    {
     "name": "stderr",
     "output_type": "stream",
     "text": [
      "2023-11-30 08:00:23,181 - PremierLeagueLogger - INFO - CatBoost initialized\n",
      "INFO:PremierLeagueLogger:CatBoost initialized\n",
      "2023-11-30 08:00:24,572 - PremierLeagueLogger - INFO - Fitting model\n",
      "INFO:PremierLeagueLogger:Fitting model\n",
      "2023-11-30 08:00:26,216 - PremierLeagueLogger - INFO - Loss: 1.457928644229749\n",
      "INFO:PremierLeagueLogger:Loss: 1.457928644229749\n"
     ]
    },
    {
     "name": "stdout",
     "output_type": "stream",
     "text": [
      " 50%|███████████████████████████████████████████████████████████████████                                                                   | 10/20 [00:59<00:51,  5.18s/trial, best loss: 1.4554663061188542]"
     ]
    },
    {
     "name": "stderr",
     "output_type": "stream",
     "text": [
      "2023-11-30 08:00:27,617 - PremierLeagueLogger - INFO - CatBoost initialized\n",
      "INFO:PremierLeagueLogger:CatBoost initialized\n",
      "2023-11-30 08:00:29,015 - PremierLeagueLogger - INFO - Fitting model\n",
      "INFO:PremierLeagueLogger:Fitting model\n",
      "2023-11-30 08:00:30,654 - PremierLeagueLogger - INFO - Loss: 1.456732934373109\n",
      "INFO:PremierLeagueLogger:Loss: 1.456732934373109\n"
     ]
    },
    {
     "name": "stdout",
     "output_type": "stream",
     "text": [
      " 55%|█████████████████████████████████████████████████████████████████████████▋                                                            | 11/20 [01:04<00:44,  4.97s/trial, best loss: 1.4554663061188542]"
     ]
    },
    {
     "name": "stderr",
     "output_type": "stream",
     "text": [
      "2023-11-30 08:00:32,126 - PremierLeagueLogger - INFO - CatBoost initialized\n",
      "INFO:PremierLeagueLogger:CatBoost initialized\n",
      "2023-11-30 08:00:33,525 - PremierLeagueLogger - INFO - Fitting model\n",
      "INFO:PremierLeagueLogger:Fitting model\n",
      "2023-11-30 08:00:35,324 - PremierLeagueLogger - INFO - Loss: 1.4587971999948308\n",
      "INFO:PremierLeagueLogger:Loss: 1.4587971999948308\n"
     ]
    },
    {
     "name": "stdout",
     "output_type": "stream",
     "text": [
      " 60%|████████████████████████████████████████████████████████████████████████████████▍                                                     | 12/20 [01:08<00:38,  4.85s/trial, best loss: 1.4554663061188542]"
     ]
    },
    {
     "name": "stderr",
     "output_type": "stream",
     "text": [
      "2023-11-30 08:00:36,702 - PremierLeagueLogger - INFO - CatBoost initialized\n",
      "INFO:PremierLeagueLogger:CatBoost initialized\n",
      "2023-11-30 08:00:38,209 - PremierLeagueLogger - INFO - Fitting model\n",
      "INFO:PremierLeagueLogger:Fitting model\n",
      "2023-11-30 08:00:40,274 - PremierLeagueLogger - INFO - Loss: 1.455130426658375\n",
      "INFO:PremierLeagueLogger:Loss: 1.455130426658375\n"
     ]
    },
    {
     "name": "stdout",
     "output_type": "stream",
     "text": [
      " 65%|███████████████████████████████████████████████████████████████████████████████████████▊                                               | 13/20 [01:13<00:34,  4.89s/trial, best loss: 1.455130426658375]"
     ]
    },
    {
     "name": "stderr",
     "output_type": "stream",
     "text": [
      "2023-11-30 08:00:41,663 - PremierLeagueLogger - INFO - CatBoost initialized\n",
      "INFO:PremierLeagueLogger:CatBoost initialized\n",
      "2023-11-30 08:00:43,218 - PremierLeagueLogger - INFO - Fitting model\n",
      "INFO:PremierLeagueLogger:Fitting model\n",
      "2023-11-30 08:00:45,592 - PremierLeagueLogger - INFO - Loss: 1.4566679767808797\n",
      "INFO:PremierLeagueLogger:Loss: 1.4566679767808797\n"
     ]
    },
    {
     "name": "stdout",
     "output_type": "stream",
     "text": [
      " 70%|██████████████████████████████████████████████████████████████████████████████████████████████▌                                        | 14/20 [01:19<00:30,  5.01s/trial, best loss: 1.455130426658375]"
     ]
    },
    {
     "name": "stderr",
     "output_type": "stream",
     "text": [
      "2023-11-30 08:00:46,963 - PremierLeagueLogger - INFO - CatBoost initialized\n",
      "INFO:PremierLeagueLogger:CatBoost initialized\n",
      "2023-11-30 08:00:48,325 - PremierLeagueLogger - INFO - Fitting model\n",
      "INFO:PremierLeagueLogger:Fitting model\n",
      "2023-11-30 08:00:49,862 - PremierLeagueLogger - INFO - Loss: 1.457928644229749\n",
      "INFO:PremierLeagueLogger:Loss: 1.457928644229749\n"
     ]
    },
    {
     "name": "stdout",
     "output_type": "stream",
     "text": [
      " 75%|█████████████████████████████████████████████████████████████████████████████████████████████████████▎                                 | 15/20 [01:23<00:24,  4.82s/trial, best loss: 1.455130426658375]"
     ]
    },
    {
     "name": "stderr",
     "output_type": "stream",
     "text": [
      "2023-11-30 08:00:51,337 - PremierLeagueLogger - INFO - CatBoost initialized\n",
      "INFO:PremierLeagueLogger:CatBoost initialized\n",
      "2023-11-30 08:00:52,806 - PremierLeagueLogger - INFO - Fitting model\n",
      "INFO:PremierLeagueLogger:Fitting model\n",
      "2023-11-30 08:00:54,638 - PremierLeagueLogger - INFO - Loss: 1.4965449452924438\n",
      "INFO:PremierLeagueLogger:Loss: 1.4965449452924438\n"
     ]
    },
    {
     "name": "stdout",
     "output_type": "stream",
     "text": [
      " 80%|████████████████████████████████████████████████████████████████████████████████████████████████████████████                           | 16/20 [01:28<00:19,  4.78s/trial, best loss: 1.455130426658375]"
     ]
    },
    {
     "name": "stderr",
     "output_type": "stream",
     "text": [
      "2023-11-30 08:00:56,021 - PremierLeagueLogger - INFO - CatBoost initialized\n",
      "INFO:PremierLeagueLogger:CatBoost initialized\n",
      "2023-11-30 08:00:57,484 - PremierLeagueLogger - INFO - Fitting model\n",
      "INFO:PremierLeagueLogger:Fitting model\n",
      "2023-11-30 08:00:59,073 - PremierLeagueLogger - INFO - Loss: 1.458243084976992\n",
      "INFO:PremierLeagueLogger:Loss: 1.458243084976992\n"
     ]
    },
    {
     "name": "stdout",
     "output_type": "stream",
     "text": [
      " 85%|██████████████████████████████████████████████████████████████████████████████████████████████████████████████████▊                    | 17/20 [01:32<00:14,  4.68s/trial, best loss: 1.455130426658375]"
     ]
    },
    {
     "name": "stderr",
     "output_type": "stream",
     "text": [
      "2023-11-30 08:01:00,477 - PremierLeagueLogger - INFO - CatBoost initialized\n",
      "INFO:PremierLeagueLogger:CatBoost initialized\n",
      "2023-11-30 08:01:01,873 - PremierLeagueLogger - INFO - Fitting model\n",
      "INFO:PremierLeagueLogger:Fitting model\n",
      "2023-11-30 08:01:03,505 - PremierLeagueLogger - INFO - Loss: 1.4571244749979722\n",
      "INFO:PremierLeagueLogger:Loss: 1.4571244749979722\n"
     ]
    },
    {
     "name": "stdout",
     "output_type": "stream",
     "text": [
      " 90%|█████████████████████████████████████████████████████████████████████████████████████████████████████████████████████████▌             | 18/20 [01:36<00:09,  4.60s/trial, best loss: 1.455130426658375]"
     ]
    },
    {
     "name": "stderr",
     "output_type": "stream",
     "text": [
      "2023-11-30 08:01:04,881 - PremierLeagueLogger - INFO - CatBoost initialized\n",
      "INFO:PremierLeagueLogger:CatBoost initialized\n",
      "2023-11-30 08:01:06,271 - PremierLeagueLogger - INFO - Fitting model\n",
      "INFO:PremierLeagueLogger:Fitting model\n",
      "2023-11-30 08:01:07,939 - PremierLeagueLogger - INFO - Loss: 1.4563917749396866\n",
      "INFO:PremierLeagueLogger:Loss: 1.4563917749396866\n"
     ]
    },
    {
     "name": "stdout",
     "output_type": "stream",
     "text": [
      " 95%|████████████████████████████████████████████████████████████████████████████████████████████████████████████████████████████████▎      | 19/20 [01:41<00:04,  4.55s/trial, best loss: 1.455130426658375]"
     ]
    },
    {
     "name": "stderr",
     "output_type": "stream",
     "text": [
      "2023-11-30 08:01:09,331 - PremierLeagueLogger - INFO - CatBoost initialized\n",
      "INFO:PremierLeagueLogger:CatBoost initialized\n",
      "2023-11-30 08:01:10,729 - PremierLeagueLogger - INFO - Fitting model\n",
      "INFO:PremierLeagueLogger:Fitting model\n",
      "2023-11-30 08:01:12,593 - PremierLeagueLogger - INFO - Loss: 1.4587971999948308\n",
      "INFO:PremierLeagueLogger:Loss: 1.4587971999948308\n"
     ]
    },
    {
     "name": "stdout",
     "output_type": "stream",
     "text": [
      "100%|███████████████████████████████████████████████████████████████████████████████████████████████████████████████████████████████████████| 20/20 [01:46<00:00,  5.31s/trial, best loss: 1.455130426658375]\n"
     ]
    }
   ],
   "source": [
    "hyperparameters = training.optimise_hyperparameters(\n",
    "    training_data.drop(['FTR','FTAG'], axis=1),\n",
    "    'FTHG',\n",
    "    classification=False,\n",
    "    max_evals=constants.MAX_EVALS\n",
    ")"
   ]
  },
  {
   "cell_type": "code",
   "execution_count": 41,
   "id": "71a609f1-869e-41df-bd89-59873c00b094",
   "metadata": {},
   "outputs": [
    {
     "name": "stderr",
     "output_type": "stream",
     "text": [
      "2023-11-30 08:01:14,082 - PremierLeagueLogger - INFO - Training Model\n",
      "INFO:PremierLeagueLogger:Training Model\n",
      "2023-11-30 08:01:29,984 - PremierLeagueLogger - INFO - Logging parameters to MLFlow\n",
      "INFO:PremierLeagueLogger:Logging parameters to MLFlow\n",
      "WARNING:py.warnings:/Users/david@inawisdom.com/.pyenv/versions/3.10.1/lib/python3.10/importlib/__init__.py:126: DeprecationWarning:\n",
      "\n",
      "The distutils package is deprecated and slated for removal in Python 3.12. Use setuptools or check PEP 632 for potential alternatives\n",
      "\n",
      "\n"
     ]
    }
   ],
   "source": [
    "regressor_1, run_id_home = training.train_model(\n",
    "    training_data.drop(['FTR', 'FTHG','FTAG'], axis=1),\n",
    "    training_data['FTHG'],\n",
    "    model_type='home',\n",
    "    verbose=False,\n",
    "    hyperparameters = hyperparameters\n",
    ")"
   ]
  },
  {
   "cell_type": "code",
   "execution_count": 42,
   "id": "ea386ad0-fe7a-439e-a316-48c1616490be",
   "metadata": {
    "tags": []
   },
   "outputs": [
    {
     "name": "stderr",
     "output_type": "stream",
     "text": [
      "2023-11-30 08:01:43,431 - PremierLeagueLogger - INFO - Saving transformer to premier-league-app/app_data/models/home_regress_model_v2_20231130.pkl\n",
      "INFO:PremierLeagueLogger:Saving transformer to premier-league-app/app_data/models/home_regress_model_v2_20231130.pkl\n",
      "2023-11-30 08:01:53,148 - PremierLeagueLogger - INFO - Transformer saved to premier-league-app/app_data/models/home_regress_model_v2_20231130.pkl\n",
      "INFO:PremierLeagueLogger:Transformer saved to premier-league-app/app_data/models/home_regress_model_v2_20231130.pkl\n"
     ]
    }
   ],
   "source": [
    "s3_helpers.save_transformer_s3_pickle(\n",
    "    regressor_1, \n",
    "    constants.HOME_MODEL_NAME,\n",
    "    is_transformer=False\n",
    ")"
   ]
  },
  {
   "cell_type": "code",
   "execution_count": 43,
   "id": "0c29fadd-0c71-4841-923a-5173a8b4334f",
   "metadata": {},
   "outputs": [
    {
     "name": "stderr",
     "output_type": "stream",
     "text": [
      "2023-11-30 08:01:54,651 - PremierLeagueLogger - INFO - Optimising Hyperparameters\n",
      "INFO:PremierLeagueLogger:Optimising Hyperparameters\n",
      "2023-11-30 08:01:56,113 - PremierLeagueLogger - INFO - Entering fmin\n",
      "INFO:PremierLeagueLogger:Entering fmin\n"
     ]
    },
    {
     "name": "stdout",
     "output_type": "stream",
     "text": [
      "  0%|                                                                                                                                                                 | 0/20 [00:00<?, ?trial/s, best loss=?]"
     ]
    },
    {
     "name": "stderr",
     "output_type": "stream",
     "text": [
      "2023-11-30 08:01:57,523 - PremierLeagueLogger - INFO - CatBoost initialized\n",
      "INFO:PremierLeagueLogger:CatBoost initialized\n",
      "2023-11-30 08:01:58,934 - PremierLeagueLogger - INFO - Fitting model\n",
      "INFO:PremierLeagueLogger:Fitting model\n",
      "2023-11-30 08:02:04,872 - PremierLeagueLogger - INFO - Loss: 1.1675952183932463\n",
      "INFO:PremierLeagueLogger:Loss: 1.1675952183932463\n"
     ]
    },
    {
     "name": "stdout",
     "output_type": "stream",
     "text": [
      "  5%|██████▊                                                                                                                                | 1/20 [00:09<02:51,  9.03s/trial, best loss: 1.1675952183932463]"
     ]
    },
    {
     "name": "stderr",
     "output_type": "stream",
     "text": [
      "2023-11-30 08:02:06,556 - PremierLeagueLogger - INFO - CatBoost initialized\n",
      "INFO:PremierLeagueLogger:CatBoost initialized\n",
      "2023-11-30 08:02:07,990 - PremierLeagueLogger - INFO - Fitting model\n",
      "INFO:PremierLeagueLogger:Fitting model\n",
      "2023-11-30 08:02:10,472 - PremierLeagueLogger - INFO - Loss: 1.1610289415974127\n",
      "INFO:PremierLeagueLogger:Loss: 1.1610289415974127\n"
     ]
    },
    {
     "name": "stdout",
     "output_type": "stream",
     "text": [
      " 10%|█████████████▌                                                                                                                         | 2/20 [00:14<02:03,  6.85s/trial, best loss: 1.1610289415974127]"
     ]
    },
    {
     "name": "stderr",
     "output_type": "stream",
     "text": [
      "2023-11-30 08:02:11,885 - PremierLeagueLogger - INFO - CatBoost initialized\n",
      "INFO:PremierLeagueLogger:CatBoost initialized\n",
      "2023-11-30 08:02:13,325 - PremierLeagueLogger - INFO - Fitting model\n",
      "INFO:PremierLeagueLogger:Fitting model\n",
      "2023-11-30 08:02:15,173 - PremierLeagueLogger - INFO - Loss: 1.156919161353201\n",
      "INFO:PremierLeagueLogger:Loss: 1.156919161353201\n"
     ]
    },
    {
     "name": "stdout",
     "output_type": "stream",
     "text": [
      " 15%|████████████████████▍                                                                                                                   | 3/20 [00:19<01:40,  5.90s/trial, best loss: 1.156919161353201]"
     ]
    },
    {
     "name": "stderr",
     "output_type": "stream",
     "text": [
      "2023-11-30 08:02:16,637 - PremierLeagueLogger - INFO - CatBoost initialized\n",
      "INFO:PremierLeagueLogger:CatBoost initialized\n",
      "2023-11-30 08:02:18,019 - PremierLeagueLogger - INFO - Fitting model\n",
      "INFO:PremierLeagueLogger:Fitting model\n",
      "2023-11-30 08:02:19,690 - PremierLeagueLogger - INFO - Loss: 1.158504377831888\n",
      "INFO:PremierLeagueLogger:Loss: 1.158504377831888\n"
     ]
    },
    {
     "name": "stdout",
     "output_type": "stream",
     "text": [
      " 20%|███████████████████████████▏                                                                                                            | 4/20 [00:23<01:25,  5.34s/trial, best loss: 1.156919161353201]"
     ]
    },
    {
     "name": "stderr",
     "output_type": "stream",
     "text": [
      "2023-11-30 08:02:21,140 - PremierLeagueLogger - INFO - CatBoost initialized\n",
      "INFO:PremierLeagueLogger:CatBoost initialized\n",
      "2023-11-30 08:02:22,611 - PremierLeagueLogger - INFO - Fitting model\n",
      "INFO:PremierLeagueLogger:Fitting model\n",
      "2023-11-30 08:02:24,298 - PremierLeagueLogger - INFO - Loss: 1.1557390991189571\n",
      "INFO:PremierLeagueLogger:Loss: 1.1557390991189571\n"
     ]
    },
    {
     "name": "stdout",
     "output_type": "stream",
     "text": [
      " 25%|█████████████████████████████████▊                                                                                                     | 5/20 [00:28<01:16,  5.08s/trial, best loss: 1.1557390991189571]"
     ]
    },
    {
     "name": "stderr",
     "output_type": "stream",
     "text": [
      "2023-11-30 08:02:25,742 - PremierLeagueLogger - INFO - CatBoost initialized\n",
      "INFO:PremierLeagueLogger:CatBoost initialized\n",
      "2023-11-30 08:02:27,260 - PremierLeagueLogger - INFO - Fitting model\n",
      "INFO:PremierLeagueLogger:Fitting model\n",
      "2023-11-30 08:02:29,110 - PremierLeagueLogger - INFO - Loss: 1.1701639060661235\n",
      "INFO:PremierLeagueLogger:Loss: 1.1701639060661235\n"
     ]
    },
    {
     "name": "stdout",
     "output_type": "stream",
     "text": [
      " 30%|████████████████████████████████████████▌                                                                                              | 6/20 [00:33<01:10,  5.01s/trial, best loss: 1.1557390991189571]"
     ]
    },
    {
     "name": "stderr",
     "output_type": "stream",
     "text": [
      "2023-11-30 08:02:30,614 - PremierLeagueLogger - INFO - CatBoost initialized\n",
      "INFO:PremierLeagueLogger:CatBoost initialized\n",
      "2023-11-30 08:02:32,070 - PremierLeagueLogger - INFO - Fitting model\n",
      "INFO:PremierLeagueLogger:Fitting model\n",
      "2023-11-30 08:02:35,171 - PremierLeagueLogger - INFO - Loss: 1.164125419588544\n",
      "INFO:PremierLeagueLogger:Loss: 1.164125419588544\n"
     ]
    },
    {
     "name": "stdout",
     "output_type": "stream",
     "text": [
      " 35%|███████████████████████████████████████████████▎                                                                                       | 7/20 [00:39<01:10,  5.41s/trial, best loss: 1.1557390991189571]"
     ]
    },
    {
     "name": "stderr",
     "output_type": "stream",
     "text": [
      "2023-11-30 08:02:36,852 - PremierLeagueLogger - INFO - CatBoost initialized\n",
      "INFO:PremierLeagueLogger:CatBoost initialized\n",
      "2023-11-30 08:02:38,240 - PremierLeagueLogger - INFO - Fitting model\n",
      "INFO:PremierLeagueLogger:Fitting model\n",
      "2023-11-30 08:02:39,892 - PremierLeagueLogger - INFO - Loss: 1.1680232402658206\n",
      "INFO:PremierLeagueLogger:Loss: 1.1680232402658206\n"
     ]
    },
    {
     "name": "stdout",
     "output_type": "stream",
     "text": [
      " 40%|██████████████████████████████████████████████████████                                                                                 | 8/20 [00:43<01:01,  5.13s/trial, best loss: 1.1557390991189571]"
     ]
    },
    {
     "name": "stderr",
     "output_type": "stream",
     "text": [
      "2023-11-30 08:02:41,394 - PremierLeagueLogger - INFO - CatBoost initialized\n",
      "INFO:PremierLeagueLogger:CatBoost initialized\n",
      "2023-11-30 08:02:42,977 - PremierLeagueLogger - INFO - Fitting model\n",
      "INFO:PremierLeagueLogger:Fitting model\n",
      "2023-11-30 08:02:44,909 - PremierLeagueLogger - INFO - Loss: 1.1644905406816146\n",
      "INFO:PremierLeagueLogger:Loss: 1.1644905406816146\n"
     ]
    },
    {
     "name": "stdout",
     "output_type": "stream",
     "text": [
      " 45%|████████████████████████████████████████████████████████████▊                                                                          | 9/20 [00:48<00:56,  5.12s/trial, best loss: 1.1557390991189571]"
     ]
    },
    {
     "name": "stderr",
     "output_type": "stream",
     "text": [
      "2023-11-30 08:02:46,496 - PremierLeagueLogger - INFO - CatBoost initialized\n",
      "INFO:PremierLeagueLogger:CatBoost initialized\n",
      "2023-11-30 08:02:48,019 - PremierLeagueLogger - INFO - Fitting model\n",
      "INFO:PremierLeagueLogger:Fitting model\n",
      "2023-11-30 08:02:54,919 - PremierLeagueLogger - INFO - Loss: 1.1675952183932463\n",
      "INFO:PremierLeagueLogger:Loss: 1.1675952183932463\n"
     ]
    },
    {
     "name": "stdout",
     "output_type": "stream",
     "text": [
      " 50%|███████████████████████████████████████████████████████████████████                                                                   | 10/20 [00:58<01:06,  6.62s/trial, best loss: 1.1557390991189571]"
     ]
    },
    {
     "name": "stderr",
     "output_type": "stream",
     "text": [
      "2023-11-30 08:02:56,461 - PremierLeagueLogger - INFO - CatBoost initialized\n",
      "INFO:PremierLeagueLogger:CatBoost initialized\n",
      "2023-11-30 08:02:57,957 - PremierLeagueLogger - INFO - Fitting model\n",
      "INFO:PremierLeagueLogger:Fitting model\n",
      "2023-11-30 08:02:59,758 - PremierLeagueLogger - INFO - Loss: 1.1602511697599105\n",
      "INFO:PremierLeagueLogger:Loss: 1.1602511697599105\n"
     ]
    },
    {
     "name": "stdout",
     "output_type": "stream",
     "text": [
      " 55%|█████████████████████████████████████████████████████████████████████████▋                                                            | 11/20 [01:03<00:54,  6.06s/trial, best loss: 1.1557390991189571]"
     ]
    },
    {
     "name": "stderr",
     "output_type": "stream",
     "text": [
      "2023-11-30 08:03:01,252 - PremierLeagueLogger - INFO - CatBoost initialized\n",
      "INFO:PremierLeagueLogger:CatBoost initialized\n",
      "2023-11-30 08:03:02,774 - PremierLeagueLogger - INFO - Fitting model\n",
      "INFO:PremierLeagueLogger:Fitting model\n",
      "2023-11-30 08:03:08,480 - PremierLeagueLogger - INFO - Loss: 1.1675952183932463\n",
      "INFO:PremierLeagueLogger:Loss: 1.1675952183932463\n"
     ]
    },
    {
     "name": "stdout",
     "output_type": "stream",
     "text": [
      " 60%|████████████████████████████████████████████████████████████████████████████████▍                                                     | 12/20 [01:12<00:55,  6.92s/trial, best loss: 1.1557390991189571]"
     ]
    },
    {
     "name": "stderr",
     "output_type": "stream",
     "text": [
      "2023-11-30 08:03:10,138 - PremierLeagueLogger - INFO - CatBoost initialized\n",
      "INFO:PremierLeagueLogger:CatBoost initialized\n",
      "2023-11-30 08:03:11,639 - PremierLeagueLogger - INFO - Fitting model\n",
      "INFO:PremierLeagueLogger:Fitting model\n",
      "2023-11-30 08:03:13,539 - PremierLeagueLogger - INFO - Loss: 1.1572916638563038\n",
      "INFO:PremierLeagueLogger:Loss: 1.1572916638563038\n"
     ]
    },
    {
     "name": "stdout",
     "output_type": "stream",
     "text": [
      " 65%|███████████████████████████████████████████████████████████████████████████████████████                                               | 13/20 [01:17<00:44,  6.30s/trial, best loss: 1.1557390991189571]"
     ]
    },
    {
     "name": "stderr",
     "output_type": "stream",
     "text": [
      "2023-11-30 08:03:15,022 - PremierLeagueLogger - INFO - CatBoost initialized\n",
      "INFO:PremierLeagueLogger:CatBoost initialized\n",
      "2023-11-30 08:03:16,574 - PremierLeagueLogger - INFO - Fitting model\n",
      "INFO:PremierLeagueLogger:Fitting model\n",
      "2023-11-30 08:03:18,595 - PremierLeagueLogger - INFO - Loss: 1.1654881738893172\n",
      "INFO:PremierLeagueLogger:Loss: 1.1654881738893172\n"
     ]
    },
    {
     "name": "stdout",
     "output_type": "stream",
     "text": [
      " 70%|█████████████████████████████████████████████████████████████████████████████████████████████▊                                        | 14/20 [01:22<00:35,  5.92s/trial, best loss: 1.1557390991189571]"
     ]
    },
    {
     "name": "stderr",
     "output_type": "stream",
     "text": [
      "2023-11-30 08:03:20,062 - PremierLeagueLogger - INFO - CatBoost initialized\n",
      "INFO:PremierLeagueLogger:CatBoost initialized\n",
      "2023-11-30 08:03:21,519 - PremierLeagueLogger - INFO - Fitting model\n",
      "INFO:PremierLeagueLogger:Fitting model\n",
      "2023-11-30 08:03:23,986 - PremierLeagueLogger - INFO - Loss: 1.157871548318671\n",
      "INFO:PremierLeagueLogger:Loss: 1.157871548318671\n"
     ]
    },
    {
     "name": "stdout",
     "output_type": "stream",
     "text": [
      " 75%|████████████████████████████████████████████████████████████████████████████████████████████████████▌                                 | 15/20 [01:28<00:29,  5.83s/trial, best loss: 1.1557390991189571]"
     ]
    },
    {
     "name": "stderr",
     "output_type": "stream",
     "text": [
      "2023-11-30 08:03:25,674 - PremierLeagueLogger - INFO - CatBoost initialized\n",
      "INFO:PremierLeagueLogger:CatBoost initialized\n",
      "2023-11-30 08:03:27,142 - PremierLeagueLogger - INFO - Fitting model\n",
      "INFO:PremierLeagueLogger:Fitting model\n",
      "2023-11-30 08:03:29,246 - PremierLeagueLogger - INFO - Loss: 1.1634660414307492\n",
      "INFO:PremierLeagueLogger:Loss: 1.1634660414307492\n"
     ]
    },
    {
     "name": "stdout",
     "output_type": "stream",
     "text": [
      " 80%|███████████████████████████████████████████████████████████████████████████████████████████████████████████▏                          | 16/20 [01:33<00:22,  5.59s/trial, best loss: 1.1557390991189571]"
     ]
    },
    {
     "name": "stderr",
     "output_type": "stream",
     "text": [
      "2023-11-30 08:03:30,718 - PremierLeagueLogger - INFO - CatBoost initialized\n",
      "INFO:PremierLeagueLogger:CatBoost initialized\n",
      "2023-11-30 08:03:32,321 - PremierLeagueLogger - INFO - Fitting model\n",
      "INFO:PremierLeagueLogger:Fitting model\n",
      "2023-11-30 08:03:34,093 - PremierLeagueLogger - INFO - Loss: 1.1582704652117253\n",
      "INFO:PremierLeagueLogger:Loss: 1.1582704652117253\n"
     ]
    },
    {
     "name": "stdout",
     "output_type": "stream",
     "text": [
      " 85%|█████████████████████████████████████████████████████████████████████████████████████████████████████████████████▉                    | 17/20 [01:38<00:16,  5.38s/trial, best loss: 1.1557390991189571]"
     ]
    },
    {
     "name": "stderr",
     "output_type": "stream",
     "text": [
      "2023-11-30 08:03:35,595 - PremierLeagueLogger - INFO - CatBoost initialized\n",
      "INFO:PremierLeagueLogger:CatBoost initialized\n",
      "2023-11-30 08:03:37,072 - PremierLeagueLogger - INFO - Fitting model\n",
      "INFO:PremierLeagueLogger:Fitting model\n",
      "2023-11-30 08:03:38,895 - PremierLeagueLogger - INFO - Loss: 1.1670785692008712\n",
      "INFO:PremierLeagueLogger:Loss: 1.1670785692008712\n"
     ]
    },
    {
     "name": "stdout",
     "output_type": "stream",
     "text": [
      " 90%|████████████████████████████████████████████████████████████████████████████████████████████████████████████████████████▌             | 18/20 [01:42<00:10,  5.24s/trial, best loss: 1.1557390991189571]"
     ]
    },
    {
     "name": "stderr",
     "output_type": "stream",
     "text": [
      "2023-11-30 08:03:40,508 - PremierLeagueLogger - INFO - CatBoost initialized\n",
      "INFO:PremierLeagueLogger:CatBoost initialized\n",
      "2023-11-30 08:03:42,114 - PremierLeagueLogger - INFO - Fitting model\n",
      "INFO:PremierLeagueLogger:Fitting model\n",
      "2023-11-30 08:03:44,308 - PremierLeagueLogger - INFO - Loss: 1.1654881738893172\n",
      "INFO:PremierLeagueLogger:Loss: 1.1654881738893172\n"
     ]
    },
    {
     "name": "stdout",
     "output_type": "stream",
     "text": [
      " 95%|███████████████████████████████████████████████████████████████████████████████████████████████████████████████████████████████▎      | 19/20 [01:48<00:05,  5.27s/trial, best loss: 1.1557390991189571]"
     ]
    },
    {
     "name": "stderr",
     "output_type": "stream",
     "text": [
      "2023-11-30 08:03:45,865 - PremierLeagueLogger - INFO - CatBoost initialized\n",
      "INFO:PremierLeagueLogger:CatBoost initialized\n",
      "2023-11-30 08:03:47,343 - PremierLeagueLogger - INFO - Fitting model\n",
      "INFO:PremierLeagueLogger:Fitting model\n",
      "2023-11-30 08:03:49,489 - PremierLeagueLogger - INFO - Loss: 1.1657959760951837\n",
      "INFO:PremierLeagueLogger:Loss: 1.1657959760951837\n"
     ]
    },
    {
     "name": "stdout",
     "output_type": "stream",
     "text": [
      "100%|██████████████████████████████████████████████████████████████████████████████████████████████████████████████████████████████████████| 20/20 [01:53<00:00,  5.68s/trial, best loss: 1.1557390991189571]\n"
     ]
    }
   ],
   "source": [
    "hyperparameters = training.optimise_hyperparameters(\n",
    "    training_data.drop(['FTR', 'FTHG'], axis=1),\n",
    "    'FTAG',\n",
    "    classification=False,\n",
    "    max_evals=constants.MAX_EVALS\n",
    ")"
   ]
  },
  {
   "cell_type": "code",
   "execution_count": 44,
   "id": "28969333-fe52-4535-9555-25f8d54ad9e3",
   "metadata": {},
   "outputs": [
    {
     "name": "stderr",
     "output_type": "stream",
     "text": [
      "2023-11-30 08:03:51,085 - PremierLeagueLogger - INFO - Training Model\n",
      "INFO:PremierLeagueLogger:Training Model\n",
      "2023-11-30 08:03:54,822 - PremierLeagueLogger - INFO - Logging parameters to MLFlow\n",
      "INFO:PremierLeagueLogger:Logging parameters to MLFlow\n",
      "WARNING:py.warnings:/Users/david@inawisdom.com/.pyenv/versions/3.10.1/lib/python3.10/importlib/__init__.py:126: DeprecationWarning:\n",
      "\n",
      "The distutils package is deprecated and slated for removal in Python 3.12. Use setuptools or check PEP 632 for potential alternatives\n",
      "\n",
      "\n"
     ]
    }
   ],
   "source": [
    "regressor_2, run_id_away = training.train_model(\n",
    "    training_data.drop(['FTR', 'FTHG','FTAG'], axis=1),\n",
    "    training_data['FTAG'],\n",
    "    model_type='away',\n",
    "    verbose=False,\n",
    "    hyperparameters = hyperparameters\n",
    ")"
   ]
  },
  {
   "cell_type": "code",
   "execution_count": 45,
   "id": "00f0b231-1be6-4305-8ce8-8efd0ade6372",
   "metadata": {},
   "outputs": [
    {
     "name": "stderr",
     "output_type": "stream",
     "text": [
      "2023-11-30 08:04:07,796 - PremierLeagueLogger - INFO - Saving transformer to premier-league-app/app_data/models/away_regress_model_v2_20231130.pkl\n",
      "INFO:PremierLeagueLogger:Saving transformer to premier-league-app/app_data/models/away_regress_model_v2_20231130.pkl\n",
      "2023-11-30 08:04:10,877 - PremierLeagueLogger - INFO - Transformer saved to premier-league-app/app_data/models/away_regress_model_v2_20231130.pkl\n",
      "INFO:PremierLeagueLogger:Transformer saved to premier-league-app/app_data/models/away_regress_model_v2_20231130.pkl\n"
     ]
    }
   ],
   "source": [
    "s3_helpers.save_transformer_s3_pickle(\n",
    "    regressor_2, \n",
    "    constants.AWAY_MODEL_NAME,\n",
    "    is_transformer=False\n",
    ")"
   ]
  },
  {
   "cell_type": "markdown",
   "id": "2f52b858-bd52-42b6-801d-a4a6c9f005c4",
   "metadata": {},
   "source": [
    "### Predict Home Goals"
   ]
  },
  {
   "cell_type": "code",
   "execution_count": 46,
   "id": "218abb44-a810-4fd8-9b1b-d4ecbb0c6961",
   "metadata": {},
   "outputs": [],
   "source": [
    "y_test = testing_data['FTHG']\n",
    "x_test = testing_data.copy()"
   ]
  },
  {
   "cell_type": "code",
   "execution_count": 47,
   "id": "31f43c4c-f014-4d01-bf97-7c1915fa3c7c",
   "metadata": {},
   "outputs": [
    {
     "name": "stderr",
     "output_type": "stream",
     "text": [
      "2023-11-30 08:04:12,550 - PremierLeagueLogger - INFO - Making Predictions\n",
      "INFO:PremierLeagueLogger:Making Predictions\n"
     ]
    }
   ],
   "source": [
    "predictions_1 = prediction.predict(x_test, regressor_1)"
   ]
  },
  {
   "cell_type": "code",
   "execution_count": 48,
   "id": "3536d818-f467-4e84-b338-47cd5aaabfb2",
   "metadata": {},
   "outputs": [
    {
     "name": "stderr",
     "output_type": "stream",
     "text": [
      "2023-11-30 08:04:14,074 - PremierLeagueLogger - INFO - Evaluating home model\n",
      "INFO:PremierLeagueLogger:Evaluating home model\n",
      "2023-11-30 08:04:20,130 - PremierLeagueLogger - INFO - logging evaluation metrics to mlflow\n",
      "INFO:PremierLeagueLogger:logging evaluation metrics to mlflow\n"
     ]
    },
    {
     "data": {
      "text/plain": [
       "{'r2_score': 0.08869830349070373,\n",
       " 'median_ae': 1.0,\n",
       " 'mean_ae': 0.9382544103992572}"
      ]
     },
     "execution_count": 48,
     "metadata": {},
     "output_type": "execute_result"
    }
   ],
   "source": [
    "evaluation_metrics = evaluation.evaluate_model(\n",
    "    predictions_1, \n",
    "    y_test, \n",
    "    model_type='home',\n",
    "    run_id=run_id_home    \n",
    ")\n",
    "evaluation_metrics"
   ]
  },
  {
   "cell_type": "markdown",
   "id": "1b153762-072d-4a64-bfd1-27320344e55b",
   "metadata": {},
   "source": [
    "### Predict Away Goals"
   ]
  },
  {
   "cell_type": "code",
   "execution_count": 49,
   "id": "4bd9d15a-0527-4e4f-8c7b-e7904c6c3221",
   "metadata": {},
   "outputs": [],
   "source": [
    "y_test = testing_data['FTAG']\n",
    "x_test = testing_data.copy()"
   ]
  },
  {
   "cell_type": "code",
   "execution_count": 50,
   "id": "9dd1606b-309a-4258-8c07-c77999d153f0",
   "metadata": {},
   "outputs": [
    {
     "name": "stderr",
     "output_type": "stream",
     "text": [
      "2023-11-30 08:04:26,712 - PremierLeagueLogger - INFO - Making Predictions\n",
      "INFO:PremierLeagueLogger:Making Predictions\n"
     ]
    }
   ],
   "source": [
    "predictions_2 = prediction.predict(\n",
    "    x_test, classifier)"
   ]
  },
  {
   "cell_type": "code",
   "execution_count": 51,
   "id": "51896e4c-2c78-4993-b402-8ba46a6db0d0",
   "metadata": {},
   "outputs": [
    {
     "name": "stderr",
     "output_type": "stream",
     "text": [
      "2023-11-30 08:04:28,377 - PremierLeagueLogger - INFO - Evaluating away model\n",
      "INFO:PremierLeagueLogger:Evaluating away model\n",
      "2023-11-30 08:04:34,541 - PremierLeagueLogger - INFO - logging evaluation metrics to mlflow\n",
      "INFO:PremierLeagueLogger:logging evaluation metrics to mlflow\n"
     ]
    },
    {
     "data": {
      "text/plain": [
       "{'r2_score': -0.26404712074691417,\n",
       " 'median_ae': 1.0,\n",
       " 'mean_ae': 0.8904363974001857}"
      ]
     },
     "execution_count": 51,
     "metadata": {},
     "output_type": "execute_result"
    }
   ],
   "source": [
    "evaluation_metrics = evaluation.evaluate_model(\n",
    "    predictions_2, \n",
    "    y_test, \n",
    "    model_type='away',\n",
    "    run_id=run_id_away\n",
    ")\n",
    "evaluation_metrics"
   ]
  },
  {
   "cell_type": "code",
   "execution_count": 52,
   "id": "b26612c5-d5e0-45be-a474-bbe99d5516e5",
   "metadata": {},
   "outputs": [
    {
     "name": "stderr",
     "output_type": "stream",
     "text": [
      "2023-11-30 08:04:42,708 - PremierLeagueLogger - INFO - Stopping RDS instance 'premier-league-logging'\n",
      "INFO:PremierLeagueLogger:Stopping RDS instance 'premier-league-logging'\n"
     ]
    }
   ],
   "source": [
    "# Close DB Instance\n",
    "postgres.stop_rds_instance(\n",
    "    constants.POSTGRES_DB_ID\n",
    ")"
   ]
  },
  {
   "cell_type": "markdown",
   "id": "03fb68aa-9841-43f9-bd6b-af1644f5438c",
   "metadata": {},
   "source": [
    "### Visualisations of results"
   ]
  },
  {
   "cell_type": "code",
   "execution_count": 53,
   "id": "725dad97-10a2-4fe4-a2c3-09632e80e57d",
   "metadata": {},
   "outputs": [],
   "source": [
    "x_test['Home Prediction'] = predictions_1\n",
    "x_test['Away Prediction'] = predictions_2"
   ]
  },
  {
   "cell_type": "code",
   "execution_count": 54,
   "id": "39b9cc58-919a-47e1-82d6-8d3b3e6c4371",
   "metadata": {},
   "outputs": [
    {
     "data": {
      "image/png": "[encoded data removed]",
      "text/plain": [
       "<Figure size 640x480 with 1 Axes>"
      ]
     },
     "metadata": {},
     "output_type": "display_data"
    }
   ],
   "source": [
    "visualisations.histoplot(x_test, ha='Home')"
   ]
  },
  {
   "cell_type": "code",
   "execution_count": 55,
   "id": "95437786-9a2a-4d63-a2a3-2156993738dc",
   "metadata": {},
   "outputs": [
    {
     "data": {
      "image/png": "[encoded data removed]",
      "text/plain": [
       "<Figure size 640x480 with 1 Axes>"
      ]
     },
     "metadata": {},
     "output_type": "display_data"
    }
   ],
   "source": [
    "visualisations.histoplot(x_test, ha='Away')"
   ]
  },
  {
   "cell_type": "code",
   "execution_count": 56,
   "id": "3f422e75-3e5a-4d8d-89f2-2749aa602912",
   "metadata": {},
   "outputs": [
    {
     "data": {
      "image/png": "[encoded data removed]",
      "text/plain": [
       "<Figure size 640x480 with 1 Axes>"
      ]
     },
     "metadata": {},
     "output_type": "display_data"
    }
   ],
   "source": [
    "visualisations.actuals_predicted(x_test, ha='Home')"
   ]
  },
  {
   "cell_type": "code",
   "execution_count": 57,
   "id": "a18849ec-4b7d-4adc-933c-7126a4e52fed",
   "metadata": {},
   "outputs": [
    {
     "data": {
      "image/png": "[encoded data removed]",
      "text/plain": [
       "<Figure size 640x480 with 1 Axes>"
      ]
     },
     "metadata": {},
     "output_type": "display_data"
    }
   ],
   "source": [
    "visualisations.actuals_predicted(x_test, ha='Away')"
   ]
  },
  {
   "cell_type": "code",
   "execution_count": 58,
   "id": "afef6e5c-b729-4482-91c5-4dee3739c9d8",
   "metadata": {},
   "outputs": [
    {
     "data": {
      "image/png": "[encoded data removed]",
      "text/plain": [
       "<Figure size 640x480 with 1 Axes>"
      ]
     },
     "metadata": {},
     "output_type": "display_data"
    }
   ],
   "source": [
    "visualisations.plot_features(regressor_1, 'Home',n=20)"
   ]
  },
  {
   "cell_type": "code",
   "execution_count": 59,
   "id": "d8d0672d-c76b-47ce-a029-2ebb2fbb1a6f",
   "metadata": {},
   "outputs": [
    {
     "data": {
      "image/png": "[encoded data removed]",
      "text/plain": [
       "<Figure size 640x480 with 1 Axes>"
      ]
     },
     "metadata": {},
     "output_type": "display_data"
    }
   ],
   "source": [
    "visualisations.plot_features(regressor_2, 'Away')"
   ]
  }
 ],
 "metadata": {
  "kernelspec": {
   "display_name": "env_premier_league",
   "language": "python",
   "name": "env_premier_league"
  },
  "language_info": {
   "codemirror_mode": {
    "name": "ipython",
    "version": 3
   },
   "file_extension": ".py",
   "mimetype": "text/x-python",
   "name": "python",
   "nbconvert_exporter": "python",
   "pygments_lexer": "ipython3",
   "version": "3.10.1"
  }
 },
 "nbformat": 4,
 "nbformat_minor": 5
}
