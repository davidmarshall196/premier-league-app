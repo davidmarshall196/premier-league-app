


import sys
sys.path.append('../')
try:
    from premier_league import constants
    from premier_league import code_quality_functions
except ModuleNotFoundError:
    import constants
    import code_quality_functions


import os
os.getcwd()





# Run unit tests

if constants.LOCAL_MODE:
    path_prefix = '/Users/david@inawisdom.com/Documents/Training/premier_league'
    test_path = (f'{path_prefix}/tests/run_tests.py')
    r = code_quality_functions.run_unit_tests(
        '../tests/test_inference_pipeline.py',
        'premier_league'
    )


if constants.LOCAL_MODE:
    path_prefix = '/Users/david@inawisdom.com/Documents/Training/premier_league'
    test_path = (f'{path_prefix}/tests/run_tests.py')
    r = code_quality_functions.run_unit_tests(
        '../tests/',
        'premier_league',
        'premier_league'
    )


help(code_quality_functions.run_unit_tests)





if constants.LOCAL_MODE:
    code_quality_functions.run_code_quality_checks(
        '../premier_league',
        exclude_folder='../premier_league/.ipynb_checkpoints/'
    )



