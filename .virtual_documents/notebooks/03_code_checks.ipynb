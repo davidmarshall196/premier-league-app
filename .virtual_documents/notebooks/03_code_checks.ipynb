


try:
    from premier_league import constants
    from premier_league import code_quality_functions
except ImportError:
    import constants
    import code_quality_functions





# Run unit tests
if constants.LOCAL_MODE:
    test_path = (
        '/Users/david@inawisdom.com/Documents/Training/premier_league/tests/run_tests.py')
    r = code_quality_functions.run_unit_tests(
        'test_preprocessing.py',
        'premier_league',
        'premier_league'
    )





if constants.LOCAL_MODE:
    code_quality_functions.run_code_quality_checks(
        'premier_league'
    )
