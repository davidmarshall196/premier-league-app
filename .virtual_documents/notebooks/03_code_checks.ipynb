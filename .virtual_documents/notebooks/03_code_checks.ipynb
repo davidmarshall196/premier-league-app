


import sys
sys.path.append('../')
try:
    from premier_league import constants
    from premier_league import code_quality_functions
except ModuleNotFoundError:
    import constants
    import code_quality_functions
import os





#os.chdir('../')
#path_prefix = os.getcwd()
#test_path = (f'{path_prefix}/tests/run_tests.py')
r = code_quality_functions.run_unit_tests(
    '../tests/',
    'premier_league',
    'premier_league'
)





code_quality_functions.run_code_quality_checks(
        '../premier_league',
        exclude_folder='../premier_league/.ipynb_checkpoints/'
)



